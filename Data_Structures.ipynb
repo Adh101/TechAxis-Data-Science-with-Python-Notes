{
  "nbformat": 4,
  "nbformat_minor": 0,
  "metadata": {
    "colab": {
      "provenance": [],
      "authorship_tag": "ABX9TyNVd/jFV4Vzw0CAKwmFwh0z",
      "include_colab_link": true
    },
    "kernelspec": {
      "name": "python3",
      "display_name": "Python 3"
    },
    "language_info": {
      "name": "python"
    }
  },
  "cells": [
    {
      "cell_type": "markdown",
      "metadata": {
        "id": "view-in-github",
        "colab_type": "text"
      },
      "source": [
        "<a href=\"https://colab.research.google.com/github/Adh101/TechAxis-Data-Science-with-Python-Notes/blob/main/Data_Structures.ipynb\" target=\"_parent\"><img src=\"https://colab.research.google.com/assets/colab-badge.svg\" alt=\"Open In Colab\"/></a>"
      ]
    },
    {
      "cell_type": "markdown",
      "source": [
        "# Data Structures in Python"
      ],
      "metadata": {
        "id": "_WcasLdZh2LV"
      }
    },
    {
      "cell_type": "markdown",
      "source": [
        "**Existing Data Structures:** *int,float, str, bool, double*\n",
        "\n",
        "**Problems with existing data types:**\n",
        "\n",
        "\n",
        "\n",
        "*  Data in variable can only be stored in single format. i.e either int or str or decimals\n",
        "*  Too many variables creation to store multiple data types, causing use of large space in memory.\n",
        "\n",
        "*   Unable to store large structure of data\n",
        "\n",
        "\n",
        "To solve this problems, Python have two data structures:\n",
        "\n",
        "\n",
        "1.   Lists\n",
        "\n",
        "2.   Dictionaries\n",
        "\n",
        "\n",
        "\n",
        "\n",
        "\n"
      ],
      "metadata": {
        "id": "3W0-p8tDh-p4"
      }
    },
    {
      "cell_type": "markdown",
      "source": [
        "**Lists:**\n",
        "- ordered data structures where elements are spearated by comma(,) inside the square brackests [ ].\n",
        "\n",
        "For example:\n",
        "        \n",
        "        num_list = [1,2,3,4,5] #single datatype list\n",
        "        str_list = [ \"I\",\"love\", \"Python\"]\n",
        "\n",
        "        mixed_list = [1,\"I\",\"love\",3,\"lists\"] #mixed datatype list"
      ],
      "metadata": {
        "id": "cjltpbghj_gY"
      }
    },
    {
      "cell_type": "code",
      "source": [
        "#create a list\n",
        "\n",
        "mixed_list = [1,\"Python\",2,\"is\",3,\"awesome\"]"
      ],
      "metadata": {
        "id": "RSNulse7lMR5"
      },
      "execution_count": 1,
      "outputs": []
    },
    {
      "cell_type": "code",
      "source": [
        "type(mixed_list)"
      ],
      "metadata": {
        "colab": {
          "base_uri": "https://localhost:8080/"
        },
        "id": "k3qUP_eOlb-q",
        "outputId": "0e922a2a-3a63-4932-dbf1-6cafdaf6215a"
      },
      "execution_count": 4,
      "outputs": [
        {
          "output_type": "execute_result",
          "data": {
            "text/plain": [
              "list"
            ]
          },
          "metadata": {},
          "execution_count": 4
        }
      ]
    },
    {
      "cell_type": "code",
      "source": [
        "type(mixed_list[1])"
      ],
      "metadata": {
        "colab": {
          "base_uri": "https://localhost:8080/"
        },
        "id": "DSaw7SpT-Jpx",
        "outputId": "bd044b91-60b3-466c-d500-9eb605923b6b"
      },
      "execution_count": 7,
      "outputs": [
        {
          "output_type": "execute_result",
          "data": {
            "text/plain": [
              "str"
            ]
          },
          "metadata": {},
          "execution_count": 7
        }
      ]
    },
    {
      "cell_type": "markdown",
      "source": [
        "**Sub-setting the list:**\n",
        "- Accessing the elements in the lists,\n",
        "- Elements are stored with their index, index starts from 0."
      ],
      "metadata": {
        "id": "VAkc3tgmlkbc"
      }
    },
    {
      "cell_type": "code",
      "source": [
        "mixed_list"
      ],
      "metadata": {
        "colab": {
          "base_uri": "https://localhost:8080/"
        },
        "id": "TyjFp2UZlfpt",
        "outputId": "6ecd87b2-b728-49aa-92e5-f7e1d88ae550"
      },
      "execution_count": 8,
      "outputs": [
        {
          "output_type": "execute_result",
          "data": {
            "text/plain": [
              "[1, 'Python', 2, 'is', 3, 'awesome']"
            ]
          },
          "metadata": {},
          "execution_count": 8
        }
      ]
    },
    {
      "cell_type": "code",
      "source": [
        "mixed_list[1] #returns Python"
      ],
      "metadata": {
        "colab": {
          "base_uri": "https://localhost:8080/",
          "height": 35
        },
        "id": "0E6YkNZ5mQKK",
        "outputId": "039ebb38-2b28-4e3f-a1d0-c21786bbaf82"
      },
      "execution_count": 9,
      "outputs": [
        {
          "output_type": "execute_result",
          "data": {
            "text/plain": [
              "'Python'"
            ],
            "application/vnd.google.colaboratory.intrinsic+json": {
              "type": "string"
            }
          },
          "metadata": {},
          "execution_count": 9
        }
      ]
    },
    {
      "cell_type": "code",
      "source": [
        "mixed_list[0]"
      ],
      "metadata": {
        "colab": {
          "base_uri": "https://localhost:8080/"
        },
        "id": "WIguBFGImV3A",
        "outputId": "862e0ad1-4b6d-45cf-8460-f8e176dd5bd9"
      },
      "execution_count": 10,
      "outputs": [
        {
          "output_type": "execute_result",
          "data": {
            "text/plain": [
              "1"
            ]
          },
          "metadata": {},
          "execution_count": 10
        }
      ]
    },
    {
      "cell_type": "code",
      "source": [
        "#to extract sequence of elements\n",
        "mixed_list[2:4]"
      ],
      "metadata": {
        "colab": {
          "base_uri": "https://localhost:8080/"
        },
        "id": "Frh_0Hbnmhzf",
        "outputId": "4269667f-fb6c-47dc-ef3e-7993776523dc"
      },
      "execution_count": 13,
      "outputs": [
        {
          "output_type": "execute_result",
          "data": {
            "text/plain": [
              "[2, 'is']"
            ]
          },
          "metadata": {},
          "execution_count": 13
        }
      ]
    },
    {
      "cell_type": "code",
      "source": [
        "mixed_list[0:3]"
      ],
      "metadata": {
        "colab": {
          "base_uri": "https://localhost:8080/"
        },
        "id": "GvQ7uL82mn3F",
        "outputId": "727af40c-1f48-4d80-e5f9-29b3ed694f11"
      },
      "execution_count": null,
      "outputs": [
        {
          "output_type": "execute_result",
          "data": {
            "text/plain": [
              "[1, 'Python', 2]"
            ]
          },
          "metadata": {},
          "execution_count": 7
        }
      ]
    },
    {
      "cell_type": "code",
      "source": [
        "#to extract the element using negative index\n",
        "mixed_list[-1]"
      ],
      "metadata": {
        "colab": {
          "base_uri": "https://localhost:8080/",
          "height": 35
        },
        "id": "O1SqQlttm0mL",
        "outputId": "4175faf0-a791-4c55-9c84-c6d892165dbb"
      },
      "execution_count": 14,
      "outputs": [
        {
          "output_type": "execute_result",
          "data": {
            "text/plain": [
              "'awesome'"
            ],
            "application/vnd.google.colaboratory.intrinsic+json": {
              "type": "string"
            }
          },
          "metadata": {},
          "execution_count": 14
        }
      ]
    },
    {
      "cell_type": "code",
      "source": [
        "mixed_list[-2]"
      ],
      "metadata": {
        "colab": {
          "base_uri": "https://localhost:8080/"
        },
        "id": "3UU_zhPQm6Sg",
        "outputId": "eeb3f308-38ad-4ca2-a405-db6752181740"
      },
      "execution_count": 15,
      "outputs": [
        {
          "output_type": "execute_result",
          "data": {
            "text/plain": [
              "3"
            ]
          },
          "metadata": {},
          "execution_count": 15
        }
      ]
    },
    {
      "cell_type": "markdown",
      "source": [
        "**Adding elements to the lists:**"
      ],
      "metadata": {
        "id": "v7RXKKsgnPhX"
      }
    },
    {
      "cell_type": "code",
      "source": [
        "mixed_list"
      ],
      "metadata": {
        "colab": {
          "base_uri": "https://localhost:8080/"
        },
        "id": "RJfJ6fTNATj2",
        "outputId": "507c5f51-472f-4b11-bca8-8ddd479d3f0e"
      },
      "execution_count": 16,
      "outputs": [
        {
          "output_type": "execute_result",
          "data": {
            "text/plain": [
              "[1, 'Python', 2, 'is', 3, 'awesome']"
            ]
          },
          "metadata": {},
          "execution_count": 16
        }
      ]
    },
    {
      "cell_type": "code",
      "source": [
        "#to modify elements\n",
        "mixed_list[4] = 5\n",
        "mixed_list"
      ],
      "metadata": {
        "colab": {
          "base_uri": "https://localhost:8080/"
        },
        "id": "_EZZ7KG_oDwm",
        "outputId": "bc4a74b9-11b1-4e6b-fb55-71ebdbcf25f5"
      },
      "execution_count": null,
      "outputs": [
        {
          "output_type": "execute_result",
          "data": {
            "text/plain": [
              "[1, 'Python', 2, 'is', 5, 'awesome']"
            ]
          },
          "metadata": {},
          "execution_count": 21
        }
      ]
    },
    {
      "cell_type": "code",
      "source": [
        "#to add single element\n",
        "mixed_list.append(6)\n",
        "mixed_list"
      ],
      "metadata": {
        "colab": {
          "base_uri": "https://localhost:8080/"
        },
        "id": "3IzxKeXYoJmk",
        "outputId": "d563c211-8470-449b-eba5-eb391493306e"
      },
      "execution_count": null,
      "outputs": [
        {
          "output_type": "execute_result",
          "data": {
            "text/plain": [
              "[1, 'Python', 2, 'is', 5, 'awesome', 6]"
            ]
          },
          "metadata": {},
          "execution_count": 22
        }
      ]
    },
    {
      "cell_type": "code",
      "source": [
        "mixed_list.append(\"Hello\")\n",
        "mixed_list"
      ],
      "metadata": {
        "colab": {
          "base_uri": "https://localhost:8080/"
        },
        "id": "OGWF3UrvoRRx",
        "outputId": "f5974b91-384f-478a-9e3b-af20b3f4188b"
      },
      "execution_count": null,
      "outputs": [
        {
          "output_type": "execute_result",
          "data": {
            "text/plain": [
              "[1, 'Python', 2, 'is', 5, 'awesome', 6, 'Hello']"
            ]
          },
          "metadata": {},
          "execution_count": 23
        }
      ]
    },
    {
      "cell_type": "code",
      "source": [
        "#to add multiple elements\n",
        "mixed_list.extend([7,8])"
      ],
      "metadata": {
        "id": "JkBTYVDwoYFu"
      },
      "execution_count": null,
      "outputs": []
    },
    {
      "cell_type": "code",
      "source": [
        "mixed_list"
      ],
      "metadata": {
        "colab": {
          "base_uri": "https://localhost:8080/"
        },
        "id": "X2OV3VpQoear",
        "outputId": "38a1719d-be06-4522-be03-727e7ed05391"
      },
      "execution_count": null,
      "outputs": [
        {
          "output_type": "execute_result",
          "data": {
            "text/plain": [
              "[1, 'Python', 2, 'is', 5, 'awesome', 6, 'Hello', 7, 8]"
            ]
          },
          "metadata": {},
          "execution_count": 25
        }
      ]
    },
    {
      "cell_type": "code",
      "source": [
        "mixed_list.extend(['Good morning','everyone'])\n",
        "mixed_list"
      ],
      "metadata": {
        "colab": {
          "base_uri": "https://localhost:8080/"
        },
        "id": "a961Y4ifoivv",
        "outputId": "92a719d7-9010-4b70-aa63-94dfeedfe98c"
      },
      "execution_count": null,
      "outputs": [
        {
          "output_type": "execute_result",
          "data": {
            "text/plain": [
              "[1,\n",
              " 'Python',\n",
              " 2,\n",
              " 'is',\n",
              " 5,\n",
              " 'awesome',\n",
              " 6,\n",
              " 'Hello',\n",
              " 7,\n",
              " 8,\n",
              " 'Good morning',\n",
              " 'everyone']"
            ]
          },
          "metadata": {},
          "execution_count": 26
        }
      ]
    },
    {
      "cell_type": "code",
      "source": [
        "#adding list to a list\n",
        "\n",
        "list1 = [1,2,3,4,5]"
      ],
      "metadata": {
        "id": "gLFauVgzo882"
      },
      "execution_count": null,
      "outputs": []
    },
    {
      "cell_type": "code",
      "source": [
        "list1.append([7,8])"
      ],
      "metadata": {
        "id": "ZNjyEBzupDZ4"
      },
      "execution_count": null,
      "outputs": []
    },
    {
      "cell_type": "code",
      "source": [
        "list1"
      ],
      "metadata": {
        "colab": {
          "base_uri": "https://localhost:8080/"
        },
        "id": "s5ob5coDpH6-",
        "outputId": "437f6ed1-6681-4a76-cb8f-c8035fa48ea9"
      },
      "execution_count": null,
      "outputs": [
        {
          "output_type": "execute_result",
          "data": {
            "text/plain": [
              "[1, 2, 3, 4, 5, [7, 8]]"
            ]
          },
          "metadata": {},
          "execution_count": 29
        }
      ]
    },
    {
      "cell_type": "code",
      "source": [
        "list1[5]"
      ],
      "metadata": {
        "colab": {
          "base_uri": "https://localhost:8080/"
        },
        "id": "2ptnD2aWpJc1",
        "outputId": "9794655a-6473-4ae2-cc4a-5b5cbe51ab77"
      },
      "execution_count": null,
      "outputs": [
        {
          "output_type": "execute_result",
          "data": {
            "text/plain": [
              "[7, 8]"
            ]
          },
          "metadata": {},
          "execution_count": 31
        }
      ]
    },
    {
      "cell_type": "markdown",
      "source": [
        "**Deleting elements from a list:**"
      ],
      "metadata": {
        "id": "pzippioHpRvD"
      }
    },
    {
      "cell_type": "code",
      "source": [
        "mixed_list"
      ],
      "metadata": {
        "colab": {
          "base_uri": "https://localhost:8080/"
        },
        "id": "XU2vUQMSpj1t",
        "outputId": "136a5e5b-fc34-4254-8410-8920856212d9"
      },
      "execution_count": null,
      "outputs": [
        {
          "output_type": "execute_result",
          "data": {
            "text/plain": [
              "[1,\n",
              " 'Python',\n",
              " 2,\n",
              " 'is',\n",
              " 5,\n",
              " 'awesome',\n",
              " 6,\n",
              " 'Hello',\n",
              " 7,\n",
              " 8,\n",
              " 'Good morning',\n",
              " 'everyone']"
            ]
          },
          "metadata": {},
          "execution_count": 32
        }
      ]
    },
    {
      "cell_type": "code",
      "source": [
        "#deleting elements by value\n",
        "mixed_list.remove('everyone')\n",
        "mixed_list"
      ],
      "metadata": {
        "colab": {
          "base_uri": "https://localhost:8080/"
        },
        "id": "MYmS-XvcpnfP",
        "outputId": "b11a643f-0fdb-4e2e-f772-3d9b7388b3e1"
      },
      "execution_count": null,
      "outputs": [
        {
          "output_type": "execute_result",
          "data": {
            "text/plain": [
              "[1, 'Python', 2, 'is', 5, 'awesome', 6, 'Hello', 7, 8, 'Good morning']"
            ]
          },
          "metadata": {},
          "execution_count": 33
        }
      ]
    },
    {
      "cell_type": "code",
      "source": [
        "mixed_list.remove('Good morning')\n",
        "mixed_list"
      ],
      "metadata": {
        "colab": {
          "base_uri": "https://localhost:8080/"
        },
        "id": "aK6le6KTpvMB",
        "outputId": "a4229d26-8be4-4088-da38-d11077858e09"
      },
      "execution_count": null,
      "outputs": [
        {
          "output_type": "execute_result",
          "data": {
            "text/plain": [
              "[1, 'Python', 2, 'is', 5, 'awesome', 6, 'Hello', 7, 8]"
            ]
          },
          "metadata": {},
          "execution_count": 34
        }
      ]
    },
    {
      "cell_type": "code",
      "source": [
        "#deleting elements by index\n",
        "del mixed_list[9]\n",
        "mixed_list"
      ],
      "metadata": {
        "colab": {
          "base_uri": "https://localhost:8080/"
        },
        "id": "3qoqxyDUp2UE",
        "outputId": "10d38e37-78d2-4c78-f3bf-d3da53d6e77c"
      },
      "execution_count": null,
      "outputs": [
        {
          "output_type": "execute_result",
          "data": {
            "text/plain": [
              "[1, 'Python', 2, 'is', 5, 'awesome', 6, 'Hello', 7]"
            ]
          },
          "metadata": {},
          "execution_count": 35
        }
      ]
    },
    {
      "cell_type": "code",
      "source": [
        "del mixed_list[6:]"
      ],
      "metadata": {
        "id": "NQO33UHuqCMo"
      },
      "execution_count": null,
      "outputs": []
    },
    {
      "cell_type": "code",
      "source": [
        "mixed_list"
      ],
      "metadata": {
        "colab": {
          "base_uri": "https://localhost:8080/"
        },
        "id": "PfwBzW6HqJhY",
        "outputId": "0ade7d92-abc1-46e0-f598-607c571b284c"
      },
      "execution_count": null,
      "outputs": [
        {
          "output_type": "execute_result",
          "data": {
            "text/plain": [
              "[1, 'Python', 2, 'is', 5, 'awesome']"
            ]
          },
          "metadata": {},
          "execution_count": 37
        }
      ]
    },
    {
      "cell_type": "markdown",
      "source": [
        "**Looping over a list:**"
      ],
      "metadata": {
        "id": "SuU8aRRxqdio"
      }
    },
    {
      "cell_type": "code",
      "source": [
        "for i in mixed_list:\n",
        "  print(i)"
      ],
      "metadata": {
        "colab": {
          "base_uri": "https://localhost:8080/"
        },
        "id": "-0Vd4ZQ2qhpJ",
        "outputId": "5c3ab0ec-5bd2-45f8-bb1b-78585f0dfb9b"
      },
      "execution_count": null,
      "outputs": [
        {
          "output_type": "stream",
          "name": "stdout",
          "text": [
            "1\n",
            "Python\n",
            "2\n",
            "is\n",
            "5\n",
            "awesome\n"
          ]
        }
      ]
    },
    {
      "cell_type": "markdown",
      "source": [
        "**Dictionaries:**"
      ],
      "metadata": {
        "id": "z8GYxWxLr5Zc"
      }
    }
  ]
}