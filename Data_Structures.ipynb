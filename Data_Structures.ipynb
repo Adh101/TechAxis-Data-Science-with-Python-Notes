{
  "nbformat": 4,
  "nbformat_minor": 0,
  "metadata": {
    "colab": {
      "provenance": [],
      "authorship_tag": "ABX9TyPN550+4+rFkSWZxT6Y28wv",
      "include_colab_link": true
    },
    "kernelspec": {
      "name": "python3",
      "display_name": "Python 3"
    },
    "language_info": {
      "name": "python"
    }
  },
  "cells": [
    {
      "cell_type": "markdown",
      "metadata": {
        "id": "view-in-github",
        "colab_type": "text"
      },
      "source": [
        "<a href=\"https://colab.research.google.com/github/Adh101/TechAxis-Data-Science-with-Python-Notes/blob/main/Data_Structures.ipynb\" target=\"_parent\"><img src=\"https://colab.research.google.com/assets/colab-badge.svg\" alt=\"Open In Colab\"/></a>"
      ]
    },
    {
      "cell_type": "markdown",
      "source": [
        "# Data Structures in Python"
      ],
      "metadata": {
        "id": "_WcasLdZh2LV"
      }
    },
    {
      "cell_type": "markdown",
      "source": [
        "**Existing Data Structures:** *int,float, str, bool, double*\n",
        "\n",
        "**Problems with existing data types:**\n",
        "\n",
        "\n",
        "\n",
        "*  Data in variable can only be stored in single format. i.e either int or str or decimals\n",
        "*  Too many variables creation to store multiple data types, causing use of large space in memory.\n",
        "\n",
        "*   Unable to store large structure of data\n",
        "\n",
        "\n",
        "To solve this problems, Python have two data structures:\n",
        "\n",
        "\n",
        "1.   Lists\n",
        "\n",
        "2.   Dictionaries\n",
        "\n",
        "\n",
        "\n",
        "\n",
        "\n"
      ],
      "metadata": {
        "id": "3W0-p8tDh-p4"
      }
    },
    {
      "cell_type": "markdown",
      "source": [
        "**Lists:**\n",
        "- ordered data structures where elements are spearated by comma(,) inside the square brackests [ ].\n",
        "\n",
        "For example:\n",
        "        \n",
        "        num_list = [1,2,3,4,5] #single datatype list\n",
        "        str_list = [ \"I\",\"love\", \"Python\"]\n",
        "\n",
        "        mixed_list = [1,\"I\",\"love\",3,\"lists\"] #mixed datatype list"
      ],
      "metadata": {
        "id": "cjltpbghj_gY"
      }
    },
    {
      "cell_type": "code",
      "source": [
        "#create a list\n",
        "\n",
        "mixed_list = [1,\"Python\",2,\"is\",3,\"awesome\"]"
      ],
      "metadata": {
        "id": "RSNulse7lMR5"
      },
      "execution_count": null,
      "outputs": []
    },
    {
      "cell_type": "code",
      "source": [
        "type(mixed_list)"
      ],
      "metadata": {
        "colab": {
          "base_uri": "https://localhost:8080/"
        },
        "id": "k3qUP_eOlb-q",
        "outputId": "0e922a2a-3a63-4932-dbf1-6cafdaf6215a"
      },
      "execution_count": null,
      "outputs": [
        {
          "output_type": "execute_result",
          "data": {
            "text/plain": [
              "list"
            ]
          },
          "metadata": {},
          "execution_count": 4
        }
      ]
    },
    {
      "cell_type": "code",
      "source": [
        "type(mixed_list[1])"
      ],
      "metadata": {
        "colab": {
          "base_uri": "https://localhost:8080/"
        },
        "id": "DSaw7SpT-Jpx",
        "outputId": "bd044b91-60b3-466c-d500-9eb605923b6b"
      },
      "execution_count": null,
      "outputs": [
        {
          "output_type": "execute_result",
          "data": {
            "text/plain": [
              "str"
            ]
          },
          "metadata": {},
          "execution_count": 7
        }
      ]
    },
    {
      "cell_type": "markdown",
      "source": [
        "**Sub-setting the list:**\n",
        "- Accessing the elements in the lists,\n",
        "- Elements are stored with their index, index starts from 0."
      ],
      "metadata": {
        "id": "VAkc3tgmlkbc"
      }
    },
    {
      "cell_type": "code",
      "source": [
        "mixed_list"
      ],
      "metadata": {
        "colab": {
          "base_uri": "https://localhost:8080/"
        },
        "id": "TyjFp2UZlfpt",
        "outputId": "6ecd87b2-b728-49aa-92e5-f7e1d88ae550"
      },
      "execution_count": null,
      "outputs": [
        {
          "output_type": "execute_result",
          "data": {
            "text/plain": [
              "[1, 'Python', 2, 'is', 3, 'awesome']"
            ]
          },
          "metadata": {},
          "execution_count": 8
        }
      ]
    },
    {
      "cell_type": "code",
      "source": [
        "mixed_list[1] #returns Python"
      ],
      "metadata": {
        "colab": {
          "base_uri": "https://localhost:8080/",
          "height": 35
        },
        "id": "0E6YkNZ5mQKK",
        "outputId": "039ebb38-2b28-4e3f-a1d0-c21786bbaf82"
      },
      "execution_count": null,
      "outputs": [
        {
          "output_type": "execute_result",
          "data": {
            "text/plain": [
              "'Python'"
            ],
            "application/vnd.google.colaboratory.intrinsic+json": {
              "type": "string"
            }
          },
          "metadata": {},
          "execution_count": 9
        }
      ]
    },
    {
      "cell_type": "code",
      "source": [
        "mixed_list[0]"
      ],
      "metadata": {
        "colab": {
          "base_uri": "https://localhost:8080/"
        },
        "id": "WIguBFGImV3A",
        "outputId": "862e0ad1-4b6d-45cf-8460-f8e176dd5bd9"
      },
      "execution_count": null,
      "outputs": [
        {
          "output_type": "execute_result",
          "data": {
            "text/plain": [
              "1"
            ]
          },
          "metadata": {},
          "execution_count": 10
        }
      ]
    },
    {
      "cell_type": "code",
      "source": [
        "#to extract sequence of elements\n",
        "mixed_list[2:4]"
      ],
      "metadata": {
        "colab": {
          "base_uri": "https://localhost:8080/"
        },
        "id": "Frh_0Hbnmhzf",
        "outputId": "4269667f-fb6c-47dc-ef3e-7993776523dc"
      },
      "execution_count": null,
      "outputs": [
        {
          "output_type": "execute_result",
          "data": {
            "text/plain": [
              "[2, 'is']"
            ]
          },
          "metadata": {},
          "execution_count": 13
        }
      ]
    },
    {
      "cell_type": "code",
      "source": [
        "mixed_list[0:3]"
      ],
      "metadata": {
        "colab": {
          "base_uri": "https://localhost:8080/"
        },
        "id": "GvQ7uL82mn3F",
        "outputId": "727af40c-1f48-4d80-e5f9-29b3ed694f11"
      },
      "execution_count": null,
      "outputs": [
        {
          "output_type": "execute_result",
          "data": {
            "text/plain": [
              "[1, 'Python', 2]"
            ]
          },
          "metadata": {},
          "execution_count": 7
        }
      ]
    },
    {
      "cell_type": "code",
      "source": [
        "#to extract the element using negative index\n",
        "mixed_list[-1]"
      ],
      "metadata": {
        "colab": {
          "base_uri": "https://localhost:8080/",
          "height": 35
        },
        "id": "O1SqQlttm0mL",
        "outputId": "4175faf0-a791-4c55-9c84-c6d892165dbb"
      },
      "execution_count": null,
      "outputs": [
        {
          "output_type": "execute_result",
          "data": {
            "text/plain": [
              "'awesome'"
            ],
            "application/vnd.google.colaboratory.intrinsic+json": {
              "type": "string"
            }
          },
          "metadata": {},
          "execution_count": 14
        }
      ]
    },
    {
      "cell_type": "code",
      "source": [
        "mixed_list[-2]"
      ],
      "metadata": {
        "colab": {
          "base_uri": "https://localhost:8080/"
        },
        "id": "3UU_zhPQm6Sg",
        "outputId": "eeb3f308-38ad-4ca2-a405-db6752181740"
      },
      "execution_count": null,
      "outputs": [
        {
          "output_type": "execute_result",
          "data": {
            "text/plain": [
              "3"
            ]
          },
          "metadata": {},
          "execution_count": 15
        }
      ]
    },
    {
      "cell_type": "markdown",
      "source": [
        "**Adding elements to the lists:**"
      ],
      "metadata": {
        "id": "v7RXKKsgnPhX"
      }
    },
    {
      "cell_type": "code",
      "source": [
        "mixed_list"
      ],
      "metadata": {
        "id": "RJfJ6fTNATj2",
        "outputId": "507c5f51-472f-4b11-bca8-8ddd479d3f0e",
        "colab": {
          "base_uri": "https://localhost:8080/"
        }
      },
      "execution_count": null,
      "outputs": [
        {
          "output_type": "execute_result",
          "data": {
            "text/plain": [
              "[1, 'Python', 2, 'is', 3, 'awesome']"
            ]
          },
          "metadata": {},
          "execution_count": 16
        }
      ]
    },
    {
      "cell_type": "code",
      "source": [
        "#to modify elements\n",
        "mixed_list[4] = 5\n",
        "mixed_list"
      ],
      "metadata": {
        "colab": {
          "base_uri": "https://localhost:8080/"
        },
        "id": "_EZZ7KG_oDwm",
        "outputId": "bc4a74b9-11b1-4e6b-fb55-71ebdbcf25f5"
      },
      "execution_count": null,
      "outputs": [
        {
          "output_type": "execute_result",
          "data": {
            "text/plain": [
              "[1, 'Python', 2, 'is', 5, 'awesome']"
            ]
          },
          "metadata": {},
          "execution_count": 21
        }
      ]
    },
    {
      "cell_type": "code",
      "source": [
        "#to add single element\n",
        "mixed_list.append(6)\n",
        "mixed_list"
      ],
      "metadata": {
        "colab": {
          "base_uri": "https://localhost:8080/"
        },
        "id": "3IzxKeXYoJmk",
        "outputId": "d563c211-8470-449b-eba5-eb391493306e"
      },
      "execution_count": null,
      "outputs": [
        {
          "output_type": "execute_result",
          "data": {
            "text/plain": [
              "[1, 'Python', 2, 'is', 5, 'awesome', 6]"
            ]
          },
          "metadata": {},
          "execution_count": 22
        }
      ]
    },
    {
      "cell_type": "code",
      "source": [
        "mixed_list.append(\"Hello\")\n",
        "mixed_list"
      ],
      "metadata": {
        "colab": {
          "base_uri": "https://localhost:8080/"
        },
        "id": "OGWF3UrvoRRx",
        "outputId": "f5974b91-384f-478a-9e3b-af20b3f4188b"
      },
      "execution_count": null,
      "outputs": [
        {
          "output_type": "execute_result",
          "data": {
            "text/plain": [
              "[1, 'Python', 2, 'is', 5, 'awesome', 6, 'Hello']"
            ]
          },
          "metadata": {},
          "execution_count": 23
        }
      ]
    },
    {
      "cell_type": "code",
      "source": [
        "#to add multiple elements\n",
        "mixed_list.extend([7,8])"
      ],
      "metadata": {
        "id": "JkBTYVDwoYFu"
      },
      "execution_count": null,
      "outputs": []
    },
    {
      "cell_type": "code",
      "source": [
        "mixed_list"
      ],
      "metadata": {
        "colab": {
          "base_uri": "https://localhost:8080/"
        },
        "id": "X2OV3VpQoear",
        "outputId": "38a1719d-be06-4522-be03-727e7ed05391"
      },
      "execution_count": null,
      "outputs": [
        {
          "output_type": "execute_result",
          "data": {
            "text/plain": [
              "[1, 'Python', 2, 'is', 5, 'awesome', 6, 'Hello', 7, 8]"
            ]
          },
          "metadata": {},
          "execution_count": 25
        }
      ]
    },
    {
      "cell_type": "code",
      "source": [
        "mixed_list.extend(['Good morning','everyone'])\n",
        "mixed_list"
      ],
      "metadata": {
        "colab": {
          "base_uri": "https://localhost:8080/"
        },
        "id": "a961Y4ifoivv",
        "outputId": "92a719d7-9010-4b70-aa63-94dfeedfe98c"
      },
      "execution_count": null,
      "outputs": [
        {
          "output_type": "execute_result",
          "data": {
            "text/plain": [
              "[1,\n",
              " 'Python',\n",
              " 2,\n",
              " 'is',\n",
              " 5,\n",
              " 'awesome',\n",
              " 6,\n",
              " 'Hello',\n",
              " 7,\n",
              " 8,\n",
              " 'Good morning',\n",
              " 'everyone']"
            ]
          },
          "metadata": {},
          "execution_count": 26
        }
      ]
    },
    {
      "cell_type": "code",
      "source": [
        "#adding list to a list\n",
        "\n",
        "list1 = [1,2,3,4,5]"
      ],
      "metadata": {
        "id": "gLFauVgzo882"
      },
      "execution_count": null,
      "outputs": []
    },
    {
      "cell_type": "code",
      "source": [
        "list1.append([7,8])"
      ],
      "metadata": {
        "id": "ZNjyEBzupDZ4"
      },
      "execution_count": null,
      "outputs": []
    },
    {
      "cell_type": "code",
      "source": [
        "list1"
      ],
      "metadata": {
        "colab": {
          "base_uri": "https://localhost:8080/"
        },
        "id": "s5ob5coDpH6-",
        "outputId": "437f6ed1-6681-4a76-cb8f-c8035fa48ea9"
      },
      "execution_count": null,
      "outputs": [
        {
          "output_type": "execute_result",
          "data": {
            "text/plain": [
              "[1, 2, 3, 4, 5, [7, 8]]"
            ]
          },
          "metadata": {},
          "execution_count": 29
        }
      ]
    },
    {
      "cell_type": "code",
      "source": [
        "list1[5]"
      ],
      "metadata": {
        "colab": {
          "base_uri": "https://localhost:8080/"
        },
        "id": "2ptnD2aWpJc1",
        "outputId": "9794655a-6473-4ae2-cc4a-5b5cbe51ab77"
      },
      "execution_count": null,
      "outputs": [
        {
          "output_type": "execute_result",
          "data": {
            "text/plain": [
              "[7, 8]"
            ]
          },
          "metadata": {},
          "execution_count": 31
        }
      ]
    },
    {
      "cell_type": "markdown",
      "source": [
        "**Deleting elements from a list:**"
      ],
      "metadata": {
        "id": "pzippioHpRvD"
      }
    },
    {
      "cell_type": "code",
      "source": [
        "mixed_list"
      ],
      "metadata": {
        "colab": {
          "base_uri": "https://localhost:8080/"
        },
        "id": "XU2vUQMSpj1t",
        "outputId": "136a5e5b-fc34-4254-8410-8920856212d9"
      },
      "execution_count": null,
      "outputs": [
        {
          "output_type": "execute_result",
          "data": {
            "text/plain": [
              "[1,\n",
              " 'Python',\n",
              " 2,\n",
              " 'is',\n",
              " 5,\n",
              " 'awesome',\n",
              " 6,\n",
              " 'Hello',\n",
              " 7,\n",
              " 8,\n",
              " 'Good morning',\n",
              " 'everyone']"
            ]
          },
          "metadata": {},
          "execution_count": 32
        }
      ]
    },
    {
      "cell_type": "code",
      "source": [
        "#deleting elements by value\n",
        "mixed_list.remove('everyone')\n",
        "mixed_list"
      ],
      "metadata": {
        "colab": {
          "base_uri": "https://localhost:8080/"
        },
        "id": "MYmS-XvcpnfP",
        "outputId": "b11a643f-0fdb-4e2e-f772-3d9b7388b3e1"
      },
      "execution_count": null,
      "outputs": [
        {
          "output_type": "execute_result",
          "data": {
            "text/plain": [
              "[1, 'Python', 2, 'is', 5, 'awesome', 6, 'Hello', 7, 8, 'Good morning']"
            ]
          },
          "metadata": {},
          "execution_count": 33
        }
      ]
    },
    {
      "cell_type": "code",
      "source": [
        "mixed_list.remove('Good morning')\n",
        "mixed_list"
      ],
      "metadata": {
        "colab": {
          "base_uri": "https://localhost:8080/"
        },
        "id": "aK6le6KTpvMB",
        "outputId": "a4229d26-8be4-4088-da38-d11077858e09"
      },
      "execution_count": null,
      "outputs": [
        {
          "output_type": "execute_result",
          "data": {
            "text/plain": [
              "[1, 'Python', 2, 'is', 5, 'awesome', 6, 'Hello', 7, 8]"
            ]
          },
          "metadata": {},
          "execution_count": 34
        }
      ]
    },
    {
      "cell_type": "code",
      "source": [
        "#deleting elements by index\n",
        "del mixed_list[9]\n",
        "mixed_list"
      ],
      "metadata": {
        "colab": {
          "base_uri": "https://localhost:8080/"
        },
        "id": "3qoqxyDUp2UE",
        "outputId": "10d38e37-78d2-4c78-f3bf-d3da53d6e77c"
      },
      "execution_count": null,
      "outputs": [
        {
          "output_type": "execute_result",
          "data": {
            "text/plain": [
              "[1, 'Python', 2, 'is', 5, 'awesome', 6, 'Hello', 7]"
            ]
          },
          "metadata": {},
          "execution_count": 35
        }
      ]
    },
    {
      "cell_type": "code",
      "source": [
        "del mixed_list[6:]"
      ],
      "metadata": {
        "id": "NQO33UHuqCMo"
      },
      "execution_count": null,
      "outputs": []
    },
    {
      "cell_type": "code",
      "source": [
        "mixed_list"
      ],
      "metadata": {
        "colab": {
          "base_uri": "https://localhost:8080/"
        },
        "id": "PfwBzW6HqJhY",
        "outputId": "0ade7d92-abc1-46e0-f598-607c571b284c"
      },
      "execution_count": null,
      "outputs": [
        {
          "output_type": "execute_result",
          "data": {
            "text/plain": [
              "[1, 'Python', 2, 'is', 5, 'awesome']"
            ]
          },
          "metadata": {},
          "execution_count": 37
        }
      ]
    },
    {
      "cell_type": "markdown",
      "source": [
        "**Looping over a list:**"
      ],
      "metadata": {
        "id": "SuU8aRRxqdio"
      }
    },
    {
      "cell_type": "code",
      "source": [
        "for i in mixed_list:\n",
        "  print(i)"
      ],
      "metadata": {
        "colab": {
          "base_uri": "https://localhost:8080/"
        },
        "id": "-0Vd4ZQ2qhpJ",
        "outputId": "5c3ab0ec-5bd2-45f8-bb1b-78585f0dfb9b"
      },
      "execution_count": null,
      "outputs": [
        {
          "output_type": "stream",
          "name": "stdout",
          "text": [
            "1\n",
            "Python\n",
            "2\n",
            "is\n",
            "5\n",
            "awesome\n"
          ]
        }
      ]
    },
    {
      "cell_type": "markdown",
      "source": [
        "**Dictionaries:**\n",
        "\n",
        "- unordered data structures with key:value pairs, inside { } brackets,\n",
        "\n",
        "      dict = {'key':value,'key':value,'key':value}\n",
        "\n",
        "Why dictionaries?\n",
        "\n",
        "- Sometimes we do not want or need our data in a sequence,\n",
        "- We want to access our data by names, not by index."
      ],
      "metadata": {
        "id": "z8GYxWxLr5Zc"
      }
    },
    {
      "cell_type": "code",
      "source": [
        "#creating the dictionaries\n",
        "dict1 = {'John':90,'Sam':80,'Harry':75,'Mike':95} #where values are numbers\n",
        "\n",
        "dict2 = {'John':[90,80],'Sam':[80,90],'Harry':[75,80],'Mike':[95,70]} #values are lists"
      ],
      "metadata": {
        "id": "4q-EsW-1AGZG"
      },
      "execution_count": 6,
      "outputs": []
    },
    {
      "cell_type": "code",
      "source": [
        "marks = {'name':['ram','hari'],'age':[24,25],'roll':[10,12]}\n",
        "marks"
      ],
      "metadata": {
        "colab": {
          "base_uri": "https://localhost:8080/"
        },
        "id": "vSGHY4vQAb-f",
        "outputId": "27a884f1-2e96-4c91-de40-c845ae7f9cb7"
      },
      "execution_count": 1,
      "outputs": [
        {
          "output_type": "execute_result",
          "data": {
            "text/plain": [
              "{'name': ['ram', 'hari'], 'age': [24, 25], 'roll': [10, 12]}"
            ]
          },
          "metadata": {},
          "execution_count": 1
        }
      ]
    },
    {
      "cell_type": "code",
      "source": [
        "dict1"
      ],
      "metadata": {
        "colab": {
          "base_uri": "https://localhost:8080/"
        },
        "id": "z-m693OIA5CP",
        "outputId": "3844c967-cd87-4129-ad94-cd6ac8ac7f9b"
      },
      "execution_count": 7,
      "outputs": [
        {
          "output_type": "execute_result",
          "data": {
            "text/plain": [
              "{'John': 90, 'Sam': 80, 'Harry': 75, 'Mike': 95}"
            ]
          },
          "metadata": {},
          "execution_count": 7
        }
      ]
    },
    {
      "cell_type": "code",
      "source": [
        "dict2"
      ],
      "metadata": {
        "colab": {
          "base_uri": "https://localhost:8080/"
        },
        "id": "GQTk3T7HA7N7",
        "outputId": "777527d8-af84-45cb-8177-bac364fe97f7"
      },
      "execution_count": 8,
      "outputs": [
        {
          "output_type": "execute_result",
          "data": {
            "text/plain": [
              "{'John': [90, 80], 'Sam': [80, 90], 'Harry': [75, 80], 'Mike': [95, 70]}"
            ]
          },
          "metadata": {},
          "execution_count": 8
        }
      ]
    },
    {
      "cell_type": "markdown",
      "source": [
        "**Accessing the elements in the lists:**\n",
        "\n",
        "- Elements are accessed by keys rather than index.\n",
        "- Will give error, if tried to acess using index."
      ],
      "metadata": {
        "id": "V7HmH6eQBDl2"
      }
    },
    {
      "cell_type": "code",
      "source": [
        "#accessing the elements in the lists\n",
        "dict2['Sam']"
      ],
      "metadata": {
        "colab": {
          "base_uri": "https://localhost:8080/"
        },
        "id": "2zi994jhA9yx",
        "outputId": "a45ed451-4be0-4444-94eb-fea1ead65f79"
      },
      "execution_count": null,
      "outputs": [
        {
          "output_type": "execute_result",
          "data": {
            "text/plain": [
              "[80, 90]"
            ]
          },
          "metadata": {},
          "execution_count": 5
        }
      ]
    },
    {
      "cell_type": "code",
      "source": [
        "dict2['Mike']"
      ],
      "metadata": {
        "colab": {
          "base_uri": "https://localhost:8080/"
        },
        "id": "83B0aaCYBnWa",
        "outputId": "e96b6175-9d6f-4251-e64a-ec9773be39f1"
      },
      "execution_count": null,
      "outputs": [
        {
          "output_type": "execute_result",
          "data": {
            "text/plain": [
              "[95, 70]"
            ]
          },
          "metadata": {},
          "execution_count": 6
        }
      ]
    },
    {
      "cell_type": "markdown",
      "source": [
        "**Adding elements to dictionary:**"
      ],
      "metadata": {
        "id": "kjNSeXVMBqmd"
      }
    },
    {
      "cell_type": "code",
      "source": [
        "#adding single element at once\n",
        "dict2['Jack'] = [65,80]\n",
        "dict2"
      ],
      "metadata": {
        "colab": {
          "base_uri": "https://localhost:8080/"
        },
        "id": "n3TWjwoqB953",
        "outputId": "208fff50-d132-486d-aa30-0e0c7b3a62f4"
      },
      "execution_count": null,
      "outputs": [
        {
          "output_type": "execute_result",
          "data": {
            "text/plain": [
              "{'John': [90, 80],\n",
              " 'Sam': [80, 90],\n",
              " 'Harry': [75, 80],\n",
              " 'Mike': [95, 70],\n",
              " 'Jack': [65, 80]}"
            ]
          },
          "metadata": {},
          "execution_count": 7
        }
      ]
    },
    {
      "cell_type": "code",
      "source": [
        "marks"
      ],
      "metadata": {
        "colab": {
          "base_uri": "https://localhost:8080/"
        },
        "id": "3jKMh4iCCPUL",
        "outputId": "925cfcc8-bf03-4db7-8b56-c9b667927c8b"
      },
      "execution_count": 2,
      "outputs": [
        {
          "output_type": "execute_result",
          "data": {
            "text/plain": [
              "{'name': ['ram', 'hari'], 'age': [24, 25], 'roll': [10, 12]}"
            ]
          },
          "metadata": {},
          "execution_count": 2
        }
      ]
    },
    {
      "cell_type": "code",
      "source": [
        "marks['name']= 'shyam'\n",
        "marks"
      ],
      "metadata": {
        "colab": {
          "base_uri": "https://localhost:8080/"
        },
        "id": "XYheOgHoCR4v",
        "outputId": "283605fb-3ca6-4602-a8cc-7b8749188f8b"
      },
      "execution_count": 4,
      "outputs": [
        {
          "output_type": "execute_result",
          "data": {
            "text/plain": [
              "{'name': 'shyam', 'age': [24, 25], 'roll': [10, 12]}"
            ]
          },
          "metadata": {},
          "execution_count": 4
        }
      ]
    },
    {
      "cell_type": "code",
      "source": [
        "dict2"
      ],
      "metadata": {
        "colab": {
          "base_uri": "https://localhost:8080/"
        },
        "id": "IWMcxFrVDQyK",
        "outputId": "b6d44b59-f002-48b1-fc11-203404465400"
      },
      "execution_count": 9,
      "outputs": [
        {
          "output_type": "execute_result",
          "data": {
            "text/plain": [
              "{'John': [90, 80], 'Sam': [80, 90], 'Harry': [75, 80], 'Mike': [95, 70]}"
            ]
          },
          "metadata": {},
          "execution_count": 9
        }
      ]
    },
    {
      "cell_type": "code",
      "source": [
        "#adding multiple elements at once\n",
        "dict2.update({'Ram':[50,60],'Kamal':[78,73]})\n",
        "dict2"
      ],
      "metadata": {
        "colab": {
          "base_uri": "https://localhost:8080/"
        },
        "id": "z7m3WXjzCJHC",
        "outputId": "7c50564f-eae9-4d06-9507-65a01411278d"
      },
      "execution_count": null,
      "outputs": [
        {
          "output_type": "execute_result",
          "data": {
            "text/plain": [
              "{'John': [90, 80],\n",
              " 'Sam': [80, 90],\n",
              " 'Harry': [75, 80],\n",
              " 'Mike': [95, 70],\n",
              " 'Jack': [65, 80],\n",
              " 'Ram': [50, 60],\n",
              " 'Kamal': [78, 73]}"
            ]
          },
          "metadata": {},
          "execution_count": 8
        }
      ]
    },
    {
      "cell_type": "markdown",
      "source": [
        "**Deleting elements from Dictionaries:**"
      ],
      "metadata": {
        "id": "_0elPc09CtQb"
      }
    },
    {
      "cell_type": "code",
      "source": [
        "del dict2['John']\n",
        "dict2"
      ],
      "metadata": {
        "colab": {
          "base_uri": "https://localhost:8080/"
        },
        "id": "eIPWmNiGCyVT",
        "outputId": "750a3bf8-2550-4418-d901-fdbb10c53078"
      },
      "execution_count": null,
      "outputs": [
        {
          "output_type": "execute_result",
          "data": {
            "text/plain": [
              "{'Sam': [80, 90],\n",
              " 'Harry': [75, 80],\n",
              " 'Mike': [95, 70],\n",
              " 'Jack': [65, 80],\n",
              " 'Ram': [50, 60],\n",
              " 'Kamal': [78, 73]}"
            ]
          },
          "metadata": {},
          "execution_count": 9
        }
      ]
    },
    {
      "cell_type": "code",
      "source": [
        "del dict2['Kamal']\n",
        "dict2"
      ],
      "metadata": {
        "colab": {
          "base_uri": "https://localhost:8080/"
        },
        "id": "jyZnGr46C2dn",
        "outputId": "dbb8d742-6df1-4f76-b7c4-34f191da9fe8"
      },
      "execution_count": null,
      "outputs": [
        {
          "output_type": "execute_result",
          "data": {
            "text/plain": [
              "{'Sam': [80, 90],\n",
              " 'Harry': [75, 80],\n",
              " 'Mike': [95, 70],\n",
              " 'Jack': [65, 80],\n",
              " 'Ram': [50, 60]}"
            ]
          },
          "metadata": {},
          "execution_count": 10
        }
      ]
    },
    {
      "cell_type": "code",
      "source": [
        "dict2"
      ],
      "metadata": {
        "colab": {
          "base_uri": "https://localhost:8080/"
        },
        "id": "_NtSO7RcGGW6",
        "outputId": "81366215-adfd-4ffa-9f51-d5c206361027"
      },
      "execution_count": 10,
      "outputs": [
        {
          "output_type": "execute_result",
          "data": {
            "text/plain": [
              "{'John': [90, 80], 'Sam': [80, 90], 'Harry': [75, 80], 'Mike': [95, 70]}"
            ]
          },
          "metadata": {},
          "execution_count": 10
        }
      ]
    },
    {
      "cell_type": "code",
      "source": [
        "for i in dict2:\n",
        "  print(i)"
      ],
      "metadata": {
        "colab": {
          "base_uri": "https://localhost:8080/"
        },
        "id": "DpHnQXorGH_0",
        "outputId": "db73d899-16c2-49b8-978e-d486d29fa14a"
      },
      "execution_count": 11,
      "outputs": [
        {
          "output_type": "stream",
          "name": "stdout",
          "text": [
            "John\n",
            "Sam\n",
            "Harry\n",
            "Mike\n"
          ]
        }
      ]
    },
    {
      "cell_type": "code",
      "source": [
        "for a,b in dict2.items():\n",
        "  print(f\"{a,b}\")"
      ],
      "metadata": {
        "colab": {
          "base_uri": "https://localhost:8080/"
        },
        "id": "UjLrFjCsGWHZ",
        "outputId": "f06bc8dc-f4ee-4fc7-feca-247afe59e7e1"
      },
      "execution_count": 18,
      "outputs": [
        {
          "output_type": "stream",
          "name": "stdout",
          "text": [
            "('John', [90, 80])\n",
            "('Sam', [80, 90])\n",
            "('Harry', [75, 80])\n",
            "('Mike', [95, 70])\n"
          ]
        }
      ]
    },
    {
      "cell_type": "code",
      "source": [],
      "metadata": {
        "id": "vxE6jJp4Hf5G"
      },
      "execution_count": null,
      "outputs": []
    },
    {
      "cell_type": "markdown",
      "source": [
        "**Tuples:**\n",
        "\n",
        "- Tuple is a collection of Python objects much like a list. The sequence of values stored in a tuple can be of any type, and they are indexed by integers.\n",
        "- Separated by commas inside square () brackets"
      ],
      "metadata": {
        "id": "kTdMrG7jEcp8"
      }
    },
    {
      "cell_type": "code",
      "source": [
        "#creating a tuple\n",
        "tuple1 = (1,2,3,\"Python\",\"awesome\")"
      ],
      "metadata": {
        "id": "Ib0SX67PEzRD"
      },
      "execution_count": null,
      "outputs": []
    },
    {
      "cell_type": "code",
      "source": [
        "type(tuple1)"
      ],
      "metadata": {
        "colab": {
          "base_uri": "https://localhost:8080/"
        },
        "id": "pDPRSJQhE-Qc",
        "outputId": "b46704b2-1b29-4a4a-d356-734ac44577a9"
      },
      "execution_count": null,
      "outputs": [
        {
          "output_type": "execute_result",
          "data": {
            "text/plain": [
              "tuple"
            ]
          },
          "metadata": {},
          "execution_count": 12
        }
      ]
    },
    {
      "cell_type": "code",
      "source": [
        "#creating tuple from list\n",
        "list1 = [1, 2, 4, 5, 6]\n",
        "print(tuple(list1))"
      ],
      "metadata": {
        "colab": {
          "base_uri": "https://localhost:8080/"
        },
        "id": "McPYhwvzFA7A",
        "outputId": "a06d9347-de5f-49eb-93db-b797d2ccaa45"
      },
      "execution_count": 19,
      "outputs": [
        {
          "output_type": "stream",
          "name": "stdout",
          "text": [
            "(1, 2, 4, 5, 6)\n"
          ]
        }
      ]
    },
    {
      "cell_type": "code",
      "source": [
        "tuple2 = tuple(list1)\n",
        "type(tuple2)"
      ],
      "metadata": {
        "colab": {
          "base_uri": "https://localhost:8080/"
        },
        "id": "xGuqJ77VJHiL",
        "outputId": "5c526728-bfec-45af-9a5a-504de5743c6e"
      },
      "execution_count": 22,
      "outputs": [
        {
          "output_type": "execute_result",
          "data": {
            "text/plain": [
              "tuple"
            ]
          },
          "metadata": {},
          "execution_count": 22
        }
      ]
    },
    {
      "cell_type": "code",
      "source": [
        "my_num_list = [1,2,3,4,5]"
      ],
      "metadata": {
        "id": "ZbUBkqwtK5Iy"
      },
      "execution_count": 29,
      "outputs": []
    },
    {
      "cell_type": "code",
      "source": [
        "new_tuple = tuple(my_num_list)"
      ],
      "metadata": {
        "id": "8OOqGiq7K8WP"
      },
      "execution_count": 30,
      "outputs": []
    },
    {
      "cell_type": "code",
      "source": [
        "type(new_tuple)"
      ],
      "metadata": {
        "colab": {
          "base_uri": "https://localhost:8080/"
        },
        "id": "MMHHUTyKLEGY",
        "outputId": "c5e397d3-3b10-4630-ce38-bd664710fef5"
      },
      "execution_count": 31,
      "outputs": [
        {
          "output_type": "execute_result",
          "data": {
            "text/plain": [
              "tuple"
            ]
          },
          "metadata": {},
          "execution_count": 31
        }
      ]
    },
    {
      "cell_type": "code",
      "source": [
        "list4 = [1,2,3,4]\n",
        "tuple4 = tuple(list4)\n",
        "type(tuple4)"
      ],
      "metadata": {
        "colab": {
          "base_uri": "https://localhost:8080/"
        },
        "id": "vWAcOSVfLmRm",
        "outputId": "1f4f421e-e353-4114-fe31-e680af4fcd87"
      },
      "execution_count": 32,
      "outputs": [
        {
          "output_type": "execute_result",
          "data": {
            "text/plain": [
              "tuple"
            ]
          },
          "metadata": {},
          "execution_count": 32
        }
      ]
    },
    {
      "cell_type": "code",
      "source": [
        "tuple2[0]"
      ],
      "metadata": {
        "colab": {
          "base_uri": "https://localhost:8080/"
        },
        "id": "Hn8RLgKmJQL9",
        "outputId": "f72b0ee0-4afc-4802-c11a-c617fdd3153a"
      },
      "execution_count": 25,
      "outputs": [
        {
          "output_type": "execute_result",
          "data": {
            "text/plain": [
              "1"
            ]
          },
          "metadata": {},
          "execution_count": 25
        }
      ]
    },
    {
      "cell_type": "code",
      "source": [
        "tuple2[2]"
      ],
      "metadata": {
        "colab": {
          "base_uri": "https://localhost:8080/"
        },
        "id": "fqM0lPLEKS9u",
        "outputId": "c3446fae-8631-4483-cdae-5c64844393d3"
      },
      "execution_count": 26,
      "outputs": [
        {
          "output_type": "execute_result",
          "data": {
            "text/plain": [
              "4"
            ]
          },
          "metadata": {},
          "execution_count": 26
        }
      ]
    },
    {
      "cell_type": "markdown",
      "source": [
        "Tuples are immutable and hence they do not allow deletion of a part of it. The entire tuple gets deleted by the use of del() method."
      ],
      "metadata": {
        "id": "CHdghqSRFbNj"
      }
    },
    {
      "cell_type": "code",
      "source": [
        "del tuple2[0]"
      ],
      "metadata": {
        "colab": {
          "base_uri": "https://localhost:8080/",
          "height": 179
        },
        "id": "-3G-5ucZKfZU",
        "outputId": "048e576b-fa30-47da-e6f5-999f7fde1856"
      },
      "execution_count": 27,
      "outputs": [
        {
          "output_type": "error",
          "ename": "TypeError",
          "evalue": "ignored",
          "traceback": [
            "\u001b[0;31m---------------------------------------------------------------------------\u001b[0m",
            "\u001b[0;31mTypeError\u001b[0m                                 Traceback (most recent call last)",
            "\u001b[0;32m<ipython-input-27-4992a464a282>\u001b[0m in \u001b[0;36m<cell line: 1>\u001b[0;34m()\u001b[0m\n\u001b[0;32m----> 1\u001b[0;31m \u001b[0;32mdel\u001b[0m \u001b[0mtuple2\u001b[0m\u001b[0;34m[\u001b[0m\u001b[0;36m0\u001b[0m\u001b[0;34m]\u001b[0m\u001b[0;34m\u001b[0m\u001b[0;34m\u001b[0m\u001b[0m\n\u001b[0m",
            "\u001b[0;31mTypeError\u001b[0m: 'tuple' object doesn't support item deletion"
          ]
        }
      ]
    },
    {
      "cell_type": "markdown",
      "source": [
        "**Sets:**\n",
        "\n",
        "- is an unordered collection data type that is iterable, mutable and has no duplicate elements.\n",
        "- Python sets cannot have a duplicate value and once it is created we cannot change its value."
      ],
      "metadata": {
        "id": "mt2_ro4hFdWa"
      }
    },
    {
      "cell_type": "code",
      "source": [
        "#creating sets\n",
        "var = {\"Hello\", \"for\", \"Hello\"}\n",
        "type(var)"
      ],
      "metadata": {
        "colab": {
          "base_uri": "https://localhost:8080/"
        },
        "id": "fsF2w3YcF5Rl",
        "outputId": "1912ac77-dcff-4a7d-8e6d-f00961bff4fa"
      },
      "execution_count": 33,
      "outputs": [
        {
          "output_type": "execute_result",
          "data": {
            "text/plain": [
              "set"
            ]
          },
          "metadata": {},
          "execution_count": 33
        }
      ]
    },
    {
      "cell_type": "code",
      "source": [
        "var"
      ],
      "metadata": {
        "colab": {
          "base_uri": "https://localhost:8080/"
        },
        "id": "Iagudv_cGEzy",
        "outputId": "2538d58e-dcb9-4f2e-a445-b0b209171da3"
      },
      "execution_count": 34,
      "outputs": [
        {
          "output_type": "execute_result",
          "data": {
            "text/plain": [
              "{'Hello', 'for'}"
            ]
          },
          "metadata": {},
          "execution_count": 34
        }
      ]
    },
    {
      "cell_type": "code",
      "source": [
        "var[1]"
      ],
      "metadata": {
        "colab": {
          "base_uri": "https://localhost:8080/",
          "height": 179
        },
        "id": "sIGWY9TDM31u",
        "outputId": "dbae1e70-6334-461e-c55e-953e4e13161b"
      },
      "execution_count": 35,
      "outputs": [
        {
          "output_type": "error",
          "ename": "TypeError",
          "evalue": "ignored",
          "traceback": [
            "\u001b[0;31m---------------------------------------------------------------------------\u001b[0m",
            "\u001b[0;31mTypeError\u001b[0m                                 Traceback (most recent call last)",
            "\u001b[0;32m<ipython-input-35-33ed59daa202>\u001b[0m in \u001b[0;36m<cell line: 1>\u001b[0;34m()\u001b[0m\n\u001b[0;32m----> 1\u001b[0;31m \u001b[0mvar\u001b[0m\u001b[0;34m[\u001b[0m\u001b[0;36m1\u001b[0m\u001b[0;34m]\u001b[0m\u001b[0;34m\u001b[0m\u001b[0;34m\u001b[0m\u001b[0m\n\u001b[0m",
            "\u001b[0;31mTypeError\u001b[0m: 'set' object is not subscriptable"
          ]
        }
      ]
    },
    {
      "cell_type": "code",
      "source": [
        "var[1] = \"Hi\"\n",
        "print(var) #gives error as cant change the values of sets once created."
      ],
      "metadata": {
        "id": "S2E1lHVpGLkD",
        "colab": {
          "base_uri": "https://localhost:8080/",
          "height": 197
        },
        "outputId": "4d23cf24-6fb8-416c-9b26-980c3720cfaf"
      },
      "execution_count": 36,
      "outputs": [
        {
          "output_type": "error",
          "ename": "TypeError",
          "evalue": "ignored",
          "traceback": [
            "\u001b[0;31m---------------------------------------------------------------------------\u001b[0m",
            "\u001b[0;31mTypeError\u001b[0m                                 Traceback (most recent call last)",
            "\u001b[0;32m<ipython-input-36-d5f0b351dfb5>\u001b[0m in \u001b[0;36m<cell line: 1>\u001b[0;34m()\u001b[0m\n\u001b[0;32m----> 1\u001b[0;31m \u001b[0mvar\u001b[0m\u001b[0;34m[\u001b[0m\u001b[0;36m1\u001b[0m\u001b[0;34m]\u001b[0m \u001b[0;34m=\u001b[0m \u001b[0;34m\"Hi\"\u001b[0m\u001b[0;34m\u001b[0m\u001b[0;34m\u001b[0m\u001b[0m\n\u001b[0m\u001b[1;32m      2\u001b[0m \u001b[0mprint\u001b[0m\u001b[0;34m(\u001b[0m\u001b[0mvar\u001b[0m\u001b[0;34m)\u001b[0m \u001b[0;31m#gives error as cant change the values of sets once created.\u001b[0m\u001b[0;34m\u001b[0m\u001b[0;34m\u001b[0m\u001b[0m\n",
            "\u001b[0;31mTypeError\u001b[0m: 'set' object does not support item assignment"
          ]
        }
      ]
    }
  ]
}