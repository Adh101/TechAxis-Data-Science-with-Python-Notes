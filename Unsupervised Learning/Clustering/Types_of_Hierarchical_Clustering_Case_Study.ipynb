{
  "nbformat": 4,
  "nbformat_minor": 0,
  "metadata": {
    "kernelspec": {
      "display_name": "Python 3",
      "language": "python",
      "name": "python3"
    },
    "language_info": {
      "codemirror_mode": {
        "name": "ipython",
        "version": 3
      },
      "file_extension": ".py",
      "mimetype": "text/x-python",
      "name": "python",
      "nbconvert_exporter": "python",
      "pygments_lexer": "ipython3",
      "version": "3.7.6"
    },
    "papermill": {
      "duration": 26.489672,
      "end_time": "2020-09-26T07:21:59.864847",
      "environment_variables": {},
      "exception": null,
      "input_path": "__notebook__.ipynb",
      "output_path": "__notebook__.ipynb",
      "parameters": {},
      "start_time": "2020-09-26T07:21:33.375175",
      "version": "2.1.0"
    },
    "colab": {
      "provenance": []
    }
  },
  "cells": [
    {
      "cell_type": "markdown",
      "metadata": {
        "_cell_guid": "b1076dfc-b9ad-4769-8c92-a6c4dae69d19",
        "_uuid": "8f2839f25d086af736a60e9eeb907d3b93b6e0e5",
        "papermill": {
          "duration": 0.05436,
          "end_time": "2020-09-26T07:21:38.229835",
          "exception": false,
          "start_time": "2020-09-26T07:21:38.175475",
          "status": "completed"
        },
        "tags": [],
        "id": "aM7bw7Vfq8iX"
      },
      "source": [
        "<h2 style='height:40px;text-align:center;font-size:30px;background-color:red;border:20px;color:white'>Violent Crime Rates By US State<h2>\n"
      ]
    },
    {
      "cell_type": "markdown",
      "metadata": {
        "_cell_guid": "79c7e3d0-c299-4dcb-8224-4455121ee9b0",
        "_uuid": "d629ff2d2480ee46fbb7e2d37f6b5fab8052498a",
        "collapsed": true,
        "papermill": {
          "duration": 0.047826,
          "end_time": "2020-09-26T07:21:38.424533",
          "exception": false,
          "start_time": "2020-09-26T07:21:38.376707",
          "status": "completed"
        },
        "tags": [],
        "id": "8EfFi98Eq8it"
      },
      "source": [
        "## Data Description\n",
        "**Violent Crime Rates by US State:** This data set contains statistics, in arrests per 100,000 residents\n",
        "for assault, murder, and rape in each of the 50 US states in 1973.\n",
        "Also given is the percent of the population living in urban areas.This is a systematic approach for identifying and analyzing patterns and trends in crime using USArrest dataset.  "
      ]
    },
    {
      "cell_type": "markdown",
      "metadata": {
        "papermill": {
          "duration": 0.047671,
          "end_time": "2020-09-26T07:21:38.520671",
          "exception": false,
          "start_time": "2020-09-26T07:21:38.473000",
          "status": "completed"
        },
        "tags": [],
        "id": "Ft7wzNIcq8iu"
      },
      "source": [
        "## What is Hierarchical Clustering?\n",
        "\n",
        "Hierarchical clustering is a type of unsupervised machine learning algorithm used to cluster unlabeled data points. Like K-means clustering, hierarchical clustering also groups together the data points with similar characteristics.One of the major considerations in using the K-means algorithm is deciding the value of K beforehand. The hierarchical clustering algorithm does not have this restriction.The output of the hierarchical clustering algorithm is quite different from the K-mean algorithm as well. It results in an inverted tree-shaped structure, called the **dendrogram**."
      ]
    },
    {
      "cell_type": "markdown",
      "metadata": {
        "papermill": {
          "duration": 0.048267,
          "end_time": "2020-09-26T07:21:38.617505",
          "exception": false,
          "start_time": "2020-09-26T07:21:38.569238",
          "status": "completed"
        },
        "tags": [],
        "id": "G-BV5TDZq8iv"
      },
      "source": [
        "## Types Of Hierarchical Clustering:\n",
        "\n",
        "There are two types of hierarchical clustering:\n",
        "\n",
        "* **Agglomerative**: The data points are clustered using a bottom-up approach starting with individual data points.\n",
        "* **Divisive**: The top-down approach is followed where all the data points are treated as one big cluster and the clustering process involves dividing the one big cluster into several small clusters."
      ]
    },
    {
      "cell_type": "markdown",
      "metadata": {
        "papermill": {
          "duration": 0.047154,
          "end_time": "2020-09-26T07:21:38.712145",
          "exception": false,
          "start_time": "2020-09-26T07:21:38.664991",
          "status": "completed"
        },
        "tags": [],
        "id": "PL2nQAHzq8iw"
      },
      "source": [
        "![Hierarchical-Clustering-Analysis](https://miro.medium.com/max/1608/1*ICdqpcL62G1q_kIlVszrrg.png)"
      ]
    },
    {
      "cell_type": "markdown",
      "metadata": {
        "papermill": {
          "duration": 0.046787,
          "end_time": "2020-09-26T07:21:38.806194",
          "exception": false,
          "start_time": "2020-09-26T07:21:38.759407",
          "status": "completed"
        },
        "tags": [],
        "id": "XXRkDywqq8iw"
      },
      "source": [
        "## Steps to Perform Hierarchical Clustering:\n",
        "\n",
        "Following are the steps involved in **agglomerative clustering**:\n",
        "\n",
        "* At the start, treat each data point as one cluster. Therefore, the number of clusters at the start will be K, while K is an integer representing the number of data points.\n",
        "* Form a cluster by joining the two closest data points resulting in K-1 clusters.\n",
        "* Form more clusters by joining the two closest clusters resulting in K-2 clusters.\n",
        "* Repeat the above three steps until one big cluster is formed.\n",
        "* Once single cluster is formed, dendrograms are used to divide into multiple clusters depending upon the problem. We will study the concept of dendrogram in detail in an upcoming section."
      ]
    },
    {
      "cell_type": "markdown",
      "metadata": {
        "papermill": {
          "duration": 0.0469,
          "end_time": "2020-09-26T07:21:38.900402",
          "exception": false,
          "start_time": "2020-09-26T07:21:38.853502",
          "status": "completed"
        },
        "tags": [],
        "id": "rae6SY3Mq8ix"
      },
      "source": [
        "## Import the Desired Libraries:"
      ]
    },
    {
      "cell_type": "code",
      "metadata": {
        "execution": {
          "iopub.execute_input": "2020-09-26T07:21:39.003452Z",
          "iopub.status.busy": "2020-09-26T07:21:39.002483Z",
          "iopub.status.idle": "2020-09-26T07:21:39.005530Z",
          "shell.execute_reply": "2020-09-26T07:21:39.004904Z"
        },
        "papermill": {
          "duration": 0.057878,
          "end_time": "2020-09-26T07:21:39.005667",
          "exception": false,
          "start_time": "2020-09-26T07:21:38.947789",
          "status": "completed"
        },
        "tags": [],
        "id": "M5xeiLFPq8iy"
      },
      "source": [
        "# ignoring any warnings\n",
        "import warnings\n",
        "warnings.filterwarnings('always')\n",
        "warnings.filterwarnings('ignore')"
      ],
      "execution_count": 1,
      "outputs": []
    },
    {
      "cell_type": "code",
      "metadata": {
        "execution": {
          "iopub.execute_input": "2020-09-26T07:21:39.110227Z",
          "iopub.status.busy": "2020-09-26T07:21:39.109361Z",
          "iopub.status.idle": "2020-09-26T07:21:40.131282Z",
          "shell.execute_reply": "2020-09-26T07:21:40.130538Z"
        },
        "papermill": {
          "duration": 1.077131,
          "end_time": "2020-09-26T07:21:40.131471",
          "exception": false,
          "start_time": "2020-09-26T07:21:39.054340",
          "status": "completed"
        },
        "tags": [],
        "id": "6AEiDvNaq8iz"
      },
      "source": [
        "import matplotlib.pyplot as plt\n",
        "import pandas as pd\n",
        "import numpy as np\n",
        "import seaborn as sns"
      ],
      "execution_count": 2,
      "outputs": []
    },
    {
      "cell_type": "code",
      "metadata": {
        "execution": {
          "iopub.execute_input": "2020-09-26T07:21:40.237749Z",
          "iopub.status.busy": "2020-09-26T07:21:40.236839Z",
          "iopub.status.idle": "2020-09-26T07:21:40.310573Z",
          "shell.execute_reply": "2020-09-26T07:21:40.309764Z"
        },
        "papermill": {
          "duration": 0.12917,
          "end_time": "2020-09-26T07:21:40.310724",
          "exception": false,
          "start_time": "2020-09-26T07:21:40.181554",
          "status": "completed"
        },
        "tags": [],
        "id": "hSzMIjHtq8i0"
      },
      "source": [
        "from sklearn.preprocessing import StandardScaler\n",
        "scaler= StandardScaler()"
      ],
      "execution_count": 3,
      "outputs": []
    },
    {
      "cell_type": "code",
      "metadata": {
        "execution": {
          "iopub.execute_input": "2020-09-26T07:21:40.416337Z",
          "iopub.status.busy": "2020-09-26T07:21:40.415478Z",
          "iopub.status.idle": "2020-09-26T07:21:40.775689Z",
          "shell.execute_reply": "2020-09-26T07:21:40.776409Z"
        },
        "papermill": {
          "duration": 0.41649,
          "end_time": "2020-09-26T07:21:40.776600",
          "exception": false,
          "start_time": "2020-09-26T07:21:40.360110",
          "status": "completed"
        },
        "tags": [],
        "id": "pWoVLAd8q8i1"
      },
      "source": [
        "import scipy.cluster.hierarchy as sch\n",
        "from sklearn.cluster import AgglomerativeClustering"
      ],
      "execution_count": 4,
      "outputs": []
    },
    {
      "cell_type": "markdown",
      "metadata": {
        "papermill": {
          "duration": 0.048246,
          "end_time": "2020-09-26T07:21:40.874933",
          "exception": false,
          "start_time": "2020-09-26T07:21:40.826687",
          "status": "completed"
        },
        "tags": [],
        "id": "ldgff1jFq8i1"
      },
      "source": [
        "## Reading and Understanding the Data"
      ]
    },
    {
      "cell_type": "code",
      "metadata": {
        "execution": {
          "iopub.execute_input": "2020-09-26T07:21:40.983011Z",
          "iopub.status.busy": "2020-09-26T07:21:40.982172Z",
          "iopub.status.idle": "2020-09-26T07:21:40.997190Z",
          "shell.execute_reply": "2020-09-26T07:21:40.996441Z"
        },
        "papermill": {
          "duration": 0.073649,
          "end_time": "2020-09-26T07:21:40.997344",
          "exception": false,
          "start_time": "2020-09-26T07:21:40.923695",
          "status": "completed"
        },
        "tags": [],
        "id": "fIVD_zToq8i2"
      },
      "source": [
        "crime = pd.read_csv(\"https://raw.githubusercontent.com/dphi-official/Datasets/master/US_violent_crime.csv\")"
      ],
      "execution_count": 5,
      "outputs": []
    },
    {
      "cell_type": "code",
      "metadata": {
        "execution": {
          "iopub.execute_input": "2020-09-26T07:21:41.113502Z",
          "iopub.status.busy": "2020-09-26T07:21:41.112602Z",
          "iopub.status.idle": "2020-09-26T07:21:41.124869Z",
          "shell.execute_reply": "2020-09-26T07:21:41.124085Z"
        },
        "papermill": {
          "duration": 0.078395,
          "end_time": "2020-09-26T07:21:41.125030",
          "exception": false,
          "start_time": "2020-09-26T07:21:41.046635",
          "status": "completed"
        },
        "tags": [],
        "id": "P5DBmJT9q8i2",
        "colab": {
          "base_uri": "https://localhost:8080/",
          "height": 206
        },
        "outputId": "ebd01a49-3d3b-417c-9442-4ea53a5ae706"
      },
      "source": [
        "#peeking at the dataset\n",
        "crime.head(5)"
      ],
      "execution_count": 6,
      "outputs": [
        {
          "output_type": "execute_result",
          "data": {
            "text/plain": [
              "   Unnamed: 0  Murder  Assault  UrbanPop  Rape\n",
              "0     Alabama    13.2      236        58  21.2\n",
              "1      Alaska    10.0      263        48  44.5\n",
              "2     Arizona     8.1      294        80  31.0\n",
              "3    Arkansas     8.8      190        50  19.5\n",
              "4  California     9.0      276        91  40.6"
            ],
            "text/html": [
              "\n",
              "  <div id=\"df-6d1e6d66-22cd-4c51-8f40-2f77a5c58720\" class=\"colab-df-container\">\n",
              "    <div>\n",
              "<style scoped>\n",
              "    .dataframe tbody tr th:only-of-type {\n",
              "        vertical-align: middle;\n",
              "    }\n",
              "\n",
              "    .dataframe tbody tr th {\n",
              "        vertical-align: top;\n",
              "    }\n",
              "\n",
              "    .dataframe thead th {\n",
              "        text-align: right;\n",
              "    }\n",
              "</style>\n",
              "<table border=\"1\" class=\"dataframe\">\n",
              "  <thead>\n",
              "    <tr style=\"text-align: right;\">\n",
              "      <th></th>\n",
              "      <th>Unnamed: 0</th>\n",
              "      <th>Murder</th>\n",
              "      <th>Assault</th>\n",
              "      <th>UrbanPop</th>\n",
              "      <th>Rape</th>\n",
              "    </tr>\n",
              "  </thead>\n",
              "  <tbody>\n",
              "    <tr>\n",
              "      <th>0</th>\n",
              "      <td>Alabama</td>\n",
              "      <td>13.2</td>\n",
              "      <td>236</td>\n",
              "      <td>58</td>\n",
              "      <td>21.2</td>\n",
              "    </tr>\n",
              "    <tr>\n",
              "      <th>1</th>\n",
              "      <td>Alaska</td>\n",
              "      <td>10.0</td>\n",
              "      <td>263</td>\n",
              "      <td>48</td>\n",
              "      <td>44.5</td>\n",
              "    </tr>\n",
              "    <tr>\n",
              "      <th>2</th>\n",
              "      <td>Arizona</td>\n",
              "      <td>8.1</td>\n",
              "      <td>294</td>\n",
              "      <td>80</td>\n",
              "      <td>31.0</td>\n",
              "    </tr>\n",
              "    <tr>\n",
              "      <th>3</th>\n",
              "      <td>Arkansas</td>\n",
              "      <td>8.8</td>\n",
              "      <td>190</td>\n",
              "      <td>50</td>\n",
              "      <td>19.5</td>\n",
              "    </tr>\n",
              "    <tr>\n",
              "      <th>4</th>\n",
              "      <td>California</td>\n",
              "      <td>9.0</td>\n",
              "      <td>276</td>\n",
              "      <td>91</td>\n",
              "      <td>40.6</td>\n",
              "    </tr>\n",
              "  </tbody>\n",
              "</table>\n",
              "</div>\n",
              "    <div class=\"colab-df-buttons\">\n",
              "\n",
              "  <div class=\"colab-df-container\">\n",
              "    <button class=\"colab-df-convert\" onclick=\"convertToInteractive('df-6d1e6d66-22cd-4c51-8f40-2f77a5c58720')\"\n",
              "            title=\"Convert this dataframe to an interactive table.\"\n",
              "            style=\"display:none;\">\n",
              "\n",
              "  <svg xmlns=\"http://www.w3.org/2000/svg\" height=\"24px\" viewBox=\"0 -960 960 960\">\n",
              "    <path d=\"M120-120v-720h720v720H120Zm60-500h600v-160H180v160Zm220 220h160v-160H400v160Zm0 220h160v-160H400v160ZM180-400h160v-160H180v160Zm440 0h160v-160H620v160ZM180-180h160v-160H180v160Zm440 0h160v-160H620v160Z\"/>\n",
              "  </svg>\n",
              "    </button>\n",
              "\n",
              "  <style>\n",
              "    .colab-df-container {\n",
              "      display:flex;\n",
              "      gap: 12px;\n",
              "    }\n",
              "\n",
              "    .colab-df-convert {\n",
              "      background-color: #E8F0FE;\n",
              "      border: none;\n",
              "      border-radius: 50%;\n",
              "      cursor: pointer;\n",
              "      display: none;\n",
              "      fill: #1967D2;\n",
              "      height: 32px;\n",
              "      padding: 0 0 0 0;\n",
              "      width: 32px;\n",
              "    }\n",
              "\n",
              "    .colab-df-convert:hover {\n",
              "      background-color: #E2EBFA;\n",
              "      box-shadow: 0px 1px 2px rgba(60, 64, 67, 0.3), 0px 1px 3px 1px rgba(60, 64, 67, 0.15);\n",
              "      fill: #174EA6;\n",
              "    }\n",
              "\n",
              "    .colab-df-buttons div {\n",
              "      margin-bottom: 4px;\n",
              "    }\n",
              "\n",
              "    [theme=dark] .colab-df-convert {\n",
              "      background-color: #3B4455;\n",
              "      fill: #D2E3FC;\n",
              "    }\n",
              "\n",
              "    [theme=dark] .colab-df-convert:hover {\n",
              "      background-color: #434B5C;\n",
              "      box-shadow: 0px 1px 3px 1px rgba(0, 0, 0, 0.15);\n",
              "      filter: drop-shadow(0px 1px 2px rgba(0, 0, 0, 0.3));\n",
              "      fill: #FFFFFF;\n",
              "    }\n",
              "  </style>\n",
              "\n",
              "    <script>\n",
              "      const buttonEl =\n",
              "        document.querySelector('#df-6d1e6d66-22cd-4c51-8f40-2f77a5c58720 button.colab-df-convert');\n",
              "      buttonEl.style.display =\n",
              "        google.colab.kernel.accessAllowed ? 'block' : 'none';\n",
              "\n",
              "      async function convertToInteractive(key) {\n",
              "        const element = document.querySelector('#df-6d1e6d66-22cd-4c51-8f40-2f77a5c58720');\n",
              "        const dataTable =\n",
              "          await google.colab.kernel.invokeFunction('convertToInteractive',\n",
              "                                                    [key], {});\n",
              "        if (!dataTable) return;\n",
              "\n",
              "        const docLinkHtml = 'Like what you see? Visit the ' +\n",
              "          '<a target=\"_blank\" href=https://colab.research.google.com/notebooks/data_table.ipynb>data table notebook</a>'\n",
              "          + ' to learn more about interactive tables.';\n",
              "        element.innerHTML = '';\n",
              "        dataTable['output_type'] = 'display_data';\n",
              "        await google.colab.output.renderOutput(dataTable, element);\n",
              "        const docLink = document.createElement('div');\n",
              "        docLink.innerHTML = docLinkHtml;\n",
              "        element.appendChild(docLink);\n",
              "      }\n",
              "    </script>\n",
              "  </div>\n",
              "\n",
              "\n",
              "<div id=\"df-bab287da-efc7-49a2-9686-38bb54318731\">\n",
              "  <button class=\"colab-df-quickchart\" onclick=\"quickchart('df-bab287da-efc7-49a2-9686-38bb54318731')\"\n",
              "            title=\"Suggest charts\"\n",
              "            style=\"display:none;\">\n",
              "\n",
              "<svg xmlns=\"http://www.w3.org/2000/svg\" height=\"24px\"viewBox=\"0 0 24 24\"\n",
              "     width=\"24px\">\n",
              "    <g>\n",
              "        <path d=\"M19 3H5c-1.1 0-2 .9-2 2v14c0 1.1.9 2 2 2h14c1.1 0 2-.9 2-2V5c0-1.1-.9-2-2-2zM9 17H7v-7h2v7zm4 0h-2V7h2v10zm4 0h-2v-4h2v4z\"/>\n",
              "    </g>\n",
              "</svg>\n",
              "  </button>\n",
              "\n",
              "<style>\n",
              "  .colab-df-quickchart {\n",
              "      --bg-color: #E8F0FE;\n",
              "      --fill-color: #1967D2;\n",
              "      --hover-bg-color: #E2EBFA;\n",
              "      --hover-fill-color: #174EA6;\n",
              "      --disabled-fill-color: #AAA;\n",
              "      --disabled-bg-color: #DDD;\n",
              "  }\n",
              "\n",
              "  [theme=dark] .colab-df-quickchart {\n",
              "      --bg-color: #3B4455;\n",
              "      --fill-color: #D2E3FC;\n",
              "      --hover-bg-color: #434B5C;\n",
              "      --hover-fill-color: #FFFFFF;\n",
              "      --disabled-bg-color: #3B4455;\n",
              "      --disabled-fill-color: #666;\n",
              "  }\n",
              "\n",
              "  .colab-df-quickchart {\n",
              "    background-color: var(--bg-color);\n",
              "    border: none;\n",
              "    border-radius: 50%;\n",
              "    cursor: pointer;\n",
              "    display: none;\n",
              "    fill: var(--fill-color);\n",
              "    height: 32px;\n",
              "    padding: 0;\n",
              "    width: 32px;\n",
              "  }\n",
              "\n",
              "  .colab-df-quickchart:hover {\n",
              "    background-color: var(--hover-bg-color);\n",
              "    box-shadow: 0 1px 2px rgba(60, 64, 67, 0.3), 0 1px 3px 1px rgba(60, 64, 67, 0.15);\n",
              "    fill: var(--button-hover-fill-color);\n",
              "  }\n",
              "\n",
              "  .colab-df-quickchart-complete:disabled,\n",
              "  .colab-df-quickchart-complete:disabled:hover {\n",
              "    background-color: var(--disabled-bg-color);\n",
              "    fill: var(--disabled-fill-color);\n",
              "    box-shadow: none;\n",
              "  }\n",
              "\n",
              "  .colab-df-spinner {\n",
              "    border: 2px solid var(--fill-color);\n",
              "    border-color: transparent;\n",
              "    border-bottom-color: var(--fill-color);\n",
              "    animation:\n",
              "      spin 1s steps(1) infinite;\n",
              "  }\n",
              "\n",
              "  @keyframes spin {\n",
              "    0% {\n",
              "      border-color: transparent;\n",
              "      border-bottom-color: var(--fill-color);\n",
              "      border-left-color: var(--fill-color);\n",
              "    }\n",
              "    20% {\n",
              "      border-color: transparent;\n",
              "      border-left-color: var(--fill-color);\n",
              "      border-top-color: var(--fill-color);\n",
              "    }\n",
              "    30% {\n",
              "      border-color: transparent;\n",
              "      border-left-color: var(--fill-color);\n",
              "      border-top-color: var(--fill-color);\n",
              "      border-right-color: var(--fill-color);\n",
              "    }\n",
              "    40% {\n",
              "      border-color: transparent;\n",
              "      border-right-color: var(--fill-color);\n",
              "      border-top-color: var(--fill-color);\n",
              "    }\n",
              "    60% {\n",
              "      border-color: transparent;\n",
              "      border-right-color: var(--fill-color);\n",
              "    }\n",
              "    80% {\n",
              "      border-color: transparent;\n",
              "      border-right-color: var(--fill-color);\n",
              "      border-bottom-color: var(--fill-color);\n",
              "    }\n",
              "    90% {\n",
              "      border-color: transparent;\n",
              "      border-bottom-color: var(--fill-color);\n",
              "    }\n",
              "  }\n",
              "</style>\n",
              "\n",
              "  <script>\n",
              "    async function quickchart(key) {\n",
              "      const quickchartButtonEl =\n",
              "        document.querySelector('#' + key + ' button');\n",
              "      quickchartButtonEl.disabled = true;  // To prevent multiple clicks.\n",
              "      quickchartButtonEl.classList.add('colab-df-spinner');\n",
              "      try {\n",
              "        const charts = await google.colab.kernel.invokeFunction(\n",
              "            'suggestCharts', [key], {});\n",
              "      } catch (error) {\n",
              "        console.error('Error during call to suggestCharts:', error);\n",
              "      }\n",
              "      quickchartButtonEl.classList.remove('colab-df-spinner');\n",
              "      quickchartButtonEl.classList.add('colab-df-quickchart-complete');\n",
              "    }\n",
              "    (() => {\n",
              "      let quickchartButtonEl =\n",
              "        document.querySelector('#df-bab287da-efc7-49a2-9686-38bb54318731 button');\n",
              "      quickchartButtonEl.style.display =\n",
              "        google.colab.kernel.accessAllowed ? 'block' : 'none';\n",
              "    })();\n",
              "  </script>\n",
              "</div>\n",
              "    </div>\n",
              "  </div>\n"
            ]
          },
          "metadata": {},
          "execution_count": 6
        }
      ]
    },
    {
      "cell_type": "markdown",
      "metadata": {
        "papermill": {
          "duration": 0.050024,
          "end_time": "2020-09-26T07:21:41.225936",
          "exception": false,
          "start_time": "2020-09-26T07:21:41.175912",
          "status": "completed"
        },
        "tags": [],
        "id": "qJKpq6hrq8i5"
      },
      "source": [
        "### Our dataset consists of crime rates for Murder, Assault, UrbanPop and Rape"
      ]
    },
    {
      "cell_type": "code",
      "metadata": {
        "execution": {
          "iopub.execute_input": "2020-09-26T07:21:41.334696Z",
          "iopub.status.busy": "2020-09-26T07:21:41.333390Z",
          "iopub.status.idle": "2020-09-26T07:21:41.338644Z",
          "shell.execute_reply": "2020-09-26T07:21:41.337992Z"
        },
        "papermill": {
          "duration": 0.061772,
          "end_time": "2020-09-26T07:21:41.338796",
          "exception": false,
          "start_time": "2020-09-26T07:21:41.277024",
          "status": "completed"
        },
        "tags": [],
        "id": "MRLllahPq8i5",
        "colab": {
          "base_uri": "https://localhost:8080/"
        },
        "outputId": "d343e2ad-a0f8-48b8-e6cf-b9bca5473e8e"
      },
      "source": [
        "# Let's see how many rows and columns we got!\n",
        "crime.shape"
      ],
      "execution_count": 7,
      "outputs": [
        {
          "output_type": "execute_result",
          "data": {
            "text/plain": [
              "(50, 5)"
            ]
          },
          "metadata": {},
          "execution_count": 7
        }
      ]
    },
    {
      "cell_type": "code",
      "metadata": {
        "execution": {
          "iopub.execute_input": "2020-09-26T07:21:41.458102Z",
          "iopub.status.busy": "2020-09-26T07:21:41.456973Z",
          "iopub.status.idle": "2020-09-26T07:21:41.461639Z",
          "shell.execute_reply": "2020-09-26T07:21:41.462226Z"
        },
        "papermill": {
          "duration": 0.073169,
          "end_time": "2020-09-26T07:21:41.462433",
          "exception": false,
          "start_time": "2020-09-26T07:21:41.389264",
          "status": "completed"
        },
        "tags": [],
        "id": "oCmfDyUwq8i6",
        "colab": {
          "base_uri": "https://localhost:8080/"
        },
        "outputId": "508a26a4-1d70-43ff-ff42-f6b28e69939c"
      },
      "source": [
        "#Let's see some facts here\n",
        "crime.info()"
      ],
      "execution_count": 8,
      "outputs": [
        {
          "output_type": "stream",
          "name": "stdout",
          "text": [
            "<class 'pandas.core.frame.DataFrame'>\n",
            "RangeIndex: 50 entries, 0 to 49\n",
            "Data columns (total 5 columns):\n",
            " #   Column      Non-Null Count  Dtype  \n",
            "---  ------      --------------  -----  \n",
            " 0   Unnamed: 0  50 non-null     object \n",
            " 1   Murder      50 non-null     float64\n",
            " 2   Assault     50 non-null     int64  \n",
            " 3   UrbanPop    50 non-null     int64  \n",
            " 4   Rape        50 non-null     float64\n",
            "dtypes: float64(2), int64(2), object(1)\n",
            "memory usage: 2.1+ KB\n"
          ]
        }
      ]
    },
    {
      "cell_type": "markdown",
      "metadata": {
        "papermill": {
          "duration": 0.051251,
          "end_time": "2020-09-26T07:21:41.565389",
          "exception": false,
          "start_time": "2020-09-26T07:21:41.514138",
          "status": "completed"
        },
        "tags": [],
        "id": "akz2BNUCq8i7"
      },
      "source": [
        "**We have 50 rows and 5 columns.**"
      ]
    },
    {
      "cell_type": "code",
      "metadata": {
        "execution": {
          "iopub.execute_input": "2020-09-26T07:21:41.684099Z",
          "iopub.status.busy": "2020-09-26T07:21:41.683228Z",
          "iopub.status.idle": "2020-09-26T07:21:41.708523Z",
          "shell.execute_reply": "2020-09-26T07:21:41.709198Z"
        },
        "papermill": {
          "duration": 0.092304,
          "end_time": "2020-09-26T07:21:41.709410",
          "exception": false,
          "start_time": "2020-09-26T07:21:41.617106",
          "status": "completed"
        },
        "tags": [],
        "id": "n0PPwSNcq8i7",
        "colab": {
          "base_uri": "https://localhost:8080/",
          "height": 300
        },
        "outputId": "485e036d-94ae-48b7-8d5a-d49f7542a384"
      },
      "source": [
        "# Let's get some statistics summary\n",
        "crime.describe()"
      ],
      "execution_count": 9,
      "outputs": [
        {
          "output_type": "execute_result",
          "data": {
            "text/plain": [
              "         Murder     Assault   UrbanPop       Rape\n",
              "count  50.00000   50.000000  50.000000  50.000000\n",
              "mean    7.78800  170.760000  65.540000  21.232000\n",
              "std     4.35551   83.337661  14.474763   9.366385\n",
              "min     0.80000   45.000000  32.000000   7.300000\n",
              "25%     4.07500  109.000000  54.500000  15.075000\n",
              "50%     7.25000  159.000000  66.000000  20.100000\n",
              "75%    11.25000  249.000000  77.750000  26.175000\n",
              "max    17.40000  337.000000  91.000000  46.000000"
            ],
            "text/html": [
              "\n",
              "  <div id=\"df-2212dfbe-0b86-4808-8931-2236b861f461\" class=\"colab-df-container\">\n",
              "    <div>\n",
              "<style scoped>\n",
              "    .dataframe tbody tr th:only-of-type {\n",
              "        vertical-align: middle;\n",
              "    }\n",
              "\n",
              "    .dataframe tbody tr th {\n",
              "        vertical-align: top;\n",
              "    }\n",
              "\n",
              "    .dataframe thead th {\n",
              "        text-align: right;\n",
              "    }\n",
              "</style>\n",
              "<table border=\"1\" class=\"dataframe\">\n",
              "  <thead>\n",
              "    <tr style=\"text-align: right;\">\n",
              "      <th></th>\n",
              "      <th>Murder</th>\n",
              "      <th>Assault</th>\n",
              "      <th>UrbanPop</th>\n",
              "      <th>Rape</th>\n",
              "    </tr>\n",
              "  </thead>\n",
              "  <tbody>\n",
              "    <tr>\n",
              "      <th>count</th>\n",
              "      <td>50.00000</td>\n",
              "      <td>50.000000</td>\n",
              "      <td>50.000000</td>\n",
              "      <td>50.000000</td>\n",
              "    </tr>\n",
              "    <tr>\n",
              "      <th>mean</th>\n",
              "      <td>7.78800</td>\n",
              "      <td>170.760000</td>\n",
              "      <td>65.540000</td>\n",
              "      <td>21.232000</td>\n",
              "    </tr>\n",
              "    <tr>\n",
              "      <th>std</th>\n",
              "      <td>4.35551</td>\n",
              "      <td>83.337661</td>\n",
              "      <td>14.474763</td>\n",
              "      <td>9.366385</td>\n",
              "    </tr>\n",
              "    <tr>\n",
              "      <th>min</th>\n",
              "      <td>0.80000</td>\n",
              "      <td>45.000000</td>\n",
              "      <td>32.000000</td>\n",
              "      <td>7.300000</td>\n",
              "    </tr>\n",
              "    <tr>\n",
              "      <th>25%</th>\n",
              "      <td>4.07500</td>\n",
              "      <td>109.000000</td>\n",
              "      <td>54.500000</td>\n",
              "      <td>15.075000</td>\n",
              "    </tr>\n",
              "    <tr>\n",
              "      <th>50%</th>\n",
              "      <td>7.25000</td>\n",
              "      <td>159.000000</td>\n",
              "      <td>66.000000</td>\n",
              "      <td>20.100000</td>\n",
              "    </tr>\n",
              "    <tr>\n",
              "      <th>75%</th>\n",
              "      <td>11.25000</td>\n",
              "      <td>249.000000</td>\n",
              "      <td>77.750000</td>\n",
              "      <td>26.175000</td>\n",
              "    </tr>\n",
              "    <tr>\n",
              "      <th>max</th>\n",
              "      <td>17.40000</td>\n",
              "      <td>337.000000</td>\n",
              "      <td>91.000000</td>\n",
              "      <td>46.000000</td>\n",
              "    </tr>\n",
              "  </tbody>\n",
              "</table>\n",
              "</div>\n",
              "    <div class=\"colab-df-buttons\">\n",
              "\n",
              "  <div class=\"colab-df-container\">\n",
              "    <button class=\"colab-df-convert\" onclick=\"convertToInteractive('df-2212dfbe-0b86-4808-8931-2236b861f461')\"\n",
              "            title=\"Convert this dataframe to an interactive table.\"\n",
              "            style=\"display:none;\">\n",
              "\n",
              "  <svg xmlns=\"http://www.w3.org/2000/svg\" height=\"24px\" viewBox=\"0 -960 960 960\">\n",
              "    <path d=\"M120-120v-720h720v720H120Zm60-500h600v-160H180v160Zm220 220h160v-160H400v160Zm0 220h160v-160H400v160ZM180-400h160v-160H180v160Zm440 0h160v-160H620v160ZM180-180h160v-160H180v160Zm440 0h160v-160H620v160Z\"/>\n",
              "  </svg>\n",
              "    </button>\n",
              "\n",
              "  <style>\n",
              "    .colab-df-container {\n",
              "      display:flex;\n",
              "      gap: 12px;\n",
              "    }\n",
              "\n",
              "    .colab-df-convert {\n",
              "      background-color: #E8F0FE;\n",
              "      border: none;\n",
              "      border-radius: 50%;\n",
              "      cursor: pointer;\n",
              "      display: none;\n",
              "      fill: #1967D2;\n",
              "      height: 32px;\n",
              "      padding: 0 0 0 0;\n",
              "      width: 32px;\n",
              "    }\n",
              "\n",
              "    .colab-df-convert:hover {\n",
              "      background-color: #E2EBFA;\n",
              "      box-shadow: 0px 1px 2px rgba(60, 64, 67, 0.3), 0px 1px 3px 1px rgba(60, 64, 67, 0.15);\n",
              "      fill: #174EA6;\n",
              "    }\n",
              "\n",
              "    .colab-df-buttons div {\n",
              "      margin-bottom: 4px;\n",
              "    }\n",
              "\n",
              "    [theme=dark] .colab-df-convert {\n",
              "      background-color: #3B4455;\n",
              "      fill: #D2E3FC;\n",
              "    }\n",
              "\n",
              "    [theme=dark] .colab-df-convert:hover {\n",
              "      background-color: #434B5C;\n",
              "      box-shadow: 0px 1px 3px 1px rgba(0, 0, 0, 0.15);\n",
              "      filter: drop-shadow(0px 1px 2px rgba(0, 0, 0, 0.3));\n",
              "      fill: #FFFFFF;\n",
              "    }\n",
              "  </style>\n",
              "\n",
              "    <script>\n",
              "      const buttonEl =\n",
              "        document.querySelector('#df-2212dfbe-0b86-4808-8931-2236b861f461 button.colab-df-convert');\n",
              "      buttonEl.style.display =\n",
              "        google.colab.kernel.accessAllowed ? 'block' : 'none';\n",
              "\n",
              "      async function convertToInteractive(key) {\n",
              "        const element = document.querySelector('#df-2212dfbe-0b86-4808-8931-2236b861f461');\n",
              "        const dataTable =\n",
              "          await google.colab.kernel.invokeFunction('convertToInteractive',\n",
              "                                                    [key], {});\n",
              "        if (!dataTable) return;\n",
              "\n",
              "        const docLinkHtml = 'Like what you see? Visit the ' +\n",
              "          '<a target=\"_blank\" href=https://colab.research.google.com/notebooks/data_table.ipynb>data table notebook</a>'\n",
              "          + ' to learn more about interactive tables.';\n",
              "        element.innerHTML = '';\n",
              "        dataTable['output_type'] = 'display_data';\n",
              "        await google.colab.output.renderOutput(dataTable, element);\n",
              "        const docLink = document.createElement('div');\n",
              "        docLink.innerHTML = docLinkHtml;\n",
              "        element.appendChild(docLink);\n",
              "      }\n",
              "    </script>\n",
              "  </div>\n",
              "\n",
              "\n",
              "<div id=\"df-198593ff-592a-4a33-859a-f0be257f6d50\">\n",
              "  <button class=\"colab-df-quickchart\" onclick=\"quickchart('df-198593ff-592a-4a33-859a-f0be257f6d50')\"\n",
              "            title=\"Suggest charts\"\n",
              "            style=\"display:none;\">\n",
              "\n",
              "<svg xmlns=\"http://www.w3.org/2000/svg\" height=\"24px\"viewBox=\"0 0 24 24\"\n",
              "     width=\"24px\">\n",
              "    <g>\n",
              "        <path d=\"M19 3H5c-1.1 0-2 .9-2 2v14c0 1.1.9 2 2 2h14c1.1 0 2-.9 2-2V5c0-1.1-.9-2-2-2zM9 17H7v-7h2v7zm4 0h-2V7h2v10zm4 0h-2v-4h2v4z\"/>\n",
              "    </g>\n",
              "</svg>\n",
              "  </button>\n",
              "\n",
              "<style>\n",
              "  .colab-df-quickchart {\n",
              "      --bg-color: #E8F0FE;\n",
              "      --fill-color: #1967D2;\n",
              "      --hover-bg-color: #E2EBFA;\n",
              "      --hover-fill-color: #174EA6;\n",
              "      --disabled-fill-color: #AAA;\n",
              "      --disabled-bg-color: #DDD;\n",
              "  }\n",
              "\n",
              "  [theme=dark] .colab-df-quickchart {\n",
              "      --bg-color: #3B4455;\n",
              "      --fill-color: #D2E3FC;\n",
              "      --hover-bg-color: #434B5C;\n",
              "      --hover-fill-color: #FFFFFF;\n",
              "      --disabled-bg-color: #3B4455;\n",
              "      --disabled-fill-color: #666;\n",
              "  }\n",
              "\n",
              "  .colab-df-quickchart {\n",
              "    background-color: var(--bg-color);\n",
              "    border: none;\n",
              "    border-radius: 50%;\n",
              "    cursor: pointer;\n",
              "    display: none;\n",
              "    fill: var(--fill-color);\n",
              "    height: 32px;\n",
              "    padding: 0;\n",
              "    width: 32px;\n",
              "  }\n",
              "\n",
              "  .colab-df-quickchart:hover {\n",
              "    background-color: var(--hover-bg-color);\n",
              "    box-shadow: 0 1px 2px rgba(60, 64, 67, 0.3), 0 1px 3px 1px rgba(60, 64, 67, 0.15);\n",
              "    fill: var(--button-hover-fill-color);\n",
              "  }\n",
              "\n",
              "  .colab-df-quickchart-complete:disabled,\n",
              "  .colab-df-quickchart-complete:disabled:hover {\n",
              "    background-color: var(--disabled-bg-color);\n",
              "    fill: var(--disabled-fill-color);\n",
              "    box-shadow: none;\n",
              "  }\n",
              "\n",
              "  .colab-df-spinner {\n",
              "    border: 2px solid var(--fill-color);\n",
              "    border-color: transparent;\n",
              "    border-bottom-color: var(--fill-color);\n",
              "    animation:\n",
              "      spin 1s steps(1) infinite;\n",
              "  }\n",
              "\n",
              "  @keyframes spin {\n",
              "    0% {\n",
              "      border-color: transparent;\n",
              "      border-bottom-color: var(--fill-color);\n",
              "      border-left-color: var(--fill-color);\n",
              "    }\n",
              "    20% {\n",
              "      border-color: transparent;\n",
              "      border-left-color: var(--fill-color);\n",
              "      border-top-color: var(--fill-color);\n",
              "    }\n",
              "    30% {\n",
              "      border-color: transparent;\n",
              "      border-left-color: var(--fill-color);\n",
              "      border-top-color: var(--fill-color);\n",
              "      border-right-color: var(--fill-color);\n",
              "    }\n",
              "    40% {\n",
              "      border-color: transparent;\n",
              "      border-right-color: var(--fill-color);\n",
              "      border-top-color: var(--fill-color);\n",
              "    }\n",
              "    60% {\n",
              "      border-color: transparent;\n",
              "      border-right-color: var(--fill-color);\n",
              "    }\n",
              "    80% {\n",
              "      border-color: transparent;\n",
              "      border-right-color: var(--fill-color);\n",
              "      border-bottom-color: var(--fill-color);\n",
              "    }\n",
              "    90% {\n",
              "      border-color: transparent;\n",
              "      border-bottom-color: var(--fill-color);\n",
              "    }\n",
              "  }\n",
              "</style>\n",
              "\n",
              "  <script>\n",
              "    async function quickchart(key) {\n",
              "      const quickchartButtonEl =\n",
              "        document.querySelector('#' + key + ' button');\n",
              "      quickchartButtonEl.disabled = true;  // To prevent multiple clicks.\n",
              "      quickchartButtonEl.classList.add('colab-df-spinner');\n",
              "      try {\n",
              "        const charts = await google.colab.kernel.invokeFunction(\n",
              "            'suggestCharts', [key], {});\n",
              "      } catch (error) {\n",
              "        console.error('Error during call to suggestCharts:', error);\n",
              "      }\n",
              "      quickchartButtonEl.classList.remove('colab-df-spinner');\n",
              "      quickchartButtonEl.classList.add('colab-df-quickchart-complete');\n",
              "    }\n",
              "    (() => {\n",
              "      let quickchartButtonEl =\n",
              "        document.querySelector('#df-198593ff-592a-4a33-859a-f0be257f6d50 button');\n",
              "      quickchartButtonEl.style.display =\n",
              "        google.colab.kernel.accessAllowed ? 'block' : 'none';\n",
              "    })();\n",
              "  </script>\n",
              "</div>\n",
              "    </div>\n",
              "  </div>\n"
            ]
          },
          "metadata": {},
          "execution_count": 9
        }
      ]
    },
    {
      "cell_type": "markdown",
      "metadata": {
        "papermill": {
          "duration": 0.051883,
          "end_time": "2020-09-26T07:21:41.813678",
          "exception": false,
          "start_time": "2020-09-26T07:21:41.761795",
          "status": "completed"
        },
        "tags": [],
        "id": "ZmGWHTeDq8i8"
      },
      "source": [
        "### Let's check for missing values."
      ]
    },
    {
      "cell_type": "code",
      "metadata": {
        "execution": {
          "iopub.execute_input": "2020-09-26T07:21:41.929917Z",
          "iopub.status.busy": "2020-09-26T07:21:41.928763Z",
          "iopub.status.idle": "2020-09-26T07:21:41.933959Z",
          "shell.execute_reply": "2020-09-26T07:21:41.933163Z"
        },
        "papermill": {
          "duration": 0.067722,
          "end_time": "2020-09-26T07:21:41.934149",
          "exception": false,
          "start_time": "2020-09-26T07:21:41.866427",
          "status": "completed"
        },
        "tags": [],
        "id": "iznpG2oSq8i9",
        "colab": {
          "base_uri": "https://localhost:8080/"
        },
        "outputId": "11197587-2322-4d83-c644-a0467201994f"
      },
      "source": [
        "crime.isnull().sum()"
      ],
      "execution_count": 10,
      "outputs": [
        {
          "output_type": "execute_result",
          "data": {
            "text/plain": [
              "Unnamed: 0    0\n",
              "Murder        0\n",
              "Assault       0\n",
              "UrbanPop      0\n",
              "Rape          0\n",
              "dtype: int64"
            ]
          },
          "metadata": {},
          "execution_count": 10
        }
      ]
    },
    {
      "cell_type": "markdown",
      "metadata": {
        "papermill": {
          "duration": 0.072799,
          "end_time": "2020-09-26T07:21:42.068581",
          "exception": false,
          "start_time": "2020-09-26T07:21:41.995782",
          "status": "completed"
        },
        "tags": [],
        "id": "5z5dBO-Vq8i9"
      },
      "source": [
        "**We have no missing values!**"
      ]
    },
    {
      "cell_type": "code",
      "metadata": {
        "execution": {
          "iopub.execute_input": "2020-09-26T07:21:42.207535Z",
          "iopub.status.busy": "2020-09-26T07:21:42.206564Z",
          "iopub.status.idle": "2020-09-26T07:21:42.210498Z",
          "shell.execute_reply": "2020-09-26T07:21:42.209624Z"
        },
        "papermill": {
          "duration": 0.072944,
          "end_time": "2020-09-26T07:21:42.210650",
          "exception": false,
          "start_time": "2020-09-26T07:21:42.137706",
          "status": "completed"
        },
        "tags": [],
        "id": "hR_FAnHwq8i-"
      },
      "source": [
        "# Renaming the column as Unnmaed doesn't make sense.\n",
        "crime = crime.rename(columns={'Unnamed: 0':'State'})"
      ],
      "execution_count": 11,
      "outputs": []
    },
    {
      "cell_type": "code",
      "metadata": {
        "execution": {
          "iopub.execute_input": "2020-09-26T07:21:42.333770Z",
          "iopub.status.busy": "2020-09-26T07:21:42.332559Z",
          "iopub.status.idle": "2020-09-26T07:21:42.337736Z",
          "shell.execute_reply": "2020-09-26T07:21:42.337057Z"
        },
        "papermill": {
          "duration": 0.073409,
          "end_time": "2020-09-26T07:21:42.337877",
          "exception": false,
          "start_time": "2020-09-26T07:21:42.264468",
          "status": "completed"
        },
        "tags": [],
        "id": "MtA05uEQq8i-",
        "colab": {
          "base_uri": "https://localhost:8080/",
          "height": 206
        },
        "outputId": "ff570988-b0ec-4831-a945-89c0cc291f91"
      },
      "source": [
        "crime.head()"
      ],
      "execution_count": 12,
      "outputs": [
        {
          "output_type": "execute_result",
          "data": {
            "text/plain": [
              "        State  Murder  Assault  UrbanPop  Rape\n",
              "0     Alabama    13.2      236        58  21.2\n",
              "1      Alaska    10.0      263        48  44.5\n",
              "2     Arizona     8.1      294        80  31.0\n",
              "3    Arkansas     8.8      190        50  19.5\n",
              "4  California     9.0      276        91  40.6"
            ],
            "text/html": [
              "\n",
              "  <div id=\"df-7a262a98-399f-4e5e-9273-b5c865fcd8f5\" class=\"colab-df-container\">\n",
              "    <div>\n",
              "<style scoped>\n",
              "    .dataframe tbody tr th:only-of-type {\n",
              "        vertical-align: middle;\n",
              "    }\n",
              "\n",
              "    .dataframe tbody tr th {\n",
              "        vertical-align: top;\n",
              "    }\n",
              "\n",
              "    .dataframe thead th {\n",
              "        text-align: right;\n",
              "    }\n",
              "</style>\n",
              "<table border=\"1\" class=\"dataframe\">\n",
              "  <thead>\n",
              "    <tr style=\"text-align: right;\">\n",
              "      <th></th>\n",
              "      <th>State</th>\n",
              "      <th>Murder</th>\n",
              "      <th>Assault</th>\n",
              "      <th>UrbanPop</th>\n",
              "      <th>Rape</th>\n",
              "    </tr>\n",
              "  </thead>\n",
              "  <tbody>\n",
              "    <tr>\n",
              "      <th>0</th>\n",
              "      <td>Alabama</td>\n",
              "      <td>13.2</td>\n",
              "      <td>236</td>\n",
              "      <td>58</td>\n",
              "      <td>21.2</td>\n",
              "    </tr>\n",
              "    <tr>\n",
              "      <th>1</th>\n",
              "      <td>Alaska</td>\n",
              "      <td>10.0</td>\n",
              "      <td>263</td>\n",
              "      <td>48</td>\n",
              "      <td>44.5</td>\n",
              "    </tr>\n",
              "    <tr>\n",
              "      <th>2</th>\n",
              "      <td>Arizona</td>\n",
              "      <td>8.1</td>\n",
              "      <td>294</td>\n",
              "      <td>80</td>\n",
              "      <td>31.0</td>\n",
              "    </tr>\n",
              "    <tr>\n",
              "      <th>3</th>\n",
              "      <td>Arkansas</td>\n",
              "      <td>8.8</td>\n",
              "      <td>190</td>\n",
              "      <td>50</td>\n",
              "      <td>19.5</td>\n",
              "    </tr>\n",
              "    <tr>\n",
              "      <th>4</th>\n",
              "      <td>California</td>\n",
              "      <td>9.0</td>\n",
              "      <td>276</td>\n",
              "      <td>91</td>\n",
              "      <td>40.6</td>\n",
              "    </tr>\n",
              "  </tbody>\n",
              "</table>\n",
              "</div>\n",
              "    <div class=\"colab-df-buttons\">\n",
              "\n",
              "  <div class=\"colab-df-container\">\n",
              "    <button class=\"colab-df-convert\" onclick=\"convertToInteractive('df-7a262a98-399f-4e5e-9273-b5c865fcd8f5')\"\n",
              "            title=\"Convert this dataframe to an interactive table.\"\n",
              "            style=\"display:none;\">\n",
              "\n",
              "  <svg xmlns=\"http://www.w3.org/2000/svg\" height=\"24px\" viewBox=\"0 -960 960 960\">\n",
              "    <path d=\"M120-120v-720h720v720H120Zm60-500h600v-160H180v160Zm220 220h160v-160H400v160Zm0 220h160v-160H400v160ZM180-400h160v-160H180v160Zm440 0h160v-160H620v160ZM180-180h160v-160H180v160Zm440 0h160v-160H620v160Z\"/>\n",
              "  </svg>\n",
              "    </button>\n",
              "\n",
              "  <style>\n",
              "    .colab-df-container {\n",
              "      display:flex;\n",
              "      gap: 12px;\n",
              "    }\n",
              "\n",
              "    .colab-df-convert {\n",
              "      background-color: #E8F0FE;\n",
              "      border: none;\n",
              "      border-radius: 50%;\n",
              "      cursor: pointer;\n",
              "      display: none;\n",
              "      fill: #1967D2;\n",
              "      height: 32px;\n",
              "      padding: 0 0 0 0;\n",
              "      width: 32px;\n",
              "    }\n",
              "\n",
              "    .colab-df-convert:hover {\n",
              "      background-color: #E2EBFA;\n",
              "      box-shadow: 0px 1px 2px rgba(60, 64, 67, 0.3), 0px 1px 3px 1px rgba(60, 64, 67, 0.15);\n",
              "      fill: #174EA6;\n",
              "    }\n",
              "\n",
              "    .colab-df-buttons div {\n",
              "      margin-bottom: 4px;\n",
              "    }\n",
              "\n",
              "    [theme=dark] .colab-df-convert {\n",
              "      background-color: #3B4455;\n",
              "      fill: #D2E3FC;\n",
              "    }\n",
              "\n",
              "    [theme=dark] .colab-df-convert:hover {\n",
              "      background-color: #434B5C;\n",
              "      box-shadow: 0px 1px 3px 1px rgba(0, 0, 0, 0.15);\n",
              "      filter: drop-shadow(0px 1px 2px rgba(0, 0, 0, 0.3));\n",
              "      fill: #FFFFFF;\n",
              "    }\n",
              "  </style>\n",
              "\n",
              "    <script>\n",
              "      const buttonEl =\n",
              "        document.querySelector('#df-7a262a98-399f-4e5e-9273-b5c865fcd8f5 button.colab-df-convert');\n",
              "      buttonEl.style.display =\n",
              "        google.colab.kernel.accessAllowed ? 'block' : 'none';\n",
              "\n",
              "      async function convertToInteractive(key) {\n",
              "        const element = document.querySelector('#df-7a262a98-399f-4e5e-9273-b5c865fcd8f5');\n",
              "        const dataTable =\n",
              "          await google.colab.kernel.invokeFunction('convertToInteractive',\n",
              "                                                    [key], {});\n",
              "        if (!dataTable) return;\n",
              "\n",
              "        const docLinkHtml = 'Like what you see? Visit the ' +\n",
              "          '<a target=\"_blank\" href=https://colab.research.google.com/notebooks/data_table.ipynb>data table notebook</a>'\n",
              "          + ' to learn more about interactive tables.';\n",
              "        element.innerHTML = '';\n",
              "        dataTable['output_type'] = 'display_data';\n",
              "        await google.colab.output.renderOutput(dataTable, element);\n",
              "        const docLink = document.createElement('div');\n",
              "        docLink.innerHTML = docLinkHtml;\n",
              "        element.appendChild(docLink);\n",
              "      }\n",
              "    </script>\n",
              "  </div>\n",
              "\n",
              "\n",
              "<div id=\"df-613f280b-86c8-42d0-bf3b-d5d579148969\">\n",
              "  <button class=\"colab-df-quickchart\" onclick=\"quickchart('df-613f280b-86c8-42d0-bf3b-d5d579148969')\"\n",
              "            title=\"Suggest charts\"\n",
              "            style=\"display:none;\">\n",
              "\n",
              "<svg xmlns=\"http://www.w3.org/2000/svg\" height=\"24px\"viewBox=\"0 0 24 24\"\n",
              "     width=\"24px\">\n",
              "    <g>\n",
              "        <path d=\"M19 3H5c-1.1 0-2 .9-2 2v14c0 1.1.9 2 2 2h14c1.1 0 2-.9 2-2V5c0-1.1-.9-2-2-2zM9 17H7v-7h2v7zm4 0h-2V7h2v10zm4 0h-2v-4h2v4z\"/>\n",
              "    </g>\n",
              "</svg>\n",
              "  </button>\n",
              "\n",
              "<style>\n",
              "  .colab-df-quickchart {\n",
              "      --bg-color: #E8F0FE;\n",
              "      --fill-color: #1967D2;\n",
              "      --hover-bg-color: #E2EBFA;\n",
              "      --hover-fill-color: #174EA6;\n",
              "      --disabled-fill-color: #AAA;\n",
              "      --disabled-bg-color: #DDD;\n",
              "  }\n",
              "\n",
              "  [theme=dark] .colab-df-quickchart {\n",
              "      --bg-color: #3B4455;\n",
              "      --fill-color: #D2E3FC;\n",
              "      --hover-bg-color: #434B5C;\n",
              "      --hover-fill-color: #FFFFFF;\n",
              "      --disabled-bg-color: #3B4455;\n",
              "      --disabled-fill-color: #666;\n",
              "  }\n",
              "\n",
              "  .colab-df-quickchart {\n",
              "    background-color: var(--bg-color);\n",
              "    border: none;\n",
              "    border-radius: 50%;\n",
              "    cursor: pointer;\n",
              "    display: none;\n",
              "    fill: var(--fill-color);\n",
              "    height: 32px;\n",
              "    padding: 0;\n",
              "    width: 32px;\n",
              "  }\n",
              "\n",
              "  .colab-df-quickchart:hover {\n",
              "    background-color: var(--hover-bg-color);\n",
              "    box-shadow: 0 1px 2px rgba(60, 64, 67, 0.3), 0 1px 3px 1px rgba(60, 64, 67, 0.15);\n",
              "    fill: var(--button-hover-fill-color);\n",
              "  }\n",
              "\n",
              "  .colab-df-quickchart-complete:disabled,\n",
              "  .colab-df-quickchart-complete:disabled:hover {\n",
              "    background-color: var(--disabled-bg-color);\n",
              "    fill: var(--disabled-fill-color);\n",
              "    box-shadow: none;\n",
              "  }\n",
              "\n",
              "  .colab-df-spinner {\n",
              "    border: 2px solid var(--fill-color);\n",
              "    border-color: transparent;\n",
              "    border-bottom-color: var(--fill-color);\n",
              "    animation:\n",
              "      spin 1s steps(1) infinite;\n",
              "  }\n",
              "\n",
              "  @keyframes spin {\n",
              "    0% {\n",
              "      border-color: transparent;\n",
              "      border-bottom-color: var(--fill-color);\n",
              "      border-left-color: var(--fill-color);\n",
              "    }\n",
              "    20% {\n",
              "      border-color: transparent;\n",
              "      border-left-color: var(--fill-color);\n",
              "      border-top-color: var(--fill-color);\n",
              "    }\n",
              "    30% {\n",
              "      border-color: transparent;\n",
              "      border-left-color: var(--fill-color);\n",
              "      border-top-color: var(--fill-color);\n",
              "      border-right-color: var(--fill-color);\n",
              "    }\n",
              "    40% {\n",
              "      border-color: transparent;\n",
              "      border-right-color: var(--fill-color);\n",
              "      border-top-color: var(--fill-color);\n",
              "    }\n",
              "    60% {\n",
              "      border-color: transparent;\n",
              "      border-right-color: var(--fill-color);\n",
              "    }\n",
              "    80% {\n",
              "      border-color: transparent;\n",
              "      border-right-color: var(--fill-color);\n",
              "      border-bottom-color: var(--fill-color);\n",
              "    }\n",
              "    90% {\n",
              "      border-color: transparent;\n",
              "      border-bottom-color: var(--fill-color);\n",
              "    }\n",
              "  }\n",
              "</style>\n",
              "\n",
              "  <script>\n",
              "    async function quickchart(key) {\n",
              "      const quickchartButtonEl =\n",
              "        document.querySelector('#' + key + ' button');\n",
              "      quickchartButtonEl.disabled = true;  // To prevent multiple clicks.\n",
              "      quickchartButtonEl.classList.add('colab-df-spinner');\n",
              "      try {\n",
              "        const charts = await google.colab.kernel.invokeFunction(\n",
              "            'suggestCharts', [key], {});\n",
              "      } catch (error) {\n",
              "        console.error('Error during call to suggestCharts:', error);\n",
              "      }\n",
              "      quickchartButtonEl.classList.remove('colab-df-spinner');\n",
              "      quickchartButtonEl.classList.add('colab-df-quickchart-complete');\n",
              "    }\n",
              "    (() => {\n",
              "      let quickchartButtonEl =\n",
              "        document.querySelector('#df-613f280b-86c8-42d0-bf3b-d5d579148969 button');\n",
              "      quickchartButtonEl.style.display =\n",
              "        google.colab.kernel.accessAllowed ? 'block' : 'none';\n",
              "    })();\n",
              "  </script>\n",
              "</div>\n",
              "    </div>\n",
              "  </div>\n"
            ]
          },
          "metadata": {},
          "execution_count": 12
        }
      ]
    },
    {
      "cell_type": "markdown",
      "metadata": {
        "id": "p2eYKKYUfxbK"
      },
      "source": [
        "# Exploratory Data Analysis"
      ]
    },
    {
      "cell_type": "markdown",
      "metadata": {
        "papermill": {
          "duration": 0.053297,
          "end_time": "2020-09-26T07:21:42.444817",
          "exception": false,
          "start_time": "2020-09-26T07:21:42.391520",
          "status": "completed"
        },
        "tags": [],
        "id": "nQMlUlnbq8i_"
      },
      "source": [
        "## 1) Murder Rate"
      ]
    },
    {
      "cell_type": "code",
      "metadata": {
        "execution": {
          "iopub.execute_input": "2020-09-26T07:21:42.561386Z",
          "iopub.status.busy": "2020-09-26T07:21:42.560438Z",
          "iopub.status.idle": "2020-09-26T07:21:43.845046Z",
          "shell.execute_reply": "2020-09-26T07:21:43.845654Z"
        },
        "papermill": {
          "duration": 1.345923,
          "end_time": "2020-09-26T07:21:43.845836",
          "exception": false,
          "start_time": "2020-09-26T07:21:42.499913",
          "status": "completed"
        },
        "tags": [],
        "id": "8F8uxCIEq8i_",
        "colab": {
          "base_uri": "https://localhost:8080/",
          "height": 480
        },
        "outputId": "6b533ab7-7f4e-4c4a-ea8b-89e81ee85b17"
      },
      "source": [
        "plt.figure(figsize=(20,5))\n",
        "crime.groupby('State')['Murder'].max().plot(kind='bar')"
      ],
      "execution_count": 13,
      "outputs": [
        {
          "output_type": "execute_result",
          "data": {
            "text/plain": [
              "<Axes: xlabel='State'>"
            ]
          },
          "metadata": {},
          "execution_count": 13
        },
        {
          "output_type": "display_data",
          "data": {
            "text/plain": [
              "<Figure size 2000x500 with 1 Axes>"
            ],
            "image/png": "[encoded data removed]"
          },
          "metadata": {}
        }
      ]
    },
    {
      "cell_type": "markdown",
      "metadata": {
        "papermill": {
          "duration": 0.055769,
          "end_time": "2020-09-26T07:21:43.957517",
          "exception": false,
          "start_time": "2020-09-26T07:21:43.901748",
          "status": "completed"
        },
        "tags": [],
        "id": "zb5yxGa4q8jA"
      },
      "source": [
        "### **Observations**:\n",
        "\n",
        "* Highest Murder Rate : Georgia and Missisippi\n",
        "* Lowest Murder Rate : Idaho , Iowa, Maine, New Hampshire, North Dakota, Vermont and Wisconsin."
      ]
    },
    {
      "cell_type": "markdown",
      "metadata": {
        "papermill": {
          "duration": 0.055252,
          "end_time": "2020-09-26T07:21:44.067986",
          "exception": false,
          "start_time": "2020-09-26T07:21:44.012734",
          "status": "completed"
        },
        "tags": [],
        "id": "MUTbnjbOq8jB"
      },
      "source": [
        "## 2) Assault Rate"
      ]
    },
    {
      "cell_type": "code",
      "metadata": {
        "execution": {
          "iopub.execute_input": "2020-09-26T07:21:44.185150Z",
          "iopub.status.busy": "2020-09-26T07:21:44.184069Z",
          "iopub.status.idle": "2020-09-26T07:21:45.445161Z",
          "shell.execute_reply": "2020-09-26T07:21:45.444490Z"
        },
        "papermill": {
          "duration": 1.322265,
          "end_time": "2020-09-26T07:21:45.445288",
          "exception": false,
          "start_time": "2020-09-26T07:21:44.123023",
          "status": "completed"
        },
        "tags": [],
        "id": "FJDy3Lsvq8jB",
        "outputId": "59542c21-6e20-4446-cfde-75a4e4eb7596",
        "colab": {
          "base_uri": "https://localhost:8080/",
          "height": 482
        }
      },
      "source": [
        "plt.figure(figsize=(20,5))\n",
        "crime.groupby('State')['Assault'].max().plot(kind='bar')"
      ],
      "execution_count": 14,
      "outputs": [
        {
          "output_type": "execute_result",
          "data": {
            "text/plain": [
              "<Axes: xlabel='State'>"
            ]
          },
          "metadata": {},
          "execution_count": 14
        },
        {
          "output_type": "display_data",
          "data": {
            "text/plain": [
              "<Figure size 2000x500 with 1 Axes>"
            ],
            "image/png": "[encoded data removed]"
          },
          "metadata": {}
        }
      ]
    },
    {
      "cell_type": "markdown",
      "metadata": {
        "papermill": {
          "duration": 0.080064,
          "end_time": "2020-09-26T07:21:45.606175",
          "exception": false,
          "start_time": "2020-09-26T07:21:45.526111",
          "status": "completed"
        },
        "tags": [],
        "id": "fxDMWXa0q8jC"
      },
      "source": [
        "### **Observations**:\n",
        "\n",
        "* Highest Assualt Rate : Florida and North California.\n",
        "* Lowest Assualt Rate : Hawaii, North Dakota, Vermont , New Hampshire and Wisconsin."
      ]
    },
    {
      "cell_type": "markdown",
      "metadata": {
        "papermill": {
          "duration": 0.059832,
          "end_time": "2020-09-26T07:21:45.731862",
          "exception": false,
          "start_time": "2020-09-26T07:21:45.672030",
          "status": "completed"
        },
        "tags": [],
        "id": "XQdkqPznq8jC"
      },
      "source": [
        "## 3) Rape Rate"
      ]
    },
    {
      "cell_type": "code",
      "metadata": {
        "execution": {
          "iopub.execute_input": "2020-09-26T07:21:45.860855Z",
          "iopub.status.busy": "2020-09-26T07:21:45.859324Z",
          "iopub.status.idle": "2020-09-26T07:21:47.070269Z",
          "shell.execute_reply": "2020-09-26T07:21:47.069595Z"
        },
        "papermill": {
          "duration": 1.278271,
          "end_time": "2020-09-26T07:21:47.070424",
          "exception": false,
          "start_time": "2020-09-26T07:21:45.792153",
          "status": "completed"
        },
        "tags": [],
        "id": "qvCfBdLrq8jD",
        "outputId": "237f910f-9246-47a3-fa07-30dd1c3e76b8",
        "colab": {
          "base_uri": "https://localhost:8080/",
          "height": 484
        }
      },
      "source": [
        "plt.figure(figsize=(20,5))\n",
        "crime.groupby('State')['Rape'].max().plot(kind='bar')"
      ],
      "execution_count": 15,
      "outputs": [
        {
          "output_type": "execute_result",
          "data": {
            "text/plain": [
              "<Axes: xlabel='State'>"
            ]
          },
          "metadata": {},
          "execution_count": 15
        },
        {
          "output_type": "display_data",
          "data": {
            "text/plain": [
              "<Figure size 2000x500 with 1 Axes>"
            ],
            "image/png": "[encoded data removed]"
          },
          "metadata": {}
        }
      ]
    },
    {
      "cell_type": "markdown",
      "metadata": {
        "papermill": {
          "duration": 0.060271,
          "end_time": "2020-09-26T07:21:47.190957",
          "exception": false,
          "start_time": "2020-09-26T07:21:47.130686",
          "status": "completed"
        },
        "tags": [],
        "id": "fB9dGmk0q8jD"
      },
      "source": [
        "### Observations:\n",
        "\n",
        "* Highest UrbanPop Rate : Nevada and Alaska.\n",
        "* Lowest UrbanPop Rate  : Maine, North Dakota,Vermont,Connecticut,New Hampshire, Wisconsin,Rhode Island and West Virginia"
      ]
    },
    {
      "cell_type": "markdown",
      "metadata": {
        "papermill": {
          "duration": 0.060931,
          "end_time": "2020-09-26T07:21:47.311842",
          "exception": false,
          "start_time": "2020-09-26T07:21:47.250911",
          "status": "completed"
        },
        "tags": [],
        "id": "bEM3zHIyq8jE"
      },
      "source": [
        "## 4) UrbanPop : Percent Urban Population"
      ]
    },
    {
      "cell_type": "code",
      "metadata": {
        "execution": {
          "iopub.execute_input": "2020-09-26T07:21:47.448088Z",
          "iopub.status.busy": "2020-09-26T07:21:47.438416Z",
          "iopub.status.idle": "2020-09-26T07:21:48.674170Z",
          "shell.execute_reply": "2020-09-26T07:21:48.673281Z"
        },
        "papermill": {
          "duration": 1.302376,
          "end_time": "2020-09-26T07:21:48.674333",
          "exception": false,
          "start_time": "2020-09-26T07:21:47.371957",
          "status": "completed"
        },
        "tags": [],
        "id": "zBT7QINLq8jE",
        "colab": {
          "base_uri": "https://localhost:8080/",
          "height": 484
        },
        "outputId": "9b3a92af-5290-4b41-c310-c6054a3553cf"
      },
      "source": [
        "plt.figure(figsize=(20,5))\n",
        "crime.groupby('State')['UrbanPop'].max().plot(kind='bar')"
      ],
      "execution_count": 16,
      "outputs": [
        {
          "output_type": "execute_result",
          "data": {
            "text/plain": [
              "<Axes: xlabel='State'>"
            ]
          },
          "metadata": {},
          "execution_count": 16
        },
        {
          "output_type": "display_data",
          "data": {
            "text/plain": [
              "<Figure size 2000x500 with 1 Axes>"
            ],
            "image/png": "[encoded data removed]"
          },
          "metadata": {}
        }
      ]
    },
    {
      "cell_type": "code",
      "metadata": {
        "execution": {
          "iopub.execute_input": "2020-09-26T07:21:50.365459Z",
          "iopub.status.busy": "2020-09-26T07:21:50.364422Z",
          "iopub.status.idle": "2020-09-26T07:21:50.368314Z",
          "shell.execute_reply": "2020-09-26T07:21:50.367635Z"
        },
        "papermill": {
          "duration": 0.083189,
          "end_time": "2020-09-26T07:21:50.368456",
          "exception": false,
          "start_time": "2020-09-26T07:21:50.285267",
          "status": "completed"
        },
        "tags": [],
        "id": "KGKtJV99q8jQ"
      },
      "source": [
        "data = crime.iloc[:,1:].values"
      ],
      "execution_count": 17,
      "outputs": []
    },
    {
      "cell_type": "code",
      "source": [
        "data"
      ],
      "metadata": {
        "colab": {
          "base_uri": "https://localhost:8080/"
        },
        "id": "X-4QoRd0qFOT",
        "outputId": "3833f9d0-c675-4d36-c674-c64775d270c5"
      },
      "execution_count": 40,
      "outputs": [
        {
          "output_type": "execute_result",
          "data": {
            "text/plain": [
              "array([[ 13.2, 236. ,  58. ,  21.2],\n",
              "       [ 10. , 263. ,  48. ,  44.5],\n",
              "       [  8.1, 294. ,  80. ,  31. ],\n",
              "       [  8.8, 190. ,  50. ,  19.5],\n",
              "       [  9. , 276. ,  91. ,  40.6],\n",
              "       [  7.9, 204. ,  78. ,  38.7],\n",
              "       [  3.3, 110. ,  77. ,  11.1],\n",
              "       [  5.9, 238. ,  72. ,  15.8],\n",
              "       [ 15.4, 335. ,  80. ,  31.9],\n",
              "       [ 17.4, 211. ,  60. ,  25.8],\n",
              "       [  5.3,  46. ,  83. ,  20.2],\n",
              "       [  2.6, 120. ,  54. ,  14.2],\n",
              "       [ 10.4, 249. ,  83. ,  24. ],\n",
              "       [  7.2, 113. ,  65. ,  21. ],\n",
              "       [  2.2,  56. ,  57. ,  11.3],\n",
              "       [  6. , 115. ,  66. ,  18. ],\n",
              "       [  9.7, 109. ,  52. ,  16.3],\n",
              "       [ 15.4, 249. ,  66. ,  22.2],\n",
              "       [  2.1,  83. ,  51. ,   7.8],\n",
              "       [ 11.3, 300. ,  67. ,  27.8],\n",
              "       [  4.4, 149. ,  85. ,  16.3],\n",
              "       [ 12.1, 255. ,  74. ,  35.1],\n",
              "       [  2.7,  72. ,  66. ,  14.9],\n",
              "       [ 16.1, 259. ,  44. ,  17.1],\n",
              "       [  9. , 178. ,  70. ,  28.2],\n",
              "       [  6. , 109. ,  53. ,  16.4],\n",
              "       [  4.3, 102. ,  62. ,  16.5],\n",
              "       [ 12.2, 252. ,  81. ,  46. ],\n",
              "       [  2.1,  57. ,  56. ,   9.5],\n",
              "       [  7.4, 159. ,  89. ,  18.8],\n",
              "       [ 11.4, 285. ,  70. ,  32.1],\n",
              "       [ 11.1, 254. ,  86. ,  26.1],\n",
              "       [ 13. , 337. ,  45. ,  16.1],\n",
              "       [  0.8,  45. ,  44. ,   7.3],\n",
              "       [  7.3, 120. ,  75. ,  21.4],\n",
              "       [  6.6, 151. ,  68. ,  20. ],\n",
              "       [  4.9, 159. ,  67. ,  29.3],\n",
              "       [  6.3, 106. ,  72. ,  14.9],\n",
              "       [  3.4, 174. ,  87. ,   8.3],\n",
              "       [ 14.4, 279. ,  48. ,  22.5],\n",
              "       [  3.8,  86. ,  45. ,  12.8],\n",
              "       [ 13.2, 188. ,  59. ,  26.9],\n",
              "       [ 12.7, 201. ,  80. ,  25.5],\n",
              "       [  3.2, 120. ,  80. ,  22.9],\n",
              "       [  2.2,  48. ,  32. ,  11.2],\n",
              "       [  8.5, 156. ,  63. ,  20.7],\n",
              "       [  4. , 145. ,  73. ,  26.2],\n",
              "       [  5.7,  81. ,  39. ,   9.3],\n",
              "       [  2.6,  53. ,  66. ,  10.8],\n",
              "       [  6.8, 161. ,  60. ,  15.6]])"
            ]
          },
          "metadata": {},
          "execution_count": 40
        }
      ]
    },
    {
      "cell_type": "code",
      "metadata": {
        "execution": {
          "iopub.execute_input": "2020-09-26T07:21:50.513713Z",
          "iopub.status.busy": "2020-09-26T07:21:50.512699Z",
          "iopub.status.idle": "2020-09-26T07:21:50.520176Z",
          "shell.execute_reply": "2020-09-26T07:21:50.519285Z"
        },
        "papermill": {
          "duration": 0.082074,
          "end_time": "2020-09-26T07:21:50.520328",
          "exception": false,
          "start_time": "2020-09-26T07:21:50.438254",
          "status": "completed"
        },
        "tags": [],
        "id": "GG4FYERiq8jQ"
      },
      "source": [
        "scaled_data = scaler.fit_transform(data)"
      ],
      "execution_count": 18,
      "outputs": []
    },
    {
      "cell_type": "code",
      "source": [
        "scaled_data"
      ],
      "metadata": {
        "colab": {
          "base_uri": "https://localhost:8080/"
        },
        "id": "wblpB_IwlSqq",
        "outputId": "abaceb8f-f8e2-4278-ea3f-8674a7d9b5d6"
      },
      "execution_count": 35,
      "outputs": [
        {
          "output_type": "execute_result",
          "data": {
            "text/plain": [
              "array([[ 1.25517927,  0.79078716, -0.52619514, -0.00345116],\n",
              "       [ 0.51301858,  1.11805959, -1.22406668,  2.50942392],\n",
              "       [ 0.07236067,  1.49381682,  1.00912225,  1.05346626],\n",
              "       [ 0.23470832,  0.23321191, -1.08449238, -0.18679398],\n",
              "       [ 0.28109336,  1.2756352 ,  1.77678094,  2.08881393],\n",
              "       [ 0.02597562,  0.40290872,  0.86954794,  1.88390137],\n",
              "       [-1.04088037, -0.73648418,  0.79976079, -1.09272319],\n",
              "       [-0.43787481,  0.81502956,  0.45082502, -0.58583422],\n",
              "       [ 1.76541475,  1.99078607,  1.00912225,  1.1505301 ],\n",
              "       [ 2.22926518,  0.48775713, -0.38662083,  0.49265293],\n",
              "       [-0.57702994, -1.51224105,  1.21848371, -0.11129987],\n",
              "       [-1.20322802, -0.61527217, -0.80534376, -0.75839217],\n",
              "       [ 0.60578867,  0.94836277,  1.21848371,  0.29852525],\n",
              "       [-0.13637203, -0.70012057, -0.03768506, -0.0250209 ],\n",
              "       [-1.29599811, -1.39102904, -0.5959823 , -1.07115345],\n",
              "       [-0.41468229, -0.67587817,  0.03210209, -0.34856705],\n",
              "       [ 0.44344101, -0.74860538, -0.94491807, -0.53190987],\n",
              "       [ 1.76541475,  0.94836277,  0.03210209,  0.10439756],\n",
              "       [-1.31919063, -1.06375661, -1.01470522, -1.44862395],\n",
              "       [ 0.81452136,  1.56654403,  0.10188925,  0.70835037],\n",
              "       [-0.78576263, -0.26375734,  1.35805802, -0.53190987],\n",
              "       [ 1.00006153,  1.02108998,  0.59039932,  1.49564599],\n",
              "       [-1.1800355 , -1.19708982,  0.03210209, -0.68289807],\n",
              "       [ 1.9277624 ,  1.06957478, -1.5032153 , -0.44563089],\n",
              "       [ 0.28109336,  0.0877575 ,  0.31125071,  0.75148985],\n",
              "       [-0.41468229, -0.74860538, -0.87513091, -0.521125  ],\n",
              "       [-0.80895515, -0.83345379, -0.24704653, -0.51034012],\n",
              "       [ 1.02325405,  0.98472638,  1.0789094 ,  2.671197  ],\n",
              "       [-1.31919063, -1.37890783, -0.66576945, -1.26528114],\n",
              "       [-0.08998698, -0.14254532,  1.63720664, -0.26228808],\n",
              "       [ 0.83771388,  1.38472601,  0.31125071,  1.17209984],\n",
              "       [ 0.76813632,  1.00896878,  1.42784517,  0.52500755],\n",
              "       [ 1.20879423,  2.01502847, -1.43342815, -0.55347961],\n",
              "       [-1.62069341, -1.52436225, -1.5032153 , -1.50254831],\n",
              "       [-0.11317951, -0.61527217,  0.66018648,  0.01811858],\n",
              "       [-0.27552716, -0.23951493,  0.1716764 , -0.13286962],\n",
              "       [-0.66980002, -0.14254532,  0.10188925,  0.87012344],\n",
              "       [-0.34510472, -0.78496898,  0.45082502, -0.68289807],\n",
              "       [-1.01768785,  0.03927269,  1.49763233, -1.39469959],\n",
              "       [ 1.53348953,  1.3119988 , -1.22406668,  0.13675217],\n",
              "       [-0.92491776, -1.027393  , -1.43342815, -0.90938037],\n",
              "       [ 1.25517927,  0.20896951, -0.45640799,  0.61128652],\n",
              "       [ 1.13921666,  0.36654512,  1.00912225,  0.46029832],\n",
              "       [-1.06407289, -0.61527217,  1.00912225,  0.17989166],\n",
              "       [-1.29599811, -1.48799864, -2.34066115, -1.08193832],\n",
              "       [ 0.16513075, -0.17890893, -0.17725937, -0.05737552],\n",
              "       [-0.87853272, -0.31224214,  0.52061217,  0.53579242],\n",
              "       [-0.48425985, -1.08799901, -1.85215107, -1.28685088],\n",
              "       [-1.20322802, -1.42739264,  0.03210209, -1.1250778 ],\n",
              "       [-0.22914211, -0.11830292, -0.38662083, -0.60740397]])"
            ]
          },
          "metadata": {},
          "execution_count": 35
        }
      ]
    },
    {
      "cell_type": "markdown",
      "metadata": {
        "papermill": {
          "duration": 0.069969,
          "end_time": "2020-09-26T07:21:50.660922",
          "exception": false,
          "start_time": "2020-09-26T07:21:50.590953",
          "status": "completed"
        },
        "tags": [],
        "id": "hcLb1joNq8jR"
      },
      "source": [
        "# Types of Linkages:"
      ]
    },
    {
      "cell_type": "markdown",
      "metadata": {
        "papermill": {
          "duration": 0.066578,
          "end_time": "2020-09-26T07:21:50.796292",
          "exception": false,
          "start_time": "2020-09-26T07:21:50.729714",
          "status": "completed"
        },
        "tags": [],
        "id": "oYeXB_Omq8jR"
      },
      "source": [
        "## 1) Single Leakage:\n",
        "\n",
        "The distance between 2 clusters is defined as the shortest distance between points in the two clusters"
      ]
    },
    {
      "cell_type": "code",
      "metadata": {
        "execution": {
          "iopub.execute_input": "2020-09-26T07:21:50.945383Z",
          "iopub.status.busy": "2020-09-26T07:21:50.944569Z",
          "iopub.status.idle": "2020-09-26T07:21:51.898348Z",
          "shell.execute_reply": "2020-09-26T07:21:51.898949Z"
        },
        "papermill": {
          "duration": 1.034872,
          "end_time": "2020-09-26T07:21:51.899106",
          "exception": false,
          "start_time": "2020-09-26T07:21:50.864234",
          "status": "completed"
        },
        "tags": [],
        "id": "m0b7BTXdq8jS",
        "colab": {
          "base_uri": "https://localhost:8080/",
          "height": 415
        },
        "outputId": "8148017f-f77c-46c7-c627-64cb1301349b"
      },
      "source": [
        "plt.figure(figsize=(20,5))\n",
        "plt.title(\"Crime Rate Dendograms\")\n",
        "dend = sch.dendrogram(sch.linkage(scaled_data, method='single'))\n",
        "plt.xlabel('Crime Rate')\n",
        "plt.ylabel('Euclidean distances')"
      ],
      "execution_count": 19,
      "outputs": [
        {
          "output_type": "execute_result",
          "data": {
            "text/plain": [
              "Text(0, 0.5, 'Euclidean distances')"
            ]
          },
          "metadata": {},
          "execution_count": 19
        },
        {
          "output_type": "display_data",
          "data": {
            "text/plain": [
              "<Figure size 2000x500 with 1 Axes>"
            ],
            "image/png": "[encoded data removed]"
          },
          "metadata": {}
        }
      ]
    },
    {
      "cell_type": "markdown",
      "metadata": {
        "papermill": {
          "duration": 0.071195,
          "end_time": "2020-09-26T07:21:52.039641",
          "exception": false,
          "start_time": "2020-09-26T07:21:51.968446",
          "status": "completed"
        },
        "tags": [],
        "id": "UkyQnJutq8jS"
      },
      "source": [
        "The hierarchy class has a dendrogram method which takes the value returned by the linkage method of the same class. The linkage method takes the dataset and the method to minimize distances as parameters."
      ]
    },
    {
      "cell_type": "markdown",
      "metadata": {
        "papermill": {
          "duration": 0.071041,
          "end_time": "2020-09-26T07:21:52.180848",
          "exception": false,
          "start_time": "2020-09-26T07:21:52.109807",
          "status": "completed"
        },
        "tags": [],
        "id": "C58hXDY8q8jT"
      },
      "source": [
        "## 2) Complete Linkage:\n",
        "\n",
        "The distance between 2 clusters is defined as the maximum distance between any 2 points in the clusters"
      ]
    },
    {
      "cell_type": "code",
      "metadata": {
        "execution": {
          "iopub.execute_input": "2020-09-26T07:21:52.340484Z",
          "iopub.status.busy": "2020-09-26T07:21:52.339381Z",
          "iopub.status.idle": "2020-09-26T07:21:53.344592Z",
          "shell.execute_reply": "2020-09-26T07:21:53.343983Z"
        },
        "papermill": {
          "duration": 1.092472,
          "end_time": "2020-09-26T07:21:53.344721",
          "exception": false,
          "start_time": "2020-09-26T07:21:52.252249",
          "status": "completed"
        },
        "tags": [],
        "id": "5omqciOSq8jT",
        "colab": {
          "base_uri": "https://localhost:8080/",
          "height": 420
        },
        "outputId": "d384f802-8639-455b-b820-8dfa0cd6b60f"
      },
      "source": [
        "plt.figure(figsize=(20,5))\n",
        "plt.title(\"Crime Rate Dendograms\")\n",
        "dend = sch.dendrogram(sch.linkage(scaled_data, method='complete'))\n",
        "plt.xlabel('Crime Rate')\n",
        "plt.ylabel('Euclidean distances')"
      ],
      "execution_count": 20,
      "outputs": [
        {
          "output_type": "execute_result",
          "data": {
            "text/plain": [
              "Text(0, 0.5, 'Euclidean distances')"
            ]
          },
          "metadata": {},
          "execution_count": 20
        },
        {
          "output_type": "display_data",
          "data": {
            "text/plain": [
              "<Figure size 2000x500 with 1 Axes>"
            ],
            "image/png": "[encoded data removed]"
          },
          "metadata": {}
        }
      ]
    },
    {
      "cell_type": "markdown",
      "metadata": {
        "papermill": {
          "duration": 0.078831,
          "end_time": "2020-09-26T07:21:53.495427",
          "exception": false,
          "start_time": "2020-09-26T07:21:53.416596",
          "status": "completed"
        },
        "tags": [],
        "id": "EIvT6OSnq8jW"
      },
      "source": [
        "## 3) Average Linkage:\n",
        "    \n",
        "The distance between 2 clusters is defined as the average distance between every point of one cluster to every other point of the other cluster."
      ]
    },
    {
      "cell_type": "code",
      "metadata": {
        "execution": {
          "iopub.execute_input": "2020-09-26T07:21:53.651456Z",
          "iopub.status.busy": "2020-09-26T07:21:53.650525Z",
          "iopub.status.idle": "2020-09-26T07:21:54.717867Z",
          "shell.execute_reply": "2020-09-26T07:21:54.717084Z"
        },
        "papermill": {
          "duration": 1.151056,
          "end_time": "2020-09-26T07:21:54.718004",
          "exception": false,
          "start_time": "2020-09-26T07:21:53.566948",
          "status": "completed"
        },
        "tags": [],
        "id": "fsoYO4eHq8jW",
        "colab": {
          "base_uri": "https://localhost:8080/",
          "height": 417
        },
        "outputId": "7553f1ee-bfb1-4bbc-9bdb-e8de8d4a078f"
      },
      "source": [
        "plt.figure(figsize=(20,5))\n",
        "plt.title(\"Crime Rate Dendograms\")\n",
        "dend = sch.dendrogram(sch.linkage(scaled_data, method='average'))\n",
        "plt.xlabel('Crime Rate')\n",
        "plt.ylabel('Euclidean distances')"
      ],
      "execution_count": 37,
      "outputs": [
        {
          "output_type": "execute_result",
          "data": {
            "text/plain": [
              "Text(0, 0.5, 'Euclidean distances')"
            ]
          },
          "metadata": {},
          "execution_count": 37
        },
        {
          "output_type": "display_data",
          "data": {
            "text/plain": [
              "<Figure size 2000x500 with 1 Axes>"
            ],
            "image/png": "[encoded data removed]"
          },
          "metadata": {}
        }
      ]
    },
    {
      "cell_type": "markdown",
      "metadata": {
        "papermill": {
          "duration": 0.0726,
          "end_time": "2020-09-26T07:21:54.863903",
          "exception": false,
          "start_time": "2020-09-26T07:21:54.791303",
          "status": "completed"
        },
        "tags": [],
        "id": "aBzLUzLSq8jX"
      },
      "source": [
        "The single linkage type will produce dendrograms which are not structured properly, whereas complete or average linkage will produce clusters which have a proper tree-like structure."
      ]
    },
    {
      "cell_type": "code",
      "metadata": {
        "execution": {
          "iopub.execute_input": "2020-09-26T07:21:55.077994Z",
          "iopub.status.busy": "2020-09-26T07:21:55.075597Z",
          "iopub.status.idle": "2020-09-26T07:21:56.011542Z",
          "shell.execute_reply": "2020-09-26T07:21:56.010712Z"
        },
        "papermill": {
          "duration": 1.030731,
          "end_time": "2020-09-26T07:21:56.011684",
          "exception": false,
          "start_time": "2020-09-26T07:21:54.980953",
          "status": "completed"
        },
        "tags": [],
        "id": "L_emqzBDq8jX",
        "colab": {
          "base_uri": "https://localhost:8080/",
          "height": 586
        },
        "outputId": "80436c34-9d91-49b9-bc76-20b6686db516"
      },
      "source": [
        "# With Ward method\n",
        "plt.figure(figsize=(20,8))\n",
        "dendrogram = sch.dendrogram(sch.linkage(data, method  = \"ward\"))\n",
        "plt.title('Dendrogram')\n",
        "plt.xlabel('Crime Rate')\n",
        "plt.ylabel('Euclidean distances')\n",
        "plt.show()"
      ],
      "execution_count": 22,
      "outputs": [
        {
          "output_type": "display_data",
          "data": {
            "text/plain": [
              "<Figure size 2000x800 with 1 Axes>"
            ],
            "image/png": "[encoded data removed]"
          },
          "metadata": {}
        }
      ]
    },
    {
      "cell_type": "markdown",
      "metadata": {
        "papermill": {
          "duration": 0.0728,
          "end_time": "2020-09-26T07:21:56.158106",
          "exception": false,
          "start_time": "2020-09-26T07:21:56.085306",
          "status": "completed"
        },
        "tags": [],
        "id": "CYVopaJ7q8jY"
      },
      "source": [
        "## How do we determine the optimal number of clusters from this diagram?\n",
        "\n",
        "We look for the largest distance that we can vertically without crossing any horizontal line and this one is the red framed line on the above diagram. Let’s count the number of lines on the diagram and determine the optimal number of clusters. Cluster number will be 3 for this dataset."
      ]
    },
    {
      "cell_type": "code",
      "metadata": {
        "execution": {
          "iopub.execute_input": "2020-09-26T07:21:56.311680Z",
          "iopub.status.busy": "2020-09-26T07:21:56.310537Z",
          "iopub.status.idle": "2020-09-26T07:21:56.313993Z",
          "shell.execute_reply": "2020-09-26T07:21:56.313296Z"
        },
        "papermill": {
          "duration": 0.082502,
          "end_time": "2020-09-26T07:21:56.314112",
          "exception": false,
          "start_time": "2020-09-26T07:21:56.231610",
          "status": "completed"
        },
        "tags": [],
        "id": "dlHYmfFBq8jZ"
      },
      "source": [
        "# Fit the Agglomerative Clustering\n",
        "\n",
        "AC = AgglomerativeClustering(n_clusters = 3, affinity = 'euclidean', linkage ='ward')"
      ],
      "execution_count": 23,
      "outputs": []
    },
    {
      "cell_type": "markdown",
      "metadata": {
        "papermill": {
          "duration": 0.073308,
          "end_time": "2020-09-26T07:21:56.460942",
          "exception": false,
          "start_time": "2020-09-26T07:21:56.387634",
          "status": "completed"
        },
        "tags": [],
        "id": "aySKP6nmq8ja"
      },
      "source": [
        "### **Ward** method\n",
        "It is actually a method that tries to minimize the variance within each cluster. In K-means when we were trying to minimize the wcss to plot our elbow method chart, here it’s almost the same the only difference is that instead of minimizing wcss we are minimizing the within-cluster variants. That is the variance within each cluster."
      ]
    },
    {
      "cell_type": "code",
      "metadata": {
        "execution": {
          "iopub.execute_input": "2020-09-26T07:21:56.614903Z",
          "iopub.status.busy": "2020-09-26T07:21:56.614034Z",
          "iopub.status.idle": "2020-09-26T07:21:56.619861Z",
          "shell.execute_reply": "2020-09-26T07:21:56.619067Z"
        },
        "papermill": {
          "duration": 0.085473,
          "end_time": "2020-09-26T07:21:56.619988",
          "exception": false,
          "start_time": "2020-09-26T07:21:56.534515",
          "status": "completed"
        },
        "tags": [],
        "id": "RaCUe6nBq8ja",
        "colab": {
          "base_uri": "https://localhost:8080/"
        },
        "outputId": "cf6ec442-cd57-479e-c340-3a0d84dc8072"
      },
      "source": [
        "# Fit and predict to have the cluster labels.\n",
        "y_pred =AC.fit_predict(data)\n",
        "y_pred"
      ],
      "execution_count": 24,
      "outputs": [
        {
          "output_type": "execute_result",
          "data": {
            "text/plain": [
              "array([1, 1, 1, 2, 1, 2, 0, 1, 1, 2, 0, 0, 1, 0, 0, 0, 0, 1, 0, 1, 2, 1,\n",
              "       0, 1, 2, 0, 0, 1, 0, 2, 1, 1, 1, 0, 0, 2, 2, 0, 2, 1, 0, 2, 2, 0,\n",
              "       0, 2, 2, 0, 0, 2])"
            ]
          },
          "metadata": {},
          "execution_count": 24
        }
      ]
    },
    {
      "cell_type": "code",
      "metadata": {
        "execution": {
          "iopub.execute_input": "2020-09-26T07:21:56.778988Z",
          "iopub.status.busy": "2020-09-26T07:21:56.777882Z",
          "iopub.status.idle": "2020-09-26T07:21:56.781649Z",
          "shell.execute_reply": "2020-09-26T07:21:56.780892Z"
        },
        "papermill": {
          "duration": 0.085805,
          "end_time": "2020-09-26T07:21:56.781799",
          "exception": false,
          "start_time": "2020-09-26T07:21:56.695994",
          "status": "completed"
        },
        "tags": [],
        "id": "ooKR8Ledq8jb"
      },
      "source": [
        "# Fetch the cluster labels\n",
        "crime['cluster labels']= y_pred"
      ],
      "execution_count": 25,
      "outputs": []
    },
    {
      "cell_type": "code",
      "source": [
        "crime.head()"
      ],
      "metadata": {
        "colab": {
          "base_uri": "https://localhost:8080/",
          "height": 206
        },
        "id": "teOjdU4bocob",
        "outputId": "f8120d7c-4dd7-442f-ecd1-ac1f2d1e7cd9"
      },
      "execution_count": 38,
      "outputs": [
        {
          "output_type": "execute_result",
          "data": {
            "text/plain": [
              "        State  Murder  Assault  UrbanPop  Rape  cluster labels\n",
              "0     Alabama    13.2      236        58  21.2               1\n",
              "1      Alaska    10.0      263        48  44.5               1\n",
              "2     Arizona     8.1      294        80  31.0               1\n",
              "3    Arkansas     8.8      190        50  19.5               2\n",
              "4  California     9.0      276        91  40.6               1"
            ],
            "text/html": [
              "\n",
              "  <div id=\"df-acc03865-c240-4e85-9e67-78ad05b33be0\" class=\"colab-df-container\">\n",
              "    <div>\n",
              "<style scoped>\n",
              "    .dataframe tbody tr th:only-of-type {\n",
              "        vertical-align: middle;\n",
              "    }\n",
              "\n",
              "    .dataframe tbody tr th {\n",
              "        vertical-align: top;\n",
              "    }\n",
              "\n",
              "    .dataframe thead th {\n",
              "        text-align: right;\n",
              "    }\n",
              "</style>\n",
              "<table border=\"1\" class=\"dataframe\">\n",
              "  <thead>\n",
              "    <tr style=\"text-align: right;\">\n",
              "      <th></th>\n",
              "      <th>State</th>\n",
              "      <th>Murder</th>\n",
              "      <th>Assault</th>\n",
              "      <th>UrbanPop</th>\n",
              "      <th>Rape</th>\n",
              "      <th>cluster labels</th>\n",
              "    </tr>\n",
              "  </thead>\n",
              "  <tbody>\n",
              "    <tr>\n",
              "      <th>0</th>\n",
              "      <td>Alabama</td>\n",
              "      <td>13.2</td>\n",
              "      <td>236</td>\n",
              "      <td>58</td>\n",
              "      <td>21.2</td>\n",
              "      <td>1</td>\n",
              "    </tr>\n",
              "    <tr>\n",
              "      <th>1</th>\n",
              "      <td>Alaska</td>\n",
              "      <td>10.0</td>\n",
              "      <td>263</td>\n",
              "      <td>48</td>\n",
              "      <td>44.5</td>\n",
              "      <td>1</td>\n",
              "    </tr>\n",
              "    <tr>\n",
              "      <th>2</th>\n",
              "      <td>Arizona</td>\n",
              "      <td>8.1</td>\n",
              "      <td>294</td>\n",
              "      <td>80</td>\n",
              "      <td>31.0</td>\n",
              "      <td>1</td>\n",
              "    </tr>\n",
              "    <tr>\n",
              "      <th>3</th>\n",
              "      <td>Arkansas</td>\n",
              "      <td>8.8</td>\n",
              "      <td>190</td>\n",
              "      <td>50</td>\n",
              "      <td>19.5</td>\n",
              "      <td>2</td>\n",
              "    </tr>\n",
              "    <tr>\n",
              "      <th>4</th>\n",
              "      <td>California</td>\n",
              "      <td>9.0</td>\n",
              "      <td>276</td>\n",
              "      <td>91</td>\n",
              "      <td>40.6</td>\n",
              "      <td>1</td>\n",
              "    </tr>\n",
              "  </tbody>\n",
              "</table>\n",
              "</div>\n",
              "    <div class=\"colab-df-buttons\">\n",
              "\n",
              "  <div class=\"colab-df-container\">\n",
              "    <button class=\"colab-df-convert\" onclick=\"convertToInteractive('df-acc03865-c240-4e85-9e67-78ad05b33be0')\"\n",
              "            title=\"Convert this dataframe to an interactive table.\"\n",
              "            style=\"display:none;\">\n",
              "\n",
              "  <svg xmlns=\"http://www.w3.org/2000/svg\" height=\"24px\" viewBox=\"0 -960 960 960\">\n",
              "    <path d=\"M120-120v-720h720v720H120Zm60-500h600v-160H180v160Zm220 220h160v-160H400v160Zm0 220h160v-160H400v160ZM180-400h160v-160H180v160Zm440 0h160v-160H620v160ZM180-180h160v-160H180v160Zm440 0h160v-160H620v160Z\"/>\n",
              "  </svg>\n",
              "    </button>\n",
              "\n",
              "  <style>\n",
              "    .colab-df-container {\n",
              "      display:flex;\n",
              "      gap: 12px;\n",
              "    }\n",
              "\n",
              "    .colab-df-convert {\n",
              "      background-color: #E8F0FE;\n",
              "      border: none;\n",
              "      border-radius: 50%;\n",
              "      cursor: pointer;\n",
              "      display: none;\n",
              "      fill: #1967D2;\n",
              "      height: 32px;\n",
              "      padding: 0 0 0 0;\n",
              "      width: 32px;\n",
              "    }\n",
              "\n",
              "    .colab-df-convert:hover {\n",
              "      background-color: #E2EBFA;\n",
              "      box-shadow: 0px 1px 2px rgba(60, 64, 67, 0.3), 0px 1px 3px 1px rgba(60, 64, 67, 0.15);\n",
              "      fill: #174EA6;\n",
              "    }\n",
              "\n",
              "    .colab-df-buttons div {\n",
              "      margin-bottom: 4px;\n",
              "    }\n",
              "\n",
              "    [theme=dark] .colab-df-convert {\n",
              "      background-color: #3B4455;\n",
              "      fill: #D2E3FC;\n",
              "    }\n",
              "\n",
              "    [theme=dark] .colab-df-convert:hover {\n",
              "      background-color: #434B5C;\n",
              "      box-shadow: 0px 1px 3px 1px rgba(0, 0, 0, 0.15);\n",
              "      filter: drop-shadow(0px 1px 2px rgba(0, 0, 0, 0.3));\n",
              "      fill: #FFFFFF;\n",
              "    }\n",
              "  </style>\n",
              "\n",
              "    <script>\n",
              "      const buttonEl =\n",
              "        document.querySelector('#df-acc03865-c240-4e85-9e67-78ad05b33be0 button.colab-df-convert');\n",
              "      buttonEl.style.display =\n",
              "        google.colab.kernel.accessAllowed ? 'block' : 'none';\n",
              "\n",
              "      async function convertToInteractive(key) {\n",
              "        const element = document.querySelector('#df-acc03865-c240-4e85-9e67-78ad05b33be0');\n",
              "        const dataTable =\n",
              "          await google.colab.kernel.invokeFunction('convertToInteractive',\n",
              "                                                    [key], {});\n",
              "        if (!dataTable) return;\n",
              "\n",
              "        const docLinkHtml = 'Like what you see? Visit the ' +\n",
              "          '<a target=\"_blank\" href=https://colab.research.google.com/notebooks/data_table.ipynb>data table notebook</a>'\n",
              "          + ' to learn more about interactive tables.';\n",
              "        element.innerHTML = '';\n",
              "        dataTable['output_type'] = 'display_data';\n",
              "        await google.colab.output.renderOutput(dataTable, element);\n",
              "        const docLink = document.createElement('div');\n",
              "        docLink.innerHTML = docLinkHtml;\n",
              "        element.appendChild(docLink);\n",
              "      }\n",
              "    </script>\n",
              "  </div>\n",
              "\n",
              "\n",
              "<div id=\"df-b5ac3b03-1cbf-4fd1-818c-cfa334875771\">\n",
              "  <button class=\"colab-df-quickchart\" onclick=\"quickchart('df-b5ac3b03-1cbf-4fd1-818c-cfa334875771')\"\n",
              "            title=\"Suggest charts\"\n",
              "            style=\"display:none;\">\n",
              "\n",
              "<svg xmlns=\"http://www.w3.org/2000/svg\" height=\"24px\"viewBox=\"0 0 24 24\"\n",
              "     width=\"24px\">\n",
              "    <g>\n",
              "        <path d=\"M19 3H5c-1.1 0-2 .9-2 2v14c0 1.1.9 2 2 2h14c1.1 0 2-.9 2-2V5c0-1.1-.9-2-2-2zM9 17H7v-7h2v7zm4 0h-2V7h2v10zm4 0h-2v-4h2v4z\"/>\n",
              "    </g>\n",
              "</svg>\n",
              "  </button>\n",
              "\n",
              "<style>\n",
              "  .colab-df-quickchart {\n",
              "      --bg-color: #E8F0FE;\n",
              "      --fill-color: #1967D2;\n",
              "      --hover-bg-color: #E2EBFA;\n",
              "      --hover-fill-color: #174EA6;\n",
              "      --disabled-fill-color: #AAA;\n",
              "      --disabled-bg-color: #DDD;\n",
              "  }\n",
              "\n",
              "  [theme=dark] .colab-df-quickchart {\n",
              "      --bg-color: #3B4455;\n",
              "      --fill-color: #D2E3FC;\n",
              "      --hover-bg-color: #434B5C;\n",
              "      --hover-fill-color: #FFFFFF;\n",
              "      --disabled-bg-color: #3B4455;\n",
              "      --disabled-fill-color: #666;\n",
              "  }\n",
              "\n",
              "  .colab-df-quickchart {\n",
              "    background-color: var(--bg-color);\n",
              "    border: none;\n",
              "    border-radius: 50%;\n",
              "    cursor: pointer;\n",
              "    display: none;\n",
              "    fill: var(--fill-color);\n",
              "    height: 32px;\n",
              "    padding: 0;\n",
              "    width: 32px;\n",
              "  }\n",
              "\n",
              "  .colab-df-quickchart:hover {\n",
              "    background-color: var(--hover-bg-color);\n",
              "    box-shadow: 0 1px 2px rgba(60, 64, 67, 0.3), 0 1px 3px 1px rgba(60, 64, 67, 0.15);\n",
              "    fill: var(--button-hover-fill-color);\n",
              "  }\n",
              "\n",
              "  .colab-df-quickchart-complete:disabled,\n",
              "  .colab-df-quickchart-complete:disabled:hover {\n",
              "    background-color: var(--disabled-bg-color);\n",
              "    fill: var(--disabled-fill-color);\n",
              "    box-shadow: none;\n",
              "  }\n",
              "\n",
              "  .colab-df-spinner {\n",
              "    border: 2px solid var(--fill-color);\n",
              "    border-color: transparent;\n",
              "    border-bottom-color: var(--fill-color);\n",
              "    animation:\n",
              "      spin 1s steps(1) infinite;\n",
              "  }\n",
              "\n",
              "  @keyframes spin {\n",
              "    0% {\n",
              "      border-color: transparent;\n",
              "      border-bottom-color: var(--fill-color);\n",
              "      border-left-color: var(--fill-color);\n",
              "    }\n",
              "    20% {\n",
              "      border-color: transparent;\n",
              "      border-left-color: var(--fill-color);\n",
              "      border-top-color: var(--fill-color);\n",
              "    }\n",
              "    30% {\n",
              "      border-color: transparent;\n",
              "      border-left-color: var(--fill-color);\n",
              "      border-top-color: var(--fill-color);\n",
              "      border-right-color: var(--fill-color);\n",
              "    }\n",
              "    40% {\n",
              "      border-color: transparent;\n",
              "      border-right-color: var(--fill-color);\n",
              "      border-top-color: var(--fill-color);\n",
              "    }\n",
              "    60% {\n",
              "      border-color: transparent;\n",
              "      border-right-color: var(--fill-color);\n",
              "    }\n",
              "    80% {\n",
              "      border-color: transparent;\n",
              "      border-right-color: var(--fill-color);\n",
              "      border-bottom-color: var(--fill-color);\n",
              "    }\n",
              "    90% {\n",
              "      border-color: transparent;\n",
              "      border-bottom-color: var(--fill-color);\n",
              "    }\n",
              "  }\n",
              "</style>\n",
              "\n",
              "  <script>\n",
              "    async function quickchart(key) {\n",
              "      const quickchartButtonEl =\n",
              "        document.querySelector('#' + key + ' button');\n",
              "      quickchartButtonEl.disabled = true;  // To prevent multiple clicks.\n",
              "      quickchartButtonEl.classList.add('colab-df-spinner');\n",
              "      try {\n",
              "        const charts = await google.colab.kernel.invokeFunction(\n",
              "            'suggestCharts', [key], {});\n",
              "      } catch (error) {\n",
              "        console.error('Error during call to suggestCharts:', error);\n",
              "      }\n",
              "      quickchartButtonEl.classList.remove('colab-df-spinner');\n",
              "      quickchartButtonEl.classList.add('colab-df-quickchart-complete');\n",
              "    }\n",
              "    (() => {\n",
              "      let quickchartButtonEl =\n",
              "        document.querySelector('#df-b5ac3b03-1cbf-4fd1-818c-cfa334875771 button');\n",
              "      quickchartButtonEl.style.display =\n",
              "        google.colab.kernel.accessAllowed ? 'block' : 'none';\n",
              "    })();\n",
              "  </script>\n",
              "</div>\n",
              "    </div>\n",
              "  </div>\n"
            ]
          },
          "metadata": {},
          "execution_count": 38
        }
      ]
    },
    {
      "cell_type": "code",
      "metadata": {
        "execution": {
          "iopub.execute_input": "2020-09-26T07:21:56.955591Z",
          "iopub.status.busy": "2020-09-26T07:21:56.954387Z",
          "iopub.status.idle": "2020-09-26T07:21:56.959731Z",
          "shell.execute_reply": "2020-09-26T07:21:56.959064Z"
        },
        "papermill": {
          "duration": 0.101451,
          "end_time": "2020-09-26T07:21:56.959882",
          "exception": false,
          "start_time": "2020-09-26T07:21:56.858431",
          "status": "completed"
        },
        "tags": [],
        "id": "3V39d_7hq8jc",
        "colab": {
          "base_uri": "https://localhost:8080/",
          "height": 1000
        },
        "outputId": "d79e974d-81dc-4fbb-c9d3-726dbac056f3"
      },
      "source": [
        "# Let's see which State falls in which cluster\n",
        "crime[['State','cluster labels']]"
      ],
      "execution_count": 26,
      "outputs": [
        {
          "output_type": "execute_result",
          "data": {
            "text/plain": [
              "             State  cluster labels\n",
              "0          Alabama               1\n",
              "1           Alaska               1\n",
              "2          Arizona               1\n",
              "3         Arkansas               2\n",
              "4       California               1\n",
              "5         Colorado               2\n",
              "6      Connecticut               0\n",
              "7         Delaware               1\n",
              "8          Florida               1\n",
              "9          Georgia               2\n",
              "10          Hawaii               0\n",
              "11           Idaho               0\n",
              "12        Illinois               1\n",
              "13         Indiana               0\n",
              "14            Iowa               0\n",
              "15          Kansas               0\n",
              "16        Kentucky               0\n",
              "17       Louisiana               1\n",
              "18           Maine               0\n",
              "19        Maryland               1\n",
              "20   Massachusetts               2\n",
              "21        Michigan               1\n",
              "22       Minnesota               0\n",
              "23     Mississippi               1\n",
              "24        Missouri               2\n",
              "25         Montana               0\n",
              "26        Nebraska               0\n",
              "27          Nevada               1\n",
              "28   New Hampshire               0\n",
              "29      New Jersey               2\n",
              "30      New Mexico               1\n",
              "31        New York               1\n",
              "32  North Carolina               1\n",
              "33    North Dakota               0\n",
              "34            Ohio               0\n",
              "35        Oklahoma               2\n",
              "36          Oregon               2\n",
              "37    Pennsylvania               0\n",
              "38    Rhode Island               2\n",
              "39  South Carolina               1\n",
              "40    South Dakota               0\n",
              "41       Tennessee               2\n",
              "42           Texas               2\n",
              "43            Utah               0\n",
              "44         Vermont               0\n",
              "45        Virginia               2\n",
              "46      Washington               2\n",
              "47   West Virginia               0\n",
              "48       Wisconsin               0\n",
              "49         Wyoming               2"
            ],
            "text/html": [
              "\n",
              "  <div id=\"df-f7fddb68-eb99-42ee-9855-1ae4eb97f6f0\" class=\"colab-df-container\">\n",
              "    <div>\n",
              "<style scoped>\n",
              "    .dataframe tbody tr th:only-of-type {\n",
              "        vertical-align: middle;\n",
              "    }\n",
              "\n",
              "    .dataframe tbody tr th {\n",
              "        vertical-align: top;\n",
              "    }\n",
              "\n",
              "    .dataframe thead th {\n",
              "        text-align: right;\n",
              "    }\n",
              "</style>\n",
              "<table border=\"1\" class=\"dataframe\">\n",
              "  <thead>\n",
              "    <tr style=\"text-align: right;\">\n",
              "      <th></th>\n",
              "      <th>State</th>\n",
              "      <th>cluster labels</th>\n",
              "    </tr>\n",
              "  </thead>\n",
              "  <tbody>\n",
              "    <tr>\n",
              "      <th>0</th>\n",
              "      <td>Alabama</td>\n",
              "      <td>1</td>\n",
              "    </tr>\n",
              "    <tr>\n",
              "      <th>1</th>\n",
              "      <td>Alaska</td>\n",
              "      <td>1</td>\n",
              "    </tr>\n",
              "    <tr>\n",
              "      <th>2</th>\n",
              "      <td>Arizona</td>\n",
              "      <td>1</td>\n",
              "    </tr>\n",
              "    <tr>\n",
              "      <th>3</th>\n",
              "      <td>Arkansas</td>\n",
              "      <td>2</td>\n",
              "    </tr>\n",
              "    <tr>\n",
              "      <th>4</th>\n",
              "      <td>California</td>\n",
              "      <td>1</td>\n",
              "    </tr>\n",
              "    <tr>\n",
              "      <th>5</th>\n",
              "      <td>Colorado</td>\n",
              "      <td>2</td>\n",
              "    </tr>\n",
              "    <tr>\n",
              "      <th>6</th>\n",
              "      <td>Connecticut</td>\n",
              "      <td>0</td>\n",
              "    </tr>\n",
              "    <tr>\n",
              "      <th>7</th>\n",
              "      <td>Delaware</td>\n",
              "      <td>1</td>\n",
              "    </tr>\n",
              "    <tr>\n",
              "      <th>8</th>\n",
              "      <td>Florida</td>\n",
              "      <td>1</td>\n",
              "    </tr>\n",
              "    <tr>\n",
              "      <th>9</th>\n",
              "      <td>Georgia</td>\n",
              "      <td>2</td>\n",
              "    </tr>\n",
              "    <tr>\n",
              "      <th>10</th>\n",
              "      <td>Hawaii</td>\n",
              "      <td>0</td>\n",
              "    </tr>\n",
              "    <tr>\n",
              "      <th>11</th>\n",
              "      <td>Idaho</td>\n",
              "      <td>0</td>\n",
              "    </tr>\n",
              "    <tr>\n",
              "      <th>12</th>\n",
              "      <td>Illinois</td>\n",
              "      <td>1</td>\n",
              "    </tr>\n",
              "    <tr>\n",
              "      <th>13</th>\n",
              "      <td>Indiana</td>\n",
              "      <td>0</td>\n",
              "    </tr>\n",
              "    <tr>\n",
              "      <th>14</th>\n",
              "      <td>Iowa</td>\n",
              "      <td>0</td>\n",
              "    </tr>\n",
              "    <tr>\n",
              "      <th>15</th>\n",
              "      <td>Kansas</td>\n",
              "      <td>0</td>\n",
              "    </tr>\n",
              "    <tr>\n",
              "      <th>16</th>\n",
              "      <td>Kentucky</td>\n",
              "      <td>0</td>\n",
              "    </tr>\n",
              "    <tr>\n",
              "      <th>17</th>\n",
              "      <td>Louisiana</td>\n",
              "      <td>1</td>\n",
              "    </tr>\n",
              "    <tr>\n",
              "      <th>18</th>\n",
              "      <td>Maine</td>\n",
              "      <td>0</td>\n",
              "    </tr>\n",
              "    <tr>\n",
              "      <th>19</th>\n",
              "      <td>Maryland</td>\n",
              "      <td>1</td>\n",
              "    </tr>\n",
              "    <tr>\n",
              "      <th>20</th>\n",
              "      <td>Massachusetts</td>\n",
              "      <td>2</td>\n",
              "    </tr>\n",
              "    <tr>\n",
              "      <th>21</th>\n",
              "      <td>Michigan</td>\n",
              "      <td>1</td>\n",
              "    </tr>\n",
              "    <tr>\n",
              "      <th>22</th>\n",
              "      <td>Minnesota</td>\n",
              "      <td>0</td>\n",
              "    </tr>\n",
              "    <tr>\n",
              "      <th>23</th>\n",
              "      <td>Mississippi</td>\n",
              "      <td>1</td>\n",
              "    </tr>\n",
              "    <tr>\n",
              "      <th>24</th>\n",
              "      <td>Missouri</td>\n",
              "      <td>2</td>\n",
              "    </tr>\n",
              "    <tr>\n",
              "      <th>25</th>\n",
              "      <td>Montana</td>\n",
              "      <td>0</td>\n",
              "    </tr>\n",
              "    <tr>\n",
              "      <th>26</th>\n",
              "      <td>Nebraska</td>\n",
              "      <td>0</td>\n",
              "    </tr>\n",
              "    <tr>\n",
              "      <th>27</th>\n",
              "      <td>Nevada</td>\n",
              "      <td>1</td>\n",
              "    </tr>\n",
              "    <tr>\n",
              "      <th>28</th>\n",
              "      <td>New Hampshire</td>\n",
              "      <td>0</td>\n",
              "    </tr>\n",
              "    <tr>\n",
              "      <th>29</th>\n",
              "      <td>New Jersey</td>\n",
              "      <td>2</td>\n",
              "    </tr>\n",
              "    <tr>\n",
              "      <th>30</th>\n",
              "      <td>New Mexico</td>\n",
              "      <td>1</td>\n",
              "    </tr>\n",
              "    <tr>\n",
              "      <th>31</th>\n",
              "      <td>New York</td>\n",
              "      <td>1</td>\n",
              "    </tr>\n",
              "    <tr>\n",
              "      <th>32</th>\n",
              "      <td>North Carolina</td>\n",
              "      <td>1</td>\n",
              "    </tr>\n",
              "    <tr>\n",
              "      <th>33</th>\n",
              "      <td>North Dakota</td>\n",
              "      <td>0</td>\n",
              "    </tr>\n",
              "    <tr>\n",
              "      <th>34</th>\n",
              "      <td>Ohio</td>\n",
              "      <td>0</td>\n",
              "    </tr>\n",
              "    <tr>\n",
              "      <th>35</th>\n",
              "      <td>Oklahoma</td>\n",
              "      <td>2</td>\n",
              "    </tr>\n",
              "    <tr>\n",
              "      <th>36</th>\n",
              "      <td>Oregon</td>\n",
              "      <td>2</td>\n",
              "    </tr>\n",
              "    <tr>\n",
              "      <th>37</th>\n",
              "      <td>Pennsylvania</td>\n",
              "      <td>0</td>\n",
              "    </tr>\n",
              "    <tr>\n",
              "      <th>38</th>\n",
              "      <td>Rhode Island</td>\n",
              "      <td>2</td>\n",
              "    </tr>\n",
              "    <tr>\n",
              "      <th>39</th>\n",
              "      <td>South Carolina</td>\n",
              "      <td>1</td>\n",
              "    </tr>\n",
              "    <tr>\n",
              "      <th>40</th>\n",
              "      <td>South Dakota</td>\n",
              "      <td>0</td>\n",
              "    </tr>\n",
              "    <tr>\n",
              "      <th>41</th>\n",
              "      <td>Tennessee</td>\n",
              "      <td>2</td>\n",
              "    </tr>\n",
              "    <tr>\n",
              "      <th>42</th>\n",
              "      <td>Texas</td>\n",
              "      <td>2</td>\n",
              "    </tr>\n",
              "    <tr>\n",
              "      <th>43</th>\n",
              "      <td>Utah</td>\n",
              "      <td>0</td>\n",
              "    </tr>\n",
              "    <tr>\n",
              "      <th>44</th>\n",
              "      <td>Vermont</td>\n",
              "      <td>0</td>\n",
              "    </tr>\n",
              "    <tr>\n",
              "      <th>45</th>\n",
              "      <td>Virginia</td>\n",
              "      <td>2</td>\n",
              "    </tr>\n",
              "    <tr>\n",
              "      <th>46</th>\n",
              "      <td>Washington</td>\n",
              "      <td>2</td>\n",
              "    </tr>\n",
              "    <tr>\n",
              "      <th>47</th>\n",
              "      <td>West Virginia</td>\n",
              "      <td>0</td>\n",
              "    </tr>\n",
              "    <tr>\n",
              "      <th>48</th>\n",
              "      <td>Wisconsin</td>\n",
              "      <td>0</td>\n",
              "    </tr>\n",
              "    <tr>\n",
              "      <th>49</th>\n",
              "      <td>Wyoming</td>\n",
              "      <td>2</td>\n",
              "    </tr>\n",
              "  </tbody>\n",
              "</table>\n",
              "</div>\n",
              "    <div class=\"colab-df-buttons\">\n",
              "\n",
              "  <div class=\"colab-df-container\">\n",
              "    <button class=\"colab-df-convert\" onclick=\"convertToInteractive('df-f7fddb68-eb99-42ee-9855-1ae4eb97f6f0')\"\n",
              "            title=\"Convert this dataframe to an interactive table.\"\n",
              "            style=\"display:none;\">\n",
              "\n",
              "  <svg xmlns=\"http://www.w3.org/2000/svg\" height=\"24px\" viewBox=\"0 -960 960 960\">\n",
              "    <path d=\"M120-120v-720h720v720H120Zm60-500h600v-160H180v160Zm220 220h160v-160H400v160Zm0 220h160v-160H400v160ZM180-400h160v-160H180v160Zm440 0h160v-160H620v160ZM180-180h160v-160H180v160Zm440 0h160v-160H620v160Z\"/>\n",
              "  </svg>\n",
              "    </button>\n",
              "\n",
              "  <style>\n",
              "    .colab-df-container {\n",
              "      display:flex;\n",
              "      gap: 12px;\n",
              "    }\n",
              "\n",
              "    .colab-df-convert {\n",
              "      background-color: #E8F0FE;\n",
              "      border: none;\n",
              "      border-radius: 50%;\n",
              "      cursor: pointer;\n",
              "      display: none;\n",
              "      fill: #1967D2;\n",
              "      height: 32px;\n",
              "      padding: 0 0 0 0;\n",
              "      width: 32px;\n",
              "    }\n",
              "\n",
              "    .colab-df-convert:hover {\n",
              "      background-color: #E2EBFA;\n",
              "      box-shadow: 0px 1px 2px rgba(60, 64, 67, 0.3), 0px 1px 3px 1px rgba(60, 64, 67, 0.15);\n",
              "      fill: #174EA6;\n",
              "    }\n",
              "\n",
              "    .colab-df-buttons div {\n",
              "      margin-bottom: 4px;\n",
              "    }\n",
              "\n",
              "    [theme=dark] .colab-df-convert {\n",
              "      background-color: #3B4455;\n",
              "      fill: #D2E3FC;\n",
              "    }\n",
              "\n",
              "    [theme=dark] .colab-df-convert:hover {\n",
              "      background-color: #434B5C;\n",
              "      box-shadow: 0px 1px 3px 1px rgba(0, 0, 0, 0.15);\n",
              "      filter: drop-shadow(0px 1px 2px rgba(0, 0, 0, 0.3));\n",
              "      fill: #FFFFFF;\n",
              "    }\n",
              "  </style>\n",
              "\n",
              "    <script>\n",
              "      const buttonEl =\n",
              "        document.querySelector('#df-f7fddb68-eb99-42ee-9855-1ae4eb97f6f0 button.colab-df-convert');\n",
              "      buttonEl.style.display =\n",
              "        google.colab.kernel.accessAllowed ? 'block' : 'none';\n",
              "\n",
              "      async function convertToInteractive(key) {\n",
              "        const element = document.querySelector('#df-f7fddb68-eb99-42ee-9855-1ae4eb97f6f0');\n",
              "        const dataTable =\n",
              "          await google.colab.kernel.invokeFunction('convertToInteractive',\n",
              "                                                    [key], {});\n",
              "        if (!dataTable) return;\n",
              "\n",
              "        const docLinkHtml = 'Like what you see? Visit the ' +\n",
              "          '<a target=\"_blank\" href=https://colab.research.google.com/notebooks/data_table.ipynb>data table notebook</a>'\n",
              "          + ' to learn more about interactive tables.';\n",
              "        element.innerHTML = '';\n",
              "        dataTable['output_type'] = 'display_data';\n",
              "        await google.colab.output.renderOutput(dataTable, element);\n",
              "        const docLink = document.createElement('div');\n",
              "        docLink.innerHTML = docLinkHtml;\n",
              "        element.appendChild(docLink);\n",
              "      }\n",
              "    </script>\n",
              "  </div>\n",
              "\n",
              "\n",
              "<div id=\"df-bf42cb68-e63b-4653-b1a6-06530fd9bbe8\">\n",
              "  <button class=\"colab-df-quickchart\" onclick=\"quickchart('df-bf42cb68-e63b-4653-b1a6-06530fd9bbe8')\"\n",
              "            title=\"Suggest charts\"\n",
              "            style=\"display:none;\">\n",
              "\n",
              "<svg xmlns=\"http://www.w3.org/2000/svg\" height=\"24px\"viewBox=\"0 0 24 24\"\n",
              "     width=\"24px\">\n",
              "    <g>\n",
              "        <path d=\"M19 3H5c-1.1 0-2 .9-2 2v14c0 1.1.9 2 2 2h14c1.1 0 2-.9 2-2V5c0-1.1-.9-2-2-2zM9 17H7v-7h2v7zm4 0h-2V7h2v10zm4 0h-2v-4h2v4z\"/>\n",
              "    </g>\n",
              "</svg>\n",
              "  </button>\n",
              "\n",
              "<style>\n",
              "  .colab-df-quickchart {\n",
              "      --bg-color: #E8F0FE;\n",
              "      --fill-color: #1967D2;\n",
              "      --hover-bg-color: #E2EBFA;\n",
              "      --hover-fill-color: #174EA6;\n",
              "      --disabled-fill-color: #AAA;\n",
              "      --disabled-bg-color: #DDD;\n",
              "  }\n",
              "\n",
              "  [theme=dark] .colab-df-quickchart {\n",
              "      --bg-color: #3B4455;\n",
              "      --fill-color: #D2E3FC;\n",
              "      --hover-bg-color: #434B5C;\n",
              "      --hover-fill-color: #FFFFFF;\n",
              "      --disabled-bg-color: #3B4455;\n",
              "      --disabled-fill-color: #666;\n",
              "  }\n",
              "\n",
              "  .colab-df-quickchart {\n",
              "    background-color: var(--bg-color);\n",
              "    border: none;\n",
              "    border-radius: 50%;\n",
              "    cursor: pointer;\n",
              "    display: none;\n",
              "    fill: var(--fill-color);\n",
              "    height: 32px;\n",
              "    padding: 0;\n",
              "    width: 32px;\n",
              "  }\n",
              "\n",
              "  .colab-df-quickchart:hover {\n",
              "    background-color: var(--hover-bg-color);\n",
              "    box-shadow: 0 1px 2px rgba(60, 64, 67, 0.3), 0 1px 3px 1px rgba(60, 64, 67, 0.15);\n",
              "    fill: var(--button-hover-fill-color);\n",
              "  }\n",
              "\n",
              "  .colab-df-quickchart-complete:disabled,\n",
              "  .colab-df-quickchart-complete:disabled:hover {\n",
              "    background-color: var(--disabled-bg-color);\n",
              "    fill: var(--disabled-fill-color);\n",
              "    box-shadow: none;\n",
              "  }\n",
              "\n",
              "  .colab-df-spinner {\n",
              "    border: 2px solid var(--fill-color);\n",
              "    border-color: transparent;\n",
              "    border-bottom-color: var(--fill-color);\n",
              "    animation:\n",
              "      spin 1s steps(1) infinite;\n",
              "  }\n",
              "\n",
              "  @keyframes spin {\n",
              "    0% {\n",
              "      border-color: transparent;\n",
              "      border-bottom-color: var(--fill-color);\n",
              "      border-left-color: var(--fill-color);\n",
              "    }\n",
              "    20% {\n",
              "      border-color: transparent;\n",
              "      border-left-color: var(--fill-color);\n",
              "      border-top-color: var(--fill-color);\n",
              "    }\n",
              "    30% {\n",
              "      border-color: transparent;\n",
              "      border-left-color: var(--fill-color);\n",
              "      border-top-color: var(--fill-color);\n",
              "      border-right-color: var(--fill-color);\n",
              "    }\n",
              "    40% {\n",
              "      border-color: transparent;\n",
              "      border-right-color: var(--fill-color);\n",
              "      border-top-color: var(--fill-color);\n",
              "    }\n",
              "    60% {\n",
              "      border-color: transparent;\n",
              "      border-right-color: var(--fill-color);\n",
              "    }\n",
              "    80% {\n",
              "      border-color: transparent;\n",
              "      border-right-color: var(--fill-color);\n",
              "      border-bottom-color: var(--fill-color);\n",
              "    }\n",
              "    90% {\n",
              "      border-color: transparent;\n",
              "      border-bottom-color: var(--fill-color);\n",
              "    }\n",
              "  }\n",
              "</style>\n",
              "\n",
              "  <script>\n",
              "    async function quickchart(key) {\n",
              "      const quickchartButtonEl =\n",
              "        document.querySelector('#' + key + ' button');\n",
              "      quickchartButtonEl.disabled = true;  // To prevent multiple clicks.\n",
              "      quickchartButtonEl.classList.add('colab-df-spinner');\n",
              "      try {\n",
              "        const charts = await google.colab.kernel.invokeFunction(\n",
              "            'suggestCharts', [key], {});\n",
              "      } catch (error) {\n",
              "        console.error('Error during call to suggestCharts:', error);\n",
              "      }\n",
              "      quickchartButtonEl.classList.remove('colab-df-spinner');\n",
              "      quickchartButtonEl.classList.add('colab-df-quickchart-complete');\n",
              "    }\n",
              "    (() => {\n",
              "      let quickchartButtonEl =\n",
              "        document.querySelector('#df-bf42cb68-e63b-4653-b1a6-06530fd9bbe8 button');\n",
              "      quickchartButtonEl.style.display =\n",
              "        google.colab.kernel.accessAllowed ? 'block' : 'none';\n",
              "    })();\n",
              "  </script>\n",
              "</div>\n",
              "    </div>\n",
              "  </div>\n"
            ]
          },
          "metadata": {},
          "execution_count": 26
        }
      ]
    },
    {
      "cell_type": "code",
      "metadata": {
        "execution": {
          "iopub.execute_input": "2020-09-26T07:21:57.139888Z",
          "iopub.status.busy": "2020-09-26T07:21:57.138920Z",
          "iopub.status.idle": "2020-09-26T07:21:57.356266Z",
          "shell.execute_reply": "2020-09-26T07:21:57.355382Z"
        },
        "papermill": {
          "duration": 0.314115,
          "end_time": "2020-09-26T07:21:57.356418",
          "exception": false,
          "start_time": "2020-09-26T07:21:57.042303",
          "status": "completed"
        },
        "tags": [],
        "id": "wA8k2XcNq8jc",
        "colab": {
          "base_uri": "https://localhost:8080/",
          "height": 483
        },
        "outputId": "ed81686b-f8f5-479a-a6c2-8476c899ca14"
      },
      "source": [
        "plt.figure(figsize=(10,5))\n",
        "sns.boxplot(x='cluster labels', y='Murder', data=crime)"
      ],
      "execution_count": 27,
      "outputs": [
        {
          "output_type": "execute_result",
          "data": {
            "text/plain": [
              "<Axes: xlabel='cluster labels', ylabel='Murder'>"
            ]
          },
          "metadata": {},
          "execution_count": 27
        },
        {
          "output_type": "display_data",
          "data": {
            "text/plain": [
              "<Figure size 1000x500 with 1 Axes>"
            ],
            "image/png": "[encoded data removed]"
          },
          "metadata": {}
        }
      ]
    },
    {
      "cell_type": "code",
      "metadata": {
        "execution": {
          "iopub.execute_input": "2020-09-26T07:21:57.530036Z",
          "iopub.status.busy": "2020-09-26T07:21:57.529160Z",
          "iopub.status.idle": "2020-09-26T07:21:57.741782Z",
          "shell.execute_reply": "2020-09-26T07:21:57.741102Z"
        },
        "papermill": {
          "duration": 0.307687,
          "end_time": "2020-09-26T07:21:57.741922",
          "exception": false,
          "start_time": "2020-09-26T07:21:57.434235",
          "status": "completed"
        },
        "tags": [],
        "id": "l8XNfrX6q8jd",
        "colab": {
          "base_uri": "https://localhost:8080/",
          "height": 483
        },
        "outputId": "747c3b93-2fce-47ac-b049-c6edb4d47b2a"
      },
      "source": [
        "plt.figure(figsize=(10,5))\n",
        "sns.boxplot(x='cluster labels', y='Rape', data=crime)"
      ],
      "execution_count": 28,
      "outputs": [
        {
          "output_type": "execute_result",
          "data": {
            "text/plain": [
              "<Axes: xlabel='cluster labels', ylabel='Rape'>"
            ]
          },
          "metadata": {},
          "execution_count": 28
        },
        {
          "output_type": "display_data",
          "data": {
            "text/plain": [
              "<Figure size 1000x500 with 1 Axes>"
            ],
            "image/png": "[encoded data removed]"
          },
          "metadata": {}
        }
      ]
    },
    {
      "cell_type": "code",
      "metadata": {
        "execution": {
          "iopub.execute_input": "2020-09-26T07:21:57.916034Z",
          "iopub.status.busy": "2020-09-26T07:21:57.913874Z",
          "iopub.status.idle": "2020-09-26T07:21:58.110272Z",
          "shell.execute_reply": "2020-09-26T07:21:58.109618Z"
        },
        "papermill": {
          "duration": 0.29056,
          "end_time": "2020-09-26T07:21:58.110396",
          "exception": false,
          "start_time": "2020-09-26T07:21:57.819836",
          "status": "completed"
        },
        "tags": [],
        "id": "3h1pY8ATq8jd",
        "colab": {
          "base_uri": "https://localhost:8080/",
          "height": 486
        },
        "outputId": "a1375e43-c79e-4b79-eca9-cb6572e281ed"
      },
      "source": [
        "plt.figure(figsize=(10,5))\n",
        "sns.boxplot(x='cluster labels', y='Assault', data=crime)"
      ],
      "execution_count": 29,
      "outputs": [
        {
          "output_type": "execute_result",
          "data": {
            "text/plain": [
              "<Axes: xlabel='cluster labels', ylabel='Assault'>"
            ]
          },
          "metadata": {},
          "execution_count": 29
        },
        {
          "output_type": "display_data",
          "data": {
            "text/plain": [
              "<Figure size 1000x500 with 1 Axes>"
            ],
            "image/png": "[encoded data removed]"
          },
          "metadata": {}
        }
      ]
    },
    {
      "cell_type": "markdown",
      "metadata": {
        "papermill": {
          "duration": 0.08007,
          "end_time": "2020-09-26T07:21:58.269823",
          "exception": false,
          "start_time": "2020-09-26T07:21:58.189753",
          "status": "completed"
        },
        "tags": [],
        "id": "pwjzc6z8q8je"
      },
      "source": [
        "## **Observations**:\n",
        "\n",
        "* The Cities in the Cluster-0 seems to be Safe-Zone where there are relativley less Murders,Assaults and Rapes.\n",
        "* The Cities in Cluster-1 seems to have higher crime rates and can be regarded as Danger-Zone.\n",
        "* The Cities in Cluster-3 seems to have moderate crime rates when compared to other zones and can be called as Moderate-Zone\n"
      ]
    },
    {
      "cell_type": "markdown",
      "metadata": {
        "id": "tOCgd3VKmVk_"
      },
      "source": [
        "Let's display the cities in each zone now!"
      ]
    },
    {
      "cell_type": "code",
      "metadata": {
        "execution": {
          "iopub.execute_input": "2020-09-26T07:21:58.440359Z",
          "iopub.status.busy": "2020-09-26T07:21:58.439488Z",
          "iopub.status.idle": "2020-09-26T07:21:58.443943Z",
          "shell.execute_reply": "2020-09-26T07:21:58.443383Z"
        },
        "papermill": {
          "duration": 0.094078,
          "end_time": "2020-09-26T07:21:58.444071",
          "exception": false,
          "start_time": "2020-09-26T07:21:58.349993",
          "status": "completed"
        },
        "tags": [],
        "id": "7H1GN1Qnq8je",
        "outputId": "e919268f-ee52-47c9-e008-25c6f579d252",
        "colab": {
          "base_uri": "https://localhost:8080/"
        }
      },
      "source": [
        "Safe_Zone= crime.groupby('cluster labels')['State'].unique()[0]\n",
        "Safe_Zone"
      ],
      "execution_count": 30,
      "outputs": [
        {
          "output_type": "execute_result",
          "data": {
            "text/plain": [
              "array(['Connecticut', 'Hawaii', 'Idaho', 'Indiana', 'Iowa', 'Kansas',\n",
              "       'Kentucky', 'Maine', 'Minnesota', 'Montana', 'Nebraska',\n",
              "       'New Hampshire', 'North Dakota', 'Ohio', 'Pennsylvania',\n",
              "       'South Dakota', 'Utah', 'Vermont', 'West Virginia', 'Wisconsin'],\n",
              "      dtype=object)"
            ]
          },
          "metadata": {},
          "execution_count": 30
        }
      ]
    },
    {
      "cell_type": "code",
      "metadata": {
        "execution": {
          "iopub.execute_input": "2020-09-26T07:21:58.613303Z",
          "iopub.status.busy": "2020-09-26T07:21:58.612415Z",
          "iopub.status.idle": "2020-09-26T07:21:58.616962Z",
          "shell.execute_reply": "2020-09-26T07:21:58.617514Z"
        },
        "papermill": {
          "duration": 0.093492,
          "end_time": "2020-09-26T07:21:58.617668",
          "exception": false,
          "start_time": "2020-09-26T07:21:58.524176",
          "status": "completed"
        },
        "tags": [],
        "id": "DkgeEBm5q8jf",
        "outputId": "a11df0c3-9367-439a-b10a-381882d4ba50",
        "colab": {
          "base_uri": "https://localhost:8080/"
        }
      },
      "source": [
        "Danger_Zone= crime.groupby('cluster labels')['State'].unique()[1]\n",
        "Danger_Zone"
      ],
      "execution_count": 31,
      "outputs": [
        {
          "output_type": "execute_result",
          "data": {
            "text/plain": [
              "array(['Alabama', 'Alaska', 'Arizona', 'California', 'Delaware',\n",
              "       'Florida', 'Illinois', 'Louisiana', 'Maryland', 'Michigan',\n",
              "       'Mississippi', 'Nevada', 'New Mexico', 'New York',\n",
              "       'North Carolina', 'South Carolina'], dtype=object)"
            ]
          },
          "metadata": {},
          "execution_count": 31
        }
      ]
    },
    {
      "cell_type": "code",
      "metadata": {
        "execution": {
          "iopub.execute_input": "2020-09-26T07:21:58.788404Z",
          "iopub.status.busy": "2020-09-26T07:21:58.786103Z",
          "iopub.status.idle": "2020-09-26T07:21:58.792286Z",
          "shell.execute_reply": "2020-09-26T07:21:58.792814Z"
        },
        "papermill": {
          "duration": 0.094135,
          "end_time": "2020-09-26T07:21:58.793002",
          "exception": false,
          "start_time": "2020-09-26T07:21:58.698867",
          "status": "completed"
        },
        "tags": [],
        "id": "BqSS3OKLq8jg",
        "outputId": "15963dbc-e73c-4425-dd20-27ba7e7d9258",
        "colab": {
          "base_uri": "https://localhost:8080/"
        }
      },
      "source": [
        "Moderate_Zone= crime.groupby('cluster labels')['State'].unique()[2]\n",
        "Moderate_Zone"
      ],
      "execution_count": 32,
      "outputs": [
        {
          "output_type": "execute_result",
          "data": {
            "text/plain": [
              "array(['Arkansas', 'Colorado', 'Georgia', 'Massachusetts', 'Missouri',\n",
              "       'New Jersey', 'Oklahoma', 'Oregon', 'Rhode Island', 'Tennessee',\n",
              "       'Texas', 'Virginia', 'Washington', 'Wyoming'], dtype=object)"
            ]
          },
          "metadata": {},
          "execution_count": 32
        }
      ]
    },
    {
      "cell_type": "markdown",
      "metadata": {
        "id": "VZY5o6L7mb9x"
      },
      "source": [
        "## Creating a scatter plot based on the danger level clusters of the cities\n",
        "\n",
        "\n"
      ]
    },
    {
      "cell_type": "code",
      "metadata": {
        "execution": {
          "iopub.execute_input": "2020-09-26T07:21:58.967910Z",
          "iopub.status.busy": "2020-09-26T07:21:58.967165Z",
          "iopub.status.idle": "2020-09-26T07:21:59.335579Z",
          "shell.execute_reply": "2020-09-26T07:21:59.334800Z"
        },
        "papermill": {
          "duration": 0.46047,
          "end_time": "2020-09-26T07:21:59.335707",
          "exception": false,
          "start_time": "2020-09-26T07:21:58.875237",
          "status": "completed"
        },
        "tags": [],
        "id": "r9L1o1Dzq8jg",
        "outputId": "da786da0-51f9-46b6-9924-de2ddfec0cf3",
        "colab": {
          "base_uri": "https://localhost:8080/",
          "height": 449
        }
      },
      "source": [
        "plt.figure(figsize=(10,5))\n",
        "plt.scatter(data[y_pred==0, 0], data[y_pred==0, 1], s=100, c='green', label ='Safe_Zone')\n",
        "plt.scatter(data[y_pred==1, 0], data[y_pred==1, 1], s=100, c='red', label ='Danger_Zone')\n",
        "plt.scatter(data[y_pred==2, 0], data[y_pred==2, 1], s=100, c='blue', label ='Moderate_Zone')\n",
        "plt.legend()\n",
        "plt.show()"
      ],
      "execution_count": 39,
      "outputs": [
        {
          "output_type": "display_data",
          "data": {
            "text/plain": [
              "<Figure size 1000x500 with 1 Axes>"
            ],
            "image/png": "[encoded data removed]"
          },
          "metadata": {}
        }
      ]
    }
  ]
}