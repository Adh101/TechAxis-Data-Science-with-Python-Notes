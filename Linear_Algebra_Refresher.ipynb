{
  "nbformat": 4,
  "nbformat_minor": 0,
  "metadata": {
    "colab": {
      "provenance": [],
      "authorship_tag": "ABX9TyNi9cNUV6t1pQP6GuR7B+XX",
      "include_colab_link": true
    },
    "kernelspec": {
      "name": "python3",
      "display_name": "Python 3"
    },
    "language_info": {
      "name": "python"
    }
  },
  "cells": [
    {
      "cell_type": "markdown",
      "metadata": {
        "id": "view-in-github",
        "colab_type": "text"
      },
      "source": [
        "<a href=\"https://colab.research.google.com/github/Adh101/TechAxis-Data-Science-with-Python-Notes/blob/main/Linear_Algebra_Refresher.ipynb\" target=\"_parent\"><img src=\"https://colab.research.google.com/assets/colab-badge.svg\" alt=\"Open In Colab\"/></a>"
      ]
    },
    {
      "cell_type": "markdown",
      "source": [
        "# Linear Algebra:\n",
        "\n",
        "**Topics covered:**\n",
        "\n",
        "- Vector Operations\n",
        "- Multiplication\n",
        "  \n",
        "  - Vector-Vector\n",
        "  - Matrix-Vector\n",
        "  - Matrix-Matrix\n",
        "\n",
        "- Identity Matrix\n",
        "- Inverse\n"
      ],
      "metadata": {
        "id": "gdt2-wT6qHdH"
      }
    },
    {
      "cell_type": "code",
      "source": [
        "#import numpy\n",
        "import numpy as np"
      ],
      "metadata": {
        "id": "i1XAnHxnq_3z"
      },
      "execution_count": 2,
      "outputs": []
    },
    {
      "cell_type": "markdown",
      "source": [
        "**Vector Operations:**"
      ],
      "metadata": {
        "id": "GqSycz7ArqbI"
      }
    },
    {
      "cell_type": "code",
      "source": [
        "u = np.array([2, 7, 5, 6])\n",
        "v = np.array([3, 4, 8, 6])\n",
        "\n",
        "# addition\n",
        "addition = u + v\n",
        "\n",
        "# subtraction\n",
        "subtraction = u - v\n",
        "\n",
        "# scalar multiplication\n",
        "scalar_multiplication = 2 * v"
      ],
      "metadata": {
        "id": "a-_WZuycrX-_"
      },
      "execution_count": 3,
      "outputs": []
    },
    {
      "cell_type": "markdown",
      "source": [
        "**Multiplication:**"
      ],
      "metadata": {
        "id": "4eBrJtY1ruY6"
      }
    },
    {
      "cell_type": "markdown",
      "source": [
        "1. **Vector-Vector Multiplication (dot product):**\n",
        "\n",
        "Vector: matrix with one dimension (one row matrix or one column matrix)\n",
        "\n",
        "        result = summation of (u[i] * v[i]) from 1 to n (or, 0 to n-1)"
      ],
      "metadata": {
        "id": "STcc-NBNtTo8"
      }
    },
    {
      "cell_type": "code",
      "source": [
        "#check the shape of vectors\n",
        "u.shape\n",
        "v.shape"
      ],
      "metadata": {
        "colab": {
          "base_uri": "https://localhost:8080/"
        },
        "id": "35Jlt77Jtf3I",
        "outputId": "956c19d2-a999-4e8d-eb97-ba2c9b370217"
      },
      "execution_count": 4,
      "outputs": [
        {
          "output_type": "execute_result",
          "data": {
            "text/plain": [
              "(4,)"
            ]
          },
          "metadata": {},
          "execution_count": 4
        }
      ]
    },
    {
      "cell_type": "code",
      "source": [
        "u.shape[0]"
      ],
      "metadata": {
        "colab": {
          "base_uri": "https://localhost:8080/"
        },
        "id": "b0szxVy8tnUq",
        "outputId": "3107c92d-dfe4-49ee-97a7-d2135bd37583"
      },
      "execution_count": 5,
      "outputs": [
        {
          "output_type": "execute_result",
          "data": {
            "text/plain": [
              "4"
            ]
          },
          "metadata": {},
          "execution_count": 5
        }
      ]
    },
    {
      "cell_type": "code",
      "source": [
        "#fucntion for dot product\n",
        "\n",
        "def vector_vector_multiplication(u,v):\n",
        "  assert u.shape[0]==v.shape[0] #checks and asserts the shape of u and v\n",
        "\n",
        "  n = u.shape[0] #sets the value for n to iterate\n",
        "\n",
        "  result = 0.0   #sets the initial result value\n",
        "\n",
        "  for i in range(n):\n",
        "    result = result + u[i] * v[i]\n",
        "\n",
        "  return result\n",
        "\n",
        "\n"
      ],
      "metadata": {
        "id": "uBYWFuIRtsKD"
      },
      "execution_count": 6,
      "outputs": []
    },
    {
      "cell_type": "code",
      "source": [
        "vector_vector_multiplication(u,v)"
      ],
      "metadata": {
        "colab": {
          "base_uri": "https://localhost:8080/"
        },
        "id": "4KxbT9Ddus_c",
        "outputId": "291b3184-14af-4232-de5d-18f817a520dc"
      },
      "execution_count": 7,
      "outputs": [
        {
          "output_type": "execute_result",
          "data": {
            "text/plain": [
              "110.0"
            ]
          },
          "metadata": {},
          "execution_count": 7
        }
      ]
    },
    {
      "cell_type": "markdown",
      "source": [
        "In numpy, we already have function for dot product. i.e .dot()"
      ],
      "metadata": {
        "id": "PxPa3JLUvJVM"
      }
    },
    {
      "cell_type": "code",
      "source": [
        "u.dot(v)"
      ],
      "metadata": {
        "colab": {
          "base_uri": "https://localhost:8080/"
        },
        "id": "Ww5i9feEvHj8",
        "outputId": "7b3ce619-9e24-49a1-b4ed-b75767970664"
      },
      "execution_count": 8,
      "outputs": [
        {
          "output_type": "execute_result",
          "data": {
            "text/plain": [
              "110"
            ]
          },
          "metadata": {},
          "execution_count": 8
        }
      ]
    },
    {
      "cell_type": "markdown",
      "source": [
        "   **2. Matrix-Vector Multiplication:**\n",
        "\n",
        "\n",
        "        result = row of matrix * vector"
      ],
      "metadata": {
        "id": "NeJTHZ5rwE6A"
      }
    },
    {
      "cell_type": "code",
      "source": [
        "U = np.array([\n",
        "              [2,4,5,6],\n",
        "              [1,2,1,2],\n",
        "              [3,1,2,1]\n",
        "])"
      ],
      "metadata": {
        "id": "d3ac3-ORxQsI"
      },
      "execution_count": 9,
      "outputs": []
    },
    {
      "cell_type": "code",
      "source": [
        "U.shape"
      ],
      "metadata": {
        "colab": {
          "base_uri": "https://localhost:8080/"
        },
        "id": "wG7RZrqbyMwX",
        "outputId": "88283e4b-3918-47e9-a3e8-1273973744a7"
      },
      "execution_count": null,
      "outputs": [
        {
          "output_type": "execute_result",
          "data": {
            "text/plain": [
              "(3, 4)"
            ]
          },
          "metadata": {},
          "execution_count": 11
        }
      ]
    },
    {
      "cell_type": "code",
      "source": [
        "#function for matrix_vector multiplication\n",
        "\n",
        "def matrix_vector_multiplication(U,v):\n",
        "  assert U.shape[1] == v.shape[0] #asserting rows equals to columns\n",
        "\n",
        "  num_rows = U.shape[0]\n",
        "  result = np.zeros(num_rows) #create null matrix with number of rows of U\n",
        "\n",
        "  for i in range(num_rows):\n",
        "    result[i] = vector_vector_multiplication(U[i],v)\n",
        "\n",
        "  return result"
      ],
      "metadata": {
        "id": "wJMCRAqQysJU"
      },
      "execution_count": 10,
      "outputs": []
    },
    {
      "cell_type": "code",
      "source": [
        "matrix_vector_multiplication(U,v)"
      ],
      "metadata": {
        "colab": {
          "base_uri": "https://localhost:8080/"
        },
        "id": "flOcasYh4kxf",
        "outputId": "a66993ae-d7db-4b56-ab5f-67b140c517a6"
      },
      "execution_count": 11,
      "outputs": [
        {
          "output_type": "execute_result",
          "data": {
            "text/plain": [
              "array([98., 31., 35.])"
            ]
          },
          "metadata": {},
          "execution_count": 11
        }
      ]
    },
    {
      "cell_type": "code",
      "source": [
        "#we can also use dot function\n",
        "U.dot(v)"
      ],
      "metadata": {
        "colab": {
          "base_uri": "https://localhost:8080/"
        },
        "id": "oh1uRvfo43Kj",
        "outputId": "b30cf501-fb7e-4ffe-9e1a-1a5d9f4caebd"
      },
      "execution_count": null,
      "outputs": [
        {
          "output_type": "execute_result",
          "data": {
            "text/plain": [
              "array([98, 31, 35])"
            ]
          },
          "metadata": {},
          "execution_count": 16
        }
      ]
    },
    {
      "cell_type": "markdown",
      "source": [
        "3. **Matrix-Matrix Multiplication:**"
      ],
      "metadata": {
        "id": "2sf6km-S4-jv"
      }
    },
    {
      "cell_type": "code",
      "source": [
        "V = np.array([\n",
        "              [1,1,2],\n",
        "              [0,0.5,1],\n",
        "              [0,2,1],\n",
        "              [2,1,0]\n",
        "])"
      ],
      "metadata": {
        "id": "ikzjSdH56obL"
      },
      "execution_count": null,
      "outputs": []
    },
    {
      "cell_type": "code",
      "source": [
        "def matrix_matrix_multiplication(U,V):\n",
        "  assert U.shape[1] == V.shape[0]\n",
        "\n",
        "  num_rows = U.shape[0]\n",
        "  num_cols = V.shape[1]\n",
        "\n",
        "  result = np.zeros((num_rows,num_cols))\n",
        "\n",
        "  for i in range(num_cols):\n",
        "    vi = V[:,i]\n",
        "    Uvi = matrix_vector_multiplication(U,vi)\n",
        "\n",
        "    result[:,i] = Uvi\n",
        "  return result"
      ],
      "metadata": {
        "id": "3AhD-Xra6pzs"
      },
      "execution_count": null,
      "outputs": []
    },
    {
      "cell_type": "code",
      "source": [
        "matrix_matrix_multiplication(U,V)"
      ],
      "metadata": {
        "colab": {
          "base_uri": "https://localhost:8080/"
        },
        "id": "fNDawTKV7Uyo",
        "outputId": "edcb3116-eb55-4629-a5c1-4ea57a1b696a"
      },
      "execution_count": null,
      "outputs": [
        {
          "output_type": "execute_result",
          "data": {
            "text/plain": [
              "array([[14. , 20. , 13. ],\n",
              "       [ 5. ,  6. ,  5. ],\n",
              "       [ 5. ,  8.5,  9. ]])"
            ]
          },
          "metadata": {},
          "execution_count": 22
        }
      ]
    },
    {
      "cell_type": "code",
      "source": [
        "U.dot(V)"
      ],
      "metadata": {
        "colab": {
          "base_uri": "https://localhost:8080/"
        },
        "id": "jGfUir1D7Ej8",
        "outputId": "a2da952c-bf8b-4be7-edba-0574cd95ce76"
      },
      "execution_count": null,
      "outputs": [
        {
          "output_type": "execute_result",
          "data": {
            "text/plain": [
              "array([[14. , 20. , 13. ],\n",
              "       [ 5. ,  6. ,  5. ],\n",
              "       [ 5. ,  8.5,  9. ]])"
            ]
          },
          "metadata": {},
          "execution_count": 23
        }
      ]
    },
    {
      "cell_type": "markdown",
      "source": [
        "**Identity Matrix:**\n",
        "\n",
        "    U.I = U\n",
        "    - All diagonal values should be 1 and other values 0."
      ],
      "metadata": {
        "id": "zYqbvVcV7t4X"
      }
    },
    {
      "cell_type": "code",
      "source": [
        "np.eye(10)"
      ],
      "metadata": {
        "colab": {
          "base_uri": "https://localhost:8080/"
        },
        "id": "YoK2Ix9c8Gnj",
        "outputId": "7235141a-9bf1-4b97-8f74-28b4ad02f78d"
      },
      "execution_count": null,
      "outputs": [
        {
          "output_type": "execute_result",
          "data": {
            "text/plain": [
              "array([[1., 0., 0., 0., 0., 0., 0., 0., 0., 0.],\n",
              "       [0., 1., 0., 0., 0., 0., 0., 0., 0., 0.],\n",
              "       [0., 0., 1., 0., 0., 0., 0., 0., 0., 0.],\n",
              "       [0., 0., 0., 1., 0., 0., 0., 0., 0., 0.],\n",
              "       [0., 0., 0., 0., 1., 0., 0., 0., 0., 0.],\n",
              "       [0., 0., 0., 0., 0., 1., 0., 0., 0., 0.],\n",
              "       [0., 0., 0., 0., 0., 0., 1., 0., 0., 0.],\n",
              "       [0., 0., 0., 0., 0., 0., 0., 1., 0., 0.],\n",
              "       [0., 0., 0., 0., 0., 0., 0., 0., 1., 0.],\n",
              "       [0., 0., 0., 0., 0., 0., 0., 0., 0., 1.]])"
            ]
          },
          "metadata": {},
          "execution_count": 24
        }
      ]
    },
    {
      "cell_type": "code",
      "source": [
        "I = np.eye(3)"
      ],
      "metadata": {
        "id": "nnrE9UyE8Rkm"
      },
      "execution_count": null,
      "outputs": []
    },
    {
      "cell_type": "code",
      "source": [
        "V.dot(I)"
      ],
      "metadata": {
        "colab": {
          "base_uri": "https://localhost:8080/"
        },
        "id": "zL2BgvzX8UNn",
        "outputId": "32165737-a149-4e0b-9281-c4439dc515f1"
      },
      "execution_count": null,
      "outputs": [
        {
          "output_type": "execute_result",
          "data": {
            "text/plain": [
              "array([[1. , 1. , 2. ],\n",
              "       [0. , 0.5, 1. ],\n",
              "       [0. , 2. , 1. ],\n",
              "       [2. , 1. , 0. ]])"
            ]
          },
          "metadata": {},
          "execution_count": 26
        }
      ]
    },
    {
      "cell_type": "markdown",
      "source": [
        "**Inverse matrix:**"
      ],
      "metadata": {
        "id": "SyI30Ryd8j9-"
      }
    },
    {
      "cell_type": "code",
      "source": [
        "V"
      ],
      "metadata": {
        "colab": {
          "base_uri": "https://localhost:8080/"
        },
        "id": "jRO-gql48nVG",
        "outputId": "af59296a-f2cc-44a5-bfc2-99ec5c6aada6"
      },
      "execution_count": null,
      "outputs": [
        {
          "output_type": "execute_result",
          "data": {
            "text/plain": [
              "array([[1. , 1. , 2. ],\n",
              "       [0. , 0.5, 1. ],\n",
              "       [0. , 2. , 1. ],\n",
              "       [2. , 1. , 0. ]])"
            ]
          },
          "metadata": {},
          "execution_count": 27
        }
      ]
    },
    {
      "cell_type": "code",
      "source": [
        "#we need square matrix to get inverse\n",
        "Vs= V[[0,1,2]]\n",
        "Vs"
      ],
      "metadata": {
        "colab": {
          "base_uri": "https://localhost:8080/"
        },
        "id": "_pnUMstC8pDN",
        "outputId": "fb3becf4-46b9-478d-a946-9db02ea05ffc"
      },
      "execution_count": null,
      "outputs": [
        {
          "output_type": "execute_result",
          "data": {
            "text/plain": [
              "array([[1. , 1. , 2. ],\n",
              "       [0. , 0.5, 1. ],\n",
              "       [0. , 2. , 1. ]])"
            ]
          },
          "metadata": {},
          "execution_count": 29
        }
      ]
    },
    {
      "cell_type": "code",
      "source": [
        "#inverse\n",
        "Vs_inv = np.linalg.inv(Vs)\n",
        "Vs_inv"
      ],
      "metadata": {
        "colab": {
          "base_uri": "https://localhost:8080/"
        },
        "id": "aLgvrSE48xIj",
        "outputId": "4dbd52eb-1457-416c-9402-40343b4f1acb"
      },
      "execution_count": null,
      "outputs": [
        {
          "output_type": "execute_result",
          "data": {
            "text/plain": [
              "array([[ 1.        , -2.        ,  0.        ],\n",
              "       [ 0.        , -0.66666667,  0.66666667],\n",
              "       [ 0.        ,  1.33333333, -0.33333333]])"
            ]
          },
          "metadata": {},
          "execution_count": 30
        }
      ]
    },
    {
      "cell_type": "code",
      "source": [
        "Vs_inv.dot(Vs) #gives identity matrix"
      ],
      "metadata": {
        "colab": {
          "base_uri": "https://localhost:8080/"
        },
        "id": "C_qXqhMj9GN6",
        "outputId": "23161970-089b-4315-b35e-f97865a40b47"
      },
      "execution_count": null,
      "outputs": [
        {
          "output_type": "execute_result",
          "data": {
            "text/plain": [
              "array([[1., 0., 0.],\n",
              "       [0., 1., 0.],\n",
              "       [0., 0., 1.]])"
            ]
          },
          "metadata": {},
          "execution_count": 33
        }
      ]
    }
  ]
}