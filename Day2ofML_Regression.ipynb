{
  "nbformat": 4,
  "nbformat_minor": 0,
  "metadata": {
    "colab": {
      "provenance": [],
      "toc_visible": true,
      "mount_file_id": "15ASI4txbpr5nAR5HBNsU96iquu3UKno8",
      "authorship_tag": "ABX9TyOdcgUoosfrz/SbqBXGKB+W",
      "include_colab_link": true
    },
    "kernelspec": {
      "name": "python3",
      "display_name": "Python 3"
    },
    "language_info": {
      "name": "python"
    }
  },
  "cells": [
    {
      "cell_type": "markdown",
      "metadata": {
        "id": "view-in-github",
        "colab_type": "text"
      },
      "source": [
        "<a href=\"https://colab.research.google.com/github/Adh101/TechAxis-Data-Science-with-Python-Notes/blob/main/Day2ofML_Regression.ipynb\" target=\"_parent\"><img src=\"https://colab.research.google.com/assets/colab-badge.svg\" alt=\"Open In Colab\"/></a>"
      ]
    },
    {
      "cell_type": "markdown",
      "source": [
        "# Regression using scikit learn"
      ],
      "metadata": {
        "id": "Jhq_-H3fHC5k"
      }
    },
    {
      "cell_type": "markdown",
      "source": [
        "**Regression**\n",
        "\n",
        "y=ax+b for Simple Linear Regression\n",
        "\n",
        "y=a1x1+a2x2+...+anxn+b for multi linear Regression\n",
        "\n",
        "where,\n",
        "y= traget values, x= features values,\n",
        "a,b are coefficients of models\n",
        "*   Can be used on continuous values such as Houses prices, GDP of a country,Blood Glucose levels\n",
        "*  Features array need to be 2D array to apply regression\n",
        "\n",
        "\n"
      ],
      "metadata": {
        "id": "bwFeF5gCFI-N"
      }
    },
    {
      "cell_type": "code",
      "source": [
        "#Regression using scikit learn\n",
        "\n",
        "#import\n",
        "from sklearn.linear_model import LinearRegression\n",
        "import matplotlib.pyplot as plt\n",
        "import pandas as pd\n",
        "import numpy as np"
      ],
      "metadata": {
        "id": "Mi521hsQGXOK"
      },
      "execution_count": null,
      "outputs": []
    },
    {
      "cell_type": "code",
      "source": [
        "#load the data set\n",
        "from google.colab import drive\n",
        "drive.mount('/content/drive')\n",
        "\n",
        "sales_df= pd.read_csv('/content/drive/MyDrive/advertising_and_sales_clean.csv')\n",
        "\n",
        "sales_df=sales_df.drop('influencer',axis=1)\n",
        "sales_df.head()"
      ],
      "metadata": {
        "colab": {
          "base_uri": "https://localhost:8080/",
          "height": 244
        },
        "id": "YOyO8kDxG9wS",
        "outputId": "c375388d-3936-414a-bfd2-a119aaa13b6e"
      },
      "execution_count": null,
      "outputs": [
        {
          "output_type": "stream",
          "name": "stdout",
          "text": [
            "Drive already mounted at /content/drive; to attempt to forcibly remount, call drive.mount(\"/content/drive\", force_remount=True).\n"
          ]
        },
        {
          "output_type": "execute_result",
          "data": {
            "text/plain": [
              "        tv     radio  social_media      sales\n",
              "0  16000.0   6566.23       2907.98   54732.76\n",
              "1  13000.0   9237.76       2409.57   46677.90\n",
              "2  41000.0  15886.45       2913.41  150177.83\n",
              "3  83000.0  30020.03       6922.30  298246.34\n",
              "4  15000.0   8437.41       1406.00   56594.18"
            ],
            "text/html": [
              "\n",
              "\n",
              "  <div id=\"df-d9ee20b5-fd7d-4142-9e3f-3cccd9ec467f\">\n",
              "    <div class=\"colab-df-container\">\n",
              "      <div>\n",
              "<style scoped>\n",
              "    .dataframe tbody tr th:only-of-type {\n",
              "        vertical-align: middle;\n",
              "    }\n",
              "\n",
              "    .dataframe tbody tr th {\n",
              "        vertical-align: top;\n",
              "    }\n",
              "\n",
              "    .dataframe thead th {\n",
              "        text-align: right;\n",
              "    }\n",
              "</style>\n",
              "<table border=\"1\" class=\"dataframe\">\n",
              "  <thead>\n",
              "    <tr style=\"text-align: right;\">\n",
              "      <th></th>\n",
              "      <th>tv</th>\n",
              "      <th>radio</th>\n",
              "      <th>social_media</th>\n",
              "      <th>sales</th>\n",
              "    </tr>\n",
              "  </thead>\n",
              "  <tbody>\n",
              "    <tr>\n",
              "      <th>0</th>\n",
              "      <td>16000.0</td>\n",
              "      <td>6566.23</td>\n",
              "      <td>2907.98</td>\n",
              "      <td>54732.76</td>\n",
              "    </tr>\n",
              "    <tr>\n",
              "      <th>1</th>\n",
              "      <td>13000.0</td>\n",
              "      <td>9237.76</td>\n",
              "      <td>2409.57</td>\n",
              "      <td>46677.90</td>\n",
              "    </tr>\n",
              "    <tr>\n",
              "      <th>2</th>\n",
              "      <td>41000.0</td>\n",
              "      <td>15886.45</td>\n",
              "      <td>2913.41</td>\n",
              "      <td>150177.83</td>\n",
              "    </tr>\n",
              "    <tr>\n",
              "      <th>3</th>\n",
              "      <td>83000.0</td>\n",
              "      <td>30020.03</td>\n",
              "      <td>6922.30</td>\n",
              "      <td>298246.34</td>\n",
              "    </tr>\n",
              "    <tr>\n",
              "      <th>4</th>\n",
              "      <td>15000.0</td>\n",
              "      <td>8437.41</td>\n",
              "      <td>1406.00</td>\n",
              "      <td>56594.18</td>\n",
              "    </tr>\n",
              "  </tbody>\n",
              "</table>\n",
              "</div>\n",
              "      <button class=\"colab-df-convert\" onclick=\"convertToInteractive('df-d9ee20b5-fd7d-4142-9e3f-3cccd9ec467f')\"\n",
              "              title=\"Convert this dataframe to an interactive table.\"\n",
              "              style=\"display:none;\">\n",
              "\n",
              "  <svg xmlns=\"http://www.w3.org/2000/svg\" height=\"24px\"viewBox=\"0 0 24 24\"\n",
              "       width=\"24px\">\n",
              "    <path d=\"M0 0h24v24H0V0z\" fill=\"none\"/>\n",
              "    <path d=\"M18.56 5.44l.94 2.06.94-2.06 2.06-.94-2.06-.94-.94-2.06-.94 2.06-2.06.94zm-11 1L8.5 8.5l.94-2.06 2.06-.94-2.06-.94L8.5 2.5l-.94 2.06-2.06.94zm10 10l.94 2.06.94-2.06 2.06-.94-2.06-.94-.94-2.06-.94 2.06-2.06.94z\"/><path d=\"M17.41 7.96l-1.37-1.37c-.4-.4-.92-.59-1.43-.59-.52 0-1.04.2-1.43.59L10.3 9.45l-7.72 7.72c-.78.78-.78 2.05 0 2.83L4 21.41c.39.39.9.59 1.41.59.51 0 1.02-.2 1.41-.59l7.78-7.78 2.81-2.81c.8-.78.8-2.07 0-2.86zM5.41 20L4 18.59l7.72-7.72 1.47 1.35L5.41 20z\"/>\n",
              "  </svg>\n",
              "      </button>\n",
              "\n",
              "\n",
              "\n",
              "    <div id=\"df-0bdf4abe-5772-465c-a121-900ead489e51\">\n",
              "      <button class=\"colab-df-quickchart\" onclick=\"quickchart('df-0bdf4abe-5772-465c-a121-900ead489e51')\"\n",
              "              title=\"Suggest charts.\"\n",
              "              style=\"display:none;\">\n",
              "\n",
              "<svg xmlns=\"http://www.w3.org/2000/svg\" height=\"24px\"viewBox=\"0 0 24 24\"\n",
              "     width=\"24px\">\n",
              "    <g>\n",
              "        <path d=\"M19 3H5c-1.1 0-2 .9-2 2v14c0 1.1.9 2 2 2h14c1.1 0 2-.9 2-2V5c0-1.1-.9-2-2-2zM9 17H7v-7h2v7zm4 0h-2V7h2v10zm4 0h-2v-4h2v4z\"/>\n",
              "    </g>\n",
              "</svg>\n",
              "      </button>\n",
              "    </div>\n",
              "\n",
              "<style>\n",
              "  .colab-df-quickchart {\n",
              "    background-color: #E8F0FE;\n",
              "    border: none;\n",
              "    border-radius: 50%;\n",
              "    cursor: pointer;\n",
              "    display: none;\n",
              "    fill: #1967D2;\n",
              "    height: 32px;\n",
              "    padding: 0 0 0 0;\n",
              "    width: 32px;\n",
              "  }\n",
              "\n",
              "  .colab-df-quickchart:hover {\n",
              "    background-color: #E2EBFA;\n",
              "    box-shadow: 0px 1px 2px rgba(60, 64, 67, 0.3), 0px 1px 3px 1px rgba(60, 64, 67, 0.15);\n",
              "    fill: #174EA6;\n",
              "  }\n",
              "\n",
              "  [theme=dark] .colab-df-quickchart {\n",
              "    background-color: #3B4455;\n",
              "    fill: #D2E3FC;\n",
              "  }\n",
              "\n",
              "  [theme=dark] .colab-df-quickchart:hover {\n",
              "    background-color: #434B5C;\n",
              "    box-shadow: 0px 1px 3px 1px rgba(0, 0, 0, 0.15);\n",
              "    filter: drop-shadow(0px 1px 2px rgba(0, 0, 0, 0.3));\n",
              "    fill: #FFFFFF;\n",
              "  }\n",
              "</style>\n",
              "\n",
              "    <script>\n",
              "      async function quickchart(key) {\n",
              "        const containerElement = document.querySelector('#' + key);\n",
              "        const charts = await google.colab.kernel.invokeFunction(\n",
              "            'suggestCharts', [key], {});\n",
              "      }\n",
              "    </script>\n",
              "\n",
              "      <script>\n",
              "\n",
              "function displayQuickchartButton(domScope) {\n",
              "  let quickchartButtonEl =\n",
              "    domScope.querySelector('#df-0bdf4abe-5772-465c-a121-900ead489e51 button.colab-df-quickchart');\n",
              "  quickchartButtonEl.style.display =\n",
              "    google.colab.kernel.accessAllowed ? 'block' : 'none';\n",
              "}\n",
              "\n",
              "        displayQuickchartButton(document);\n",
              "      </script>\n",
              "      <style>\n",
              "    .colab-df-container {\n",
              "      display:flex;\n",
              "      flex-wrap:wrap;\n",
              "      gap: 12px;\n",
              "    }\n",
              "\n",
              "    .colab-df-convert {\n",
              "      background-color: #E8F0FE;\n",
              "      border: none;\n",
              "      border-radius: 50%;\n",
              "      cursor: pointer;\n",
              "      display: none;\n",
              "      fill: #1967D2;\n",
              "      height: 32px;\n",
              "      padding: 0 0 0 0;\n",
              "      width: 32px;\n",
              "    }\n",
              "\n",
              "    .colab-df-convert:hover {\n",
              "      background-color: #E2EBFA;\n",
              "      box-shadow: 0px 1px 2px rgba(60, 64, 67, 0.3), 0px 1px 3px 1px rgba(60, 64, 67, 0.15);\n",
              "      fill: #174EA6;\n",
              "    }\n",
              "\n",
              "    [theme=dark] .colab-df-convert {\n",
              "      background-color: #3B4455;\n",
              "      fill: #D2E3FC;\n",
              "    }\n",
              "\n",
              "    [theme=dark] .colab-df-convert:hover {\n",
              "      background-color: #434B5C;\n",
              "      box-shadow: 0px 1px 3px 1px rgba(0, 0, 0, 0.15);\n",
              "      filter: drop-shadow(0px 1px 2px rgba(0, 0, 0, 0.3));\n",
              "      fill: #FFFFFF;\n",
              "    }\n",
              "  </style>\n",
              "\n",
              "      <script>\n",
              "        const buttonEl =\n",
              "          document.querySelector('#df-d9ee20b5-fd7d-4142-9e3f-3cccd9ec467f button.colab-df-convert');\n",
              "        buttonEl.style.display =\n",
              "          google.colab.kernel.accessAllowed ? 'block' : 'none';\n",
              "\n",
              "        async function convertToInteractive(key) {\n",
              "          const element = document.querySelector('#df-d9ee20b5-fd7d-4142-9e3f-3cccd9ec467f');\n",
              "          const dataTable =\n",
              "            await google.colab.kernel.invokeFunction('convertToInteractive',\n",
              "                                                     [key], {});\n",
              "          if (!dataTable) return;\n",
              "\n",
              "          const docLinkHtml = 'Like what you see? Visit the ' +\n",
              "            '<a target=\"_blank\" href=https://colab.research.google.com/notebooks/data_table.ipynb>data table notebook</a>'\n",
              "            + ' to learn more about interactive tables.';\n",
              "          element.innerHTML = '';\n",
              "          dataTable['output_type'] = 'display_data';\n",
              "          await google.colab.output.renderOutput(dataTable, element);\n",
              "          const docLink = document.createElement('div');\n",
              "          docLink.innerHTML = docLinkHtml;\n",
              "          element.appendChild(docLink);\n",
              "        }\n",
              "      </script>\n",
              "    </div>\n",
              "  </div>\n"
            ]
          },
          "metadata": {},
          "execution_count": 17
        }
      ]
    },
    {
      "cell_type": "code",
      "source": [
        "#create feature and target data\n",
        "X= sales_df[\"tv\"].values.reshape(-1,1)\n",
        "y= sales_df[\"sales\"].values\n",
        "\n",
        "#Instantiate model\n",
        "reg= LinearRegression()\n",
        "\n",
        "#fit model\n",
        "reg.fit(X,y)\n",
        "\n",
        "#predict\n",
        "predictions= reg.predict(X)\n",
        "print(predictions)"
      ],
      "metadata": {
        "colab": {
          "base_uri": "https://localhost:8080/"
        },
        "id": "qqOaJ1JwIsWA",
        "outputId": "b782e26a-25c0-4fdc-bc47-b8fa50650ff5"
      },
      "execution_count": null,
      "outputs": [
        {
          "output_type": "stream",
          "name": "stdout",
          "text": [
            "[ 56851.73298719  46167.19070729 145889.58531972 ... 156574.12759962\n",
            " 252735.00811874 149451.09941302]\n"
          ]
        }
      ]
    },
    {
      "cell_type": "code",
      "source": [
        "#plot the model\n",
        "plt.scatter(X,y , color='blue')\n",
        "plt.plot(X,predictions, color='red')\n",
        "plt.xlabel('Feature values')\n",
        "plt.ylabel('target values')\n",
        "plt.show()"
      ],
      "metadata": {
        "colab": {
          "base_uri": "https://localhost:8080/",
          "height": 449
        },
        "id": "zythG5BpJs8T",
        "outputId": "0de68aa2-e5ec-44bc-ed34-dacfbd3902fa"
      },
      "execution_count": null,
      "outputs": [
        {
          "output_type": "display_data",
          "data": {
            "text/plain": [
              "<Figure size 640x480 with 1 Axes>"
            ],
            "image/png": "[encoded data removed]"
          },
          "metadata": {}
        }
      ]
    },
    {
      "cell_type": "markdown",
      "source": [
        "# How to choose coefficients a and b?"
      ],
      "metadata": {
        "id": "VPSSn6baKRUV"
      }
    },
    {
      "cell_type": "markdown",
      "source": [
        "\n",
        "\n",
        "*   Define an error function for any given line and choose line that minimizes error\n",
        "*   Error function = Loss function = Cost function\n",
        "\n",
        "**The Loss Function**\n",
        "\n",
        "\n",
        "*   RSS(Residual Sum of Squares) = sum of the squared of residuals(distance between regression line and data point)\n",
        "*   RSS is called OLS(Ordinary Least Squared), so minimize the RSS for better model.\n",
        "\n",
        "\n",
        "*   Linear Regression computes OLS under the hood, but default metric is R-Squared.\n",
        "*   R-sqaured is variance in target values explained by features.\n",
        "\n",
        "\n",
        "*   R-squared values ranges 0 to 1,\n",
        "*   High R-squared, better the model\n",
        "\n",
        "**MSE and RMSE:**\n",
        "\n",
        "\n",
        "*   MSE(Mean Squared Error) is mean of RSS\n",
        "*   RMSE(Root Mean Squared Error)\n",
        "\n",
        "\n",
        "\n",
        "\n",
        "\n",
        "\n",
        "\n",
        "\n",
        "\n"
      ],
      "metadata": {
        "id": "RHAPSL9hKm45"
      }
    },
    {
      "cell_type": "markdown",
      "source": [
        "# Linear Regression using all features:"
      ],
      "metadata": {
        "id": "b-OAJbuyMmqj"
      }
    },
    {
      "cell_type": "code",
      "source": [
        "#import\n",
        "from sklearn.model_selection import train_test_split\n",
        "from sklearn.linear_model import LinearRegression\n",
        "\n",
        "#create features and target array\n",
        "X= sales_df.drop('sales', axis=1).values\n",
        "y= sales_df['sales'].values\n",
        "\n",
        "#training and test set\n",
        "X_train,X_test,y_train,y_test= train_test_split(X,y, test_size= 0.3,\n",
        "                                                random_state=42)\n",
        "\n",
        "#model\n",
        "reg= LinearRegression()\n",
        "\n",
        "#fit the model\n",
        "reg.fit(X_train,y_train)\n",
        "\n",
        "#predict\n",
        "y_pred = reg.predict(X_test)\n",
        "print('Predictions:{}, Actual Values:{}'.format(y_pred[:2],y_test[:2]))\n"
      ],
      "metadata": {
        "colab": {
          "base_uri": "https://localhost:8080/"
        },
        "id": "_4nYcRxMMx3Z",
        "outputId": "e668d47f-0e4b-42a7-80e1-adf888f039a5"
      },
      "execution_count": null,
      "outputs": [
        {
          "output_type": "stream",
          "name": "stdout",
          "text": [
            "Predictions:[53176.66154234 70996.19873235], Actual Values:[55261.28 67574.9 ]\n"
          ]
        }
      ]
    },
    {
      "cell_type": "code",
      "source": [
        "#compute the model performances\n",
        "from sklearn.metrics import mean_squared_error\n",
        "\n",
        " #r_squared\n",
        "r_squared = reg.score(X_test,y_test)\n",
        "\n",
        " #RMSE\n",
        "rmse= mean_squared_error(y_test, y_pred, squared=False)\n",
        "\n",
        "print('R^2: {}'.format(r_squared))\n",
        "print('RMSE: {}'.format(rmse))"
      ],
      "metadata": {
        "colab": {
          "base_uri": "https://localhost:8080/"
        },
        "id": "rDUmt2IAO-py",
        "outputId": "8f0f9fa8-d611-4227-b206-2edb20bba588"
      },
      "execution_count": null,
      "outputs": [
        {
          "output_type": "stream",
          "name": "stdout",
          "text": [
            "R^2: 0.9990152104759368\n",
            "RMSE: 2944.4331996001006\n"
          ]
        }
      ]
    },
    {
      "cell_type": "markdown",
      "source": [
        "# Cross validation"
      ],
      "metadata": {
        "id": "_Cyt2AsvQAmx"
      }
    },
    {
      "cell_type": "markdown",
      "source": [
        "\n",
        "\n",
        "*   Used to overcome limitations of R-squared being not representative of model's ability to generate to unseen data\n",
        "*   Datasets in divide into number of folds and each fold is taken as test data iteratively\n",
        "\n",
        "*   We calculate the metrics in each fold and compute statistics with those metrics to evauate model performance on unseen data\n",
        "\n",
        "\n",
        "\n",
        "\n",
        "\n"
      ],
      "metadata": {
        "id": "UwAII-i8QE2q"
      }
    },
    {
      "cell_type": "code",
      "source": [
        "#import cross fold\n",
        "from sklearn.model_selection import cross_val_score, KFold\n",
        "\n",
        "kf= KFold(n_splits=6, shuffle= True, random_state=42)\n",
        "\n",
        "reg= LinearRegression()\n",
        "\n",
        "cv_results= cross_val_score(reg, X, y, cv=kf)\n",
        "\n",
        "print(cv_results)\n",
        "\n",
        "print(np.mean(cv_results), np.std(cv_results))"
      ],
      "metadata": {
        "colab": {
          "base_uri": "https://localhost:8080/"
        },
        "id": "p7gvZjZCQyI7",
        "outputId": "bb790986-51d1-4fd6-d181-fca71b7966fb"
      },
      "execution_count": null,
      "outputs": [
        {
          "output_type": "stream",
          "name": "stdout",
          "text": [
            "[0.99900913 0.99898729 0.99897163 0.99898887 0.99893043 0.99905966]\n",
            "0.9989911695584723 3.895599514495595e-05\n"
          ]
        }
      ]
    },
    {
      "cell_type": "markdown",
      "source": [
        "# Regularized Regression"
      ],
      "metadata": {
        "id": "1TYcdw7pR-_f"
      }
    },
    {
      "cell_type": "markdown",
      "source": [
        "\n",
        "\n",
        "*   Used to avoid overfitting\n",
        "*   If the coefficients a and b becomes large, it leads to overfitting\n",
        "\n"
      ],
      "metadata": {
        "id": "4RUmVSgOSEcv"
      }
    },
    {
      "cell_type": "markdown",
      "source": [
        "**Types of Regularized Regression**\n",
        "\n",
        "*   Ridge Regression:\n",
        "\n",
        "    *   Loss function = OLS + alpha * sum of square of coefficients\n",
        "    *   alpha = hyperparameter we need to choose, alpha=0=OLS leads to overfitting, alpha= very high leads to over fitting\n",
        "\n",
        "\n",
        "*   Lasso Regression:\n",
        "\n",
        "    *   Loss function = OLS + sum of absolute values of coefficients\n",
        "    *   used to select important features ignoring the other non important columns\n",
        "\n",
        "\n",
        "\n"
      ],
      "metadata": {
        "id": "fgRpobcISU4W"
      }
    },
    {
      "cell_type": "code",
      "source": [
        "#ridge regression\n",
        "from sklearn.linear_model import Ridge\n",
        "\n",
        "scores=[]\n",
        "\n",
        "for alpha in [0.1,1.0,10.0,100.0,1000.0]:\n",
        "  ridge=Ridge(alpha=alpha)\n",
        "  ridge.fit(X_train, y_train)\n",
        "  y_pred = ridge.predict(X_test)\n",
        "\n",
        "  scores.append(ridge.score(X_test,y_test))\n",
        "print(scores)\n",
        "# alpha increses, scores decreases"
      ],
      "metadata": {
        "colab": {
          "base_uri": "https://localhost:8080/"
        },
        "id": "r46WOnrcTcLf",
        "outputId": "7a2b0d75-4592-43e4-ced6-b6d42435d488"
      },
      "execution_count": null,
      "outputs": [
        {
          "output_type": "stream",
          "name": "stdout",
          "text": [
            "[0.9990152104759369, 0.9990152104759373, 0.9990152104759419, 0.9990152104759871, 0.9990152104764388]\n"
          ]
        }
      ]
    },
    {
      "cell_type": "code",
      "source": [
        "#Lasso Regression\n",
        "from sklearn.linear_model import Lasso\n",
        "\n",
        "lasso = Lasso(alpha=0.1)\n",
        "\n",
        "lasso.fit(X,y)\n",
        "\n",
        "lasso_coef = lasso.fit(X,y).coef_\n",
        "\n",
        "print(lasso_coef)\n",
        "\n",
        "sales_columns= sales_df.drop('sales',axis=1).columns\n",
        "\n",
        "plt.bar(sales_columns,lasso_coef)\n",
        "plt.show()"
      ],
      "metadata": {
        "colab": {
          "base_uri": "https://localhost:8080/",
          "height": 448
        },
        "id": "6Xe6AxTBUTfZ",
        "outputId": "e74e1e7b-54bb-431d-e7cc-3ff9703dab3b"
      },
      "execution_count": null,
      "outputs": [
        {
          "output_type": "stream",
          "name": "stdout",
          "text": [
            "[ 3.56256962 -0.00397037  0.00496392]\n"
          ]
        },
        {
          "output_type": "display_data",
          "data": {
            "text/plain": [
              "<Figure size 640x480 with 1 Axes>"
            ],
            "image/png": "[encoded data removed]"
          },
          "metadata": {}
        }
      ]
    },
    {
      "cell_type": "markdown",
      "source": [
        "It shows tv columns is most imporatnt features for sales value than other features."
      ],
      "metadata": {
        "id": "TMWSAsIcWQs6"
      }
    }
  ]
}