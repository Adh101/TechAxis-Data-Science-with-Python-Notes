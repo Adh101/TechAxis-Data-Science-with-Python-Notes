{
  "nbformat": 4,
  "nbformat_minor": 0,
  "metadata": {
    "colab": {
      "provenance": [],
      "authorship_tag": "ABX9TyNxCOM1zwwvIf3wdlTC9TvY",
      "include_colab_link": true
    },
    "kernelspec": {
      "name": "python3",
      "display_name": "Python 3"
    },
    "language_info": {
      "name": "python"
    }
  },
  "cells": [
    {
      "cell_type": "markdown",
      "metadata": {
        "id": "view-in-github",
        "colab_type": "text"
      },
      "source": [
        "<a href=\"https://colab.research.google.com/github/Adh101/TechAxis-Data-Science-with-Python-Notes/blob/main/Functions.ipynb\" target=\"_parent\"><img src=\"https://colab.research.google.com/assets/colab-badge.svg\" alt=\"Open In Colab\"/></a>"
      ]
    },
    {
      "cell_type": "code",
      "execution_count": null,
      "metadata": {
        "colab": {
          "base_uri": "https://localhost:8080/"
        },
        "id": "bNLZoNW4JCfI",
        "outputId": "8b25b10e-4b4a-44d3-f520-e10dcb53eb47"
      },
      "outputs": [
        {
          "output_type": "stream",
          "name": "stdout",
          "text": [
            "Function class\n"
          ]
        }
      ],
      "source": [
        "print(\"Function class\")"
      ]
    },
    {
      "cell_type": "markdown",
      "source": [
        "# Functions\n",
        "\n",
        "\n",
        "*   Functions are reusable piece of code.\n",
        "*   Created for solving specific problem.\n",
        "\n",
        "**Two types of functions:**\n",
        "\n",
        "\n",
        "*   Built-in Functions:\n",
        "        - Fucntions already provided by Python\n",
        "        - print(), range(), min(), max(), etc\n",
        "*   User Defined Functions:\n",
        "        - Functions defined by the users themselves to solve the specific problems.\n",
        "        - Eg: Fuctions to calculate area of a circle , Area_of_circle()\n",
        "\n",
        "\n",
        "**Syntax:**\n",
        "          \n",
        "            def function_name(arguments):\n",
        "                    statement 1\n",
        "                    statement 2\n",
        "                    statement 3\n",
        "                    ...........\n",
        "                    ...........\n",
        "                    return statement\n"
      ],
      "metadata": {
        "id": "acXkwhV_Jcqp"
      }
    },
    {
      "cell_type": "code",
      "source": [
        "#function to calculate area of a circle\n",
        "\n",
        "def area_of_circle(radius):\n",
        "  area = 3.14 * radius * radius\n",
        "  return area"
      ],
      "metadata": {
        "id": "lFN1PfwPLibz"
      },
      "execution_count": null,
      "outputs": []
    },
    {
      "cell_type": "code",
      "source": [
        "area_of_circle(5)"
      ],
      "metadata": {
        "colab": {
          "base_uri": "https://localhost:8080/"
        },
        "id": "TzxHeCaFL_5N",
        "outputId": "dd75234e-b541-4052-938d-d19fa884de46"
      },
      "execution_count": null,
      "outputs": [
        {
          "output_type": "execute_result",
          "data": {
            "text/plain": [
              "78.5"
            ]
          },
          "metadata": {},
          "execution_count": 18
        }
      ]
    },
    {
      "cell_type": "code",
      "source": [
        "area_of_circle(10)"
      ],
      "metadata": {
        "colab": {
          "base_uri": "https://localhost:8080/"
        },
        "id": "7oePi5kaaNs9",
        "outputId": "1c769df8-cb65-4e61-f66c-87c7ff1c6577"
      },
      "execution_count": null,
      "outputs": [
        {
          "output_type": "execute_result",
          "data": {
            "text/plain": [
              "314.0"
            ]
          },
          "metadata": {},
          "execution_count": 19
        }
      ]
    },
    {
      "cell_type": "code",
      "source": [
        "r = float(input(\"Enter radius: \"))\n",
        "print(\"Area of the given circle is : \", area_of_circle(r))"
      ],
      "metadata": {
        "colab": {
          "base_uri": "https://localhost:8080/"
        },
        "id": "JXlqIN6oeU1z",
        "outputId": "902ccff4-5d05-42b3-e850-f3dea561a35c"
      },
      "execution_count": null,
      "outputs": [
        {
          "output_type": "stream",
          "name": "stdout",
          "text": [
            "Enter radius: 5.5\n",
            "Area of the given circle is :  94.985\n"
          ]
        }
      ]
    },
    {
      "cell_type": "markdown",
      "source": [
        "**Practice Problems:**\n",
        "\n",
        "\n",
        "1.   Create a function that take two numbers as argument and returns the greater number between them.\n",
        "2.   Create a functions that square the given number.\n",
        "\n"
      ],
      "metadata": {
        "id": "uyz6PtMOMle1"
      }
    },
    {
      "cell_type": "code",
      "source": [
        "def compare(a,b):\n",
        "  if(a>b):\n",
        "    greater = a\n",
        "  elif(b==a):\n",
        "    greater =\"Two numbers are equal\"\n",
        "  else:\n",
        "    greater = b\n",
        "  return greater"
      ],
      "metadata": {
        "id": "xE-Oem0ONX0K"
      },
      "execution_count": null,
      "outputs": []
    },
    {
      "cell_type": "code",
      "source": [
        "compare(10,10)"
      ],
      "metadata": {
        "colab": {
          "base_uri": "https://localhost:8080/",
          "height": 35
        },
        "id": "UU7zX_sFN7aq",
        "outputId": "965d2cb6-ae98-406f-dcaf-409cfcd58124"
      },
      "execution_count": null,
      "outputs": [
        {
          "output_type": "execute_result",
          "data": {
            "text/plain": [
              "'Two numbers are equal'"
            ],
            "application/vnd.google.colaboratory.intrinsic+json": {
              "type": "string"
            }
          },
          "metadata": {},
          "execution_count": 9
        }
      ]
    },
    {
      "cell_type": "code",
      "source": [
        "compare(50,10)"
      ],
      "metadata": {
        "colab": {
          "base_uri": "https://localhost:8080/"
        },
        "id": "3_73B03dN-Gq",
        "outputId": "3a832242-a0ce-42a5-a7f6-0d5a14c8e3a5"
      },
      "execution_count": null,
      "outputs": [
        {
          "output_type": "execute_result",
          "data": {
            "text/plain": [
              "50"
            ]
          },
          "metadata": {},
          "execution_count": 10
        }
      ]
    },
    {
      "cell_type": "code",
      "source": [
        "def squared_number(num):\n",
        "  square = num **2\n",
        "  return square"
      ],
      "metadata": {
        "id": "WOLIo4JFO_E8"
      },
      "execution_count": null,
      "outputs": []
    },
    {
      "cell_type": "code",
      "source": [
        "squared_number(5)"
      ],
      "metadata": {
        "colab": {
          "base_uri": "https://localhost:8080/"
        },
        "id": "I1Pwfn77PI4p",
        "outputId": "1fc66bae-1ac0-4056-9af7-dd63870aac7f"
      },
      "execution_count": null,
      "outputs": [
        {
          "output_type": "execute_result",
          "data": {
            "text/plain": [
              "25"
            ]
          },
          "metadata": {},
          "execution_count": 12
        }
      ]
    },
    {
      "cell_type": "markdown",
      "source": [
        "**Variable/ Arbitrary Arguemnts in Function**\n",
        " *args"
      ],
      "metadata": {
        "id": "3wRhaaL8fzmY"
      }
    },
    {
      "cell_type": "code",
      "source": [
        "#Arbitrary/ Variable Arguments:\n",
        "def sum_all(*args):\n",
        "  total = 0\n",
        "  for num in args:\n",
        "    total = total + num\n",
        "  return total"
      ],
      "metadata": {
        "id": "kLT48WkuPM1A"
      },
      "execution_count": null,
      "outputs": []
    },
    {
      "cell_type": "code",
      "source": [
        "sum_all(1,2,3,4,5,6)"
      ],
      "metadata": {
        "colab": {
          "base_uri": "https://localhost:8080/"
        },
        "id": "YpH5AYoIP4Cm",
        "outputId": "fc831b7f-0c57-468a-9533-34909f6c2cb4"
      },
      "execution_count": null,
      "outputs": [
        {
          "output_type": "execute_result",
          "data": {
            "text/plain": [
              "21"
            ]
          },
          "metadata": {},
          "execution_count": 22
        }
      ]
    },
    {
      "cell_type": "code",
      "source": [
        "sum_all(7,8,9)"
      ],
      "metadata": {
        "colab": {
          "base_uri": "https://localhost:8080/"
        },
        "id": "IevOybF2gUZT",
        "outputId": "44f5a114-4904-488e-974d-510fa248350f"
      },
      "execution_count": null,
      "outputs": [
        {
          "output_type": "execute_result",
          "data": {
            "text/plain": [
              "24"
            ]
          },
          "metadata": {},
          "execution_count": 23
        }
      ]
    },
    {
      "cell_type": "code",
      "source": [
        "#keyword arguments\n",
        "def number_kwarg(**number):\n",
        "    print('My number is: ' + number['integer'] + 'My other number: ' + number['integer2'])"
      ],
      "metadata": {
        "id": "rVVQLYM_RiNE"
      },
      "execution_count": null,
      "outputs": []
    },
    {
      "cell_type": "code",
      "source": [
        "number_kwarg(integer = '2309', integer2 = '349')"
      ],
      "metadata": {
        "colab": {
          "base_uri": "https://localhost:8080/"
        },
        "id": "ceTIQ4LuRtOH",
        "outputId": "34df8259-1095-4456-dab1-f0a4df8d601c"
      },
      "execution_count": null,
      "outputs": [
        {
          "output_type": "stream",
          "name": "stdout",
          "text": [
            "My number is: 2309My other number: 349\n"
          ]
        }
      ]
    },
    {
      "cell_type": "code",
      "source": [
        "def display_info(**kwargs):\n",
        "    for key, value in kwargs.items():\n",
        "        print(f\"{key}: {value}\")"
      ],
      "metadata": {
        "id": "1Fh9uqNbRq73"
      },
      "execution_count": null,
      "outputs": []
    },
    {
      "cell_type": "code",
      "source": [
        "display_info(name=\"Alice\", age=30, city=\"New York\")"
      ],
      "metadata": {
        "colab": {
          "base_uri": "https://localhost:8080/"
        },
        "id": "7sy2k0KhR4Lp",
        "outputId": "b344853c-e3b6-4475-eb20-bd1a370aa848"
      },
      "execution_count": null,
      "outputs": [
        {
          "output_type": "stream",
          "name": "stdout",
          "text": [
            "name: Alice\n",
            "age: 30\n",
            "city: New York\n"
          ]
        }
      ]
    },
    {
      "cell_type": "markdown",
      "source": [
        "# Practice : Function Problems"
      ],
      "metadata": {
        "id": "uvKxH2Pk9-QQ"
      }
    },
    {
      "cell_type": "markdown",
      "source": [
        "1. Write a function with arguments your first and last name and print greeting, also use formatting."
      ],
      "metadata": {
        "id": "amo3Jh5K-FtV"
      }
    },
    {
      "cell_type": "code",
      "source": [
        "def greet(first_name,last_name):\n",
        "  print(f\"Hello!! {first_name} {last_name}\")\n",
        "  print(\"Hello\",first_name+last_name)\n",
        "  print(\"Welcome aboard\")\n",
        "\n",
        "greet(\"John\",\"Wick\")"
      ],
      "metadata": {
        "id": "c3knTt6u-Wvb",
        "colab": {
          "base_uri": "https://localhost:8080/"
        },
        "outputId": "ca9c7ab0-42bf-4474-88b1-ac69c5702bb4"
      },
      "execution_count": 3,
      "outputs": [
        {
          "output_type": "stream",
          "name": "stdout",
          "text": [
            "Hello!! John Wick\n",
            "Hello JohnWick\n",
            "Welcome aboard\n"
          ]
        }
      ]
    },
    {
      "cell_type": "code",
      "source": [
        "greet(\"Atish\",\"Dhamala\")"
      ],
      "metadata": {
        "colab": {
          "base_uri": "https://localhost:8080/"
        },
        "id": "S6BnA4pkk4Tv",
        "outputId": "89e13f15-37cf-4b46-f43f-02ba40bedd16"
      },
      "execution_count": 2,
      "outputs": [
        {
          "output_type": "stream",
          "name": "stdout",
          "text": [
            "Hello!! Atish Dhamala\n",
            "Welcome aboard\n"
          ]
        }
      ]
    },
    {
      "cell_type": "markdown",
      "source": [
        "2. Create a function to pass key arguments and return the key values specified by user when calling the function. Keys to pass: id,name, age, city"
      ],
      "metadata": {
        "id": "JVv0sjImBrwD"
      }
    },
    {
      "cell_type": "code",
      "source": [
        "def user_info(**user):\n",
        "  print(user)\n",
        "\n",
        "user_info(id=1,name=\"John\", age=\"24\", city =\"Lalitpur\")"
      ],
      "metadata": {
        "id": "eR6w_ZX_B8qL",
        "colab": {
          "base_uri": "https://localhost:8080/"
        },
        "outputId": "3c6d7e1d-ba0b-4e6b-c72d-5baae9b611be"
      },
      "execution_count": 4,
      "outputs": [
        {
          "output_type": "stream",
          "name": "stdout",
          "text": [
            "{'id': 1, 'name': 'John', 'age': '24', 'city': 'Lalitpur'}\n"
          ]
        }
      ]
    },
    {
      "cell_type": "markdown",
      "source": [
        "3. FizzBuzz Problem: Create a function that returns \"Fizz\" if input number is divisible by 3, \"Buzz\" if it is divisible by 5, \"FizzBuzz\" if divisible by both, or returns input number if it is not divisible by both 3 and 5."
      ],
      "metadata": {
        "id": "MEyobqB2EEgJ"
      }
    },
    {
      "cell_type": "code",
      "source": [
        "def fizz_buzz(input):\n",
        "  if input % 3==0:\n",
        "    return \"Fizz\"\n",
        "\n",
        "  if input % 5==0:\n",
        "    return \"Buzz\"\n",
        "\n",
        "  if (input % 3==0)and(input % 5==0):\n",
        "    return \"FizzBuzz\"\n",
        "  return input\n"
      ],
      "metadata": {
        "id": "7KW-Zvy9EgaN"
      },
      "execution_count": 5,
      "outputs": []
    },
    {
      "cell_type": "code",
      "source": [
        "fizz_buzz(6)"
      ],
      "metadata": {
        "colab": {
          "base_uri": "https://localhost:8080/",
          "height": 35
        },
        "id": "p2xF6gjKqQKd",
        "outputId": "f805c60b-cf10-43cd-fc5b-b4e06dd2ad4d"
      },
      "execution_count": 6,
      "outputs": [
        {
          "output_type": "execute_result",
          "data": {
            "text/plain": [
              "'Fizz'"
            ],
            "application/vnd.google.colaboratory.intrinsic+json": {
              "type": "string"
            }
          },
          "metadata": {},
          "execution_count": 6
        }
      ]
    },
    {
      "cell_type": "code",
      "source": [
        "fizz_buzz(25)"
      ],
      "metadata": {
        "colab": {
          "base_uri": "https://localhost:8080/",
          "height": 35
        },
        "id": "LznZ0vfnqV2x",
        "outputId": "cdf43e7e-9f53-4a1c-80ee-15fb65727b37"
      },
      "execution_count": 7,
      "outputs": [
        {
          "output_type": "execute_result",
          "data": {
            "text/plain": [
              "'Buzz'"
            ],
            "application/vnd.google.colaboratory.intrinsic+json": {
              "type": "string"
            }
          },
          "metadata": {},
          "execution_count": 7
        }
      ]
    },
    {
      "cell_type": "code",
      "source": [
        "fizz_buzz(15)"
      ],
      "metadata": {
        "colab": {
          "base_uri": "https://localhost:8080/",
          "height": 35
        },
        "id": "QR194X3SqZ4P",
        "outputId": "25caa61a-2675-4a2b-abf8-6294290a300e"
      },
      "execution_count": 8,
      "outputs": [
        {
          "output_type": "execute_result",
          "data": {
            "text/plain": [
              "'Fizz'"
            ],
            "application/vnd.google.colaboratory.intrinsic+json": {
              "type": "string"
            }
          },
          "metadata": {},
          "execution_count": 8
        }
      ]
    },
    {
      "cell_type": "code",
      "source": [
        "fizz_buzz(15)"
      ],
      "metadata": {
        "colab": {
          "base_uri": "https://localhost:8080/",
          "height": 35
        },
        "id": "IjPv2vHUFG1G",
        "outputId": "c25b4e56-b5db-40ec-bab4-0df03d174191"
      },
      "execution_count": null,
      "outputs": [
        {
          "output_type": "execute_result",
          "data": {
            "text/plain": [
              "'Fizz'"
            ],
            "application/vnd.google.colaboratory.intrinsic+json": {
              "type": "string"
            }
          },
          "metadata": {},
          "execution_count": 7
        }
      ]
    },
    {
      "cell_type": "code",
      "source": [
        "def fizz_buzz_perfect(input):\n",
        "  if (input % 3==0)and(input % 5==0):\n",
        "    return \"FizzBuzz\"\n",
        "\n",
        "  if input % 3==0:\n",
        "    return \"Fizz\"\n",
        "\n",
        "  if input % 5==0:\n",
        "    return \"Buzz\"\n",
        "\n",
        "  return input"
      ],
      "metadata": {
        "id": "dCwecyJ4Fgwb"
      },
      "execution_count": 9,
      "outputs": []
    },
    {
      "cell_type": "code",
      "source": [
        "fizz_buzz_perfect(15)"
      ],
      "metadata": {
        "colab": {
          "base_uri": "https://localhost:8080/",
          "height": 35
        },
        "id": "ujTyrzbkFtkG",
        "outputId": "53365b4f-0322-4301-ac51-c4aef2ab27cc"
      },
      "execution_count": 14,
      "outputs": [
        {
          "output_type": "execute_result",
          "data": {
            "text/plain": [
              "'FizzBuzz'"
            ],
            "application/vnd.google.colaboratory.intrinsic+json": {
              "type": "string"
            }
          },
          "metadata": {},
          "execution_count": 14
        }
      ]
    },
    {
      "cell_type": "markdown",
      "source": [
        "4.Suppose you just attended a University examination.\n",
        "The marks you obtained in various subjects are stored in a list like this:\n",
        "\n",
        "marks = [55, 64, 75, 80, 65]\n",
        "\n",
        "You want to find the average marks you obtained in the exam. And, based on the average marks you want to find your grade.\n",
        "\n",
        "The grading rule is like this:\n",
        "\n",
        "\n",
        "- You will get Grade A if the average marks is equal to or above 80\n",
        "- You will get Grade B if the average marks is equal to or above 60 and less than 80\n",
        "- You will get Grade C if the average marks is equal to or above 50 and less than 60\n",
        "- And if the average marks is less than 50, you will get Grade F"
      ],
      "metadata": {
        "id": "kh7BMub0HvKF"
      }
    },
    {
      "cell_type": "code",
      "source": [
        "#function to calculate average\n",
        "def average_marks(marks):\n",
        "  sum_of_marks = sum(marks)\n",
        "  total_subjects = len(marks)\n",
        "  average_marks = sum_of_marks / total_subjects\n",
        "  return average_marks\n",
        "\n",
        "#function to compute grade\n",
        "def compute_grade(average_marks):\n",
        "  if average_marks >= 80:\n",
        "    grade = 'A'\n",
        "\n",
        "  elif average_marks >= 60 and average_marks < 80:\n",
        "    grade = 'B'\n",
        "\n",
        "  elif average_marks >= 50 and average_marks < 60:\n",
        "    grade = 'C'\n",
        "\n",
        "  else:\n",
        "    grade = 'F'\n",
        "\n",
        "  return grade"
      ],
      "metadata": {
        "id": "y5iI27L_IRcA"
      },
      "execution_count": null,
      "outputs": []
    },
    {
      "cell_type": "code",
      "source": [
        "marks = [55, 64, 75, 80, 65]\n",
        "\n",
        "average = average_marks(marks)\n",
        "print('Your average marks:',average)\n",
        "\n",
        "grade_earned = compute_grade(average)\n",
        "print('Your grade is:',grade_earned)"
      ],
      "metadata": {
        "id": "UdWkqSY9JdBg"
      },
      "execution_count": null,
      "outputs": []
    },
    {
      "cell_type": "markdown",
      "source": [
        "4. Create a list with some numbers and use looping to calculate sum and average of the list."
      ],
      "metadata": {
        "id": "bdRkM44KLkrq"
      }
    },
    {
      "cell_type": "code",
      "source": [
        "def find_average(num_list):\n",
        "  total_sum = sum(num_list)\n",
        "  average = total_sum / len(num_list)\n",
        "  return average"
      ],
      "metadata": {
        "id": "3dCPOZYGMSVu"
      },
      "execution_count": 18,
      "outputs": []
    },
    {
      "cell_type": "code",
      "source": [
        "total_sum=0\n",
        "for i in num_list:\n",
        "    total_sum = total_sum + i\n",
        "    average = total_sum / len(num_list)"
      ],
      "metadata": {
        "id": "cy3of0OMNzNd"
      },
      "execution_count": null,
      "outputs": []
    },
    {
      "cell_type": "code",
      "source": [
        "numbers = [1,2,3,4,5]\n",
        "print(find_average(numbers))"
      ],
      "metadata": {
        "colab": {
          "base_uri": "https://localhost:8080/"
        },
        "id": "O1rqN2O4M4dU",
        "outputId": "89fd8994-1648-4506-e008-2fa81fd113a4"
      },
      "execution_count": 19,
      "outputs": [
        {
          "output_type": "stream",
          "name": "stdout",
          "text": [
            "3.0\n"
          ]
        }
      ]
    },
    {
      "cell_type": "markdown",
      "source": [
        "# Recursive Function\n",
        "\n",
        "**Recursion:** Recursion is the process of defining something in terms of itself.\n",
        "\n",
        "In Python, we know that a function can call other functions. It is even possible for the function to call itself. These types of construct are termed as recursive functions.\n",
        "\n",
        "\n",
        "        "
      ],
      "metadata": {
        "id": "HqTlUOC3PBKw"
      }
    },
    {
      "cell_type": "code",
      "source": [
        "def factorial(x):\n",
        "    \"\"\"This is a recursive function\n",
        "    to find the factorial of an integer\"\"\"\n",
        "\n",
        "    if x == 1:\n",
        "        return 1\n",
        "    else:\n",
        "        return (x * factorial(x-1))\n",
        "\n",
        "\n",
        "num = 3\n",
        "print(\"The factorial of\", num, \"is\", factorial(num))"
      ],
      "metadata": {
        "colab": {
          "base_uri": "https://localhost:8080/"
        },
        "id": "c2m1mfUkQPOH",
        "outputId": "f71f40cc-01de-4ca4-a5e2-4213b3cfd33d"
      },
      "execution_count": null,
      "outputs": [
        {
          "output_type": "stream",
          "name": "stdout",
          "text": [
            "The factorial of 3 is 6\n"
          ]
        }
      ]
    },
    {
      "cell_type": "markdown",
      "source": [
        "            factorial(3)          # 1st call with 3\n",
        "            3 * factorial(2)      # 2nd call with 2\n",
        "            3 * 2 * factorial(1)  # 3rd call with 1\n",
        "            3 * 2 * 1             # return from 3rd call as number=1\n",
        "            3 * 2                 # return from 2nd call\n",
        "            6                     # return from 1st call"
      ],
      "metadata": {
        "id": "g1q9zGjNQvKx"
      }
    },
    {
      "cell_type": "markdown",
      "source": [
        "# Mathematical Functions:\n",
        "\n",
        "The math module is a standard module in Python and is always available. To use mathematical functions under this module, you have to import the module using import math."
      ],
      "metadata": {
        "id": "cEEYnWGxQ5wY"
      }
    },
    {
      "cell_type": "code",
      "source": [
        "import math"
      ],
      "metadata": {
        "id": "zjBM7H8aRLVR"
      },
      "execution_count": null,
      "outputs": []
    },
    {
      "cell_type": "code",
      "source": [
        "#square root\n",
        "math.sqrt(16)"
      ],
      "metadata": {
        "colab": {
          "base_uri": "https://localhost:8080/"
        },
        "id": "sxgi5auTRTJp",
        "outputId": "9f1b5003-aa75-4a53-8e30-457795ef476c"
      },
      "execution_count": null,
      "outputs": [
        {
          "output_type": "execute_result",
          "data": {
            "text/plain": [
              "4.0"
            ]
          },
          "metadata": {},
          "execution_count": 22
        }
      ]
    },
    {
      "cell_type": "code",
      "source": [
        "#power\n",
        "math.pow(2,3)"
      ],
      "metadata": {
        "colab": {
          "base_uri": "https://localhost:8080/"
        },
        "id": "WcJKMKweRaDU",
        "outputId": "3830a4c7-3e44-4c57-c44d-1e92271656dd"
      },
      "execution_count": null,
      "outputs": [
        {
          "output_type": "execute_result",
          "data": {
            "text/plain": [
              "8.0"
            ]
          },
          "metadata": {},
          "execution_count": 23
        }
      ]
    },
    {
      "cell_type": "code",
      "source": [
        "#factorial\n",
        "math.factorial(4)"
      ],
      "metadata": {
        "colab": {
          "base_uri": "https://localhost:8080/"
        },
        "id": "sFVGK7ZtRpBJ",
        "outputId": "301fc65f-8c28-4fef-b76b-325982c84bc6"
      },
      "execution_count": null,
      "outputs": [
        {
          "output_type": "execute_result",
          "data": {
            "text/plain": [
              "24"
            ]
          },
          "metadata": {},
          "execution_count": 24
        }
      ]
    },
    {
      "cell_type": "code",
      "source": [
        "#value of pi\n",
        "math.pi"
      ],
      "metadata": {
        "colab": {
          "base_uri": "https://localhost:8080/"
        },
        "id": "1GKwcLiOR9fc",
        "outputId": "7fb33c1d-33a7-41d1-b96a-f20ed8906ed7"
      },
      "execution_count": null,
      "outputs": [
        {
          "output_type": "execute_result",
          "data": {
            "text/plain": [
              "3.141592653589793"
            ]
          },
          "metadata": {},
          "execution_count": 26
        }
      ]
    },
    {
      "cell_type": "markdown",
      "source": [
        "# Lambda / Anonymous Function:\n",
        "\n",
        "- a lambda function is a special type of function without the function name\n",
        "- a single line function\n",
        "\n",
        "Syntax:\n",
        "\n",
        "      lambda argument(s) : expression"
      ],
      "metadata": {
        "id": "mAbr6fBzS-jZ"
      }
    },
    {
      "cell_type": "code",
      "source": [
        "greet = lambda name : print('Hey there',name)\n",
        "greet('John')"
      ],
      "metadata": {
        "id": "IrHmY7k6TKcj"
      },
      "execution_count": null,
      "outputs": []
    },
    {
      "cell_type": "code",
      "source": [
        "double = lambda n : n*2\n",
        "\n",
        "double(10)"
      ],
      "metadata": {
        "id": "sBorIFVbTpuX"
      },
      "execution_count": null,
      "outputs": []
    },
    {
      "cell_type": "code",
      "source": [
        "larger = lambda a,b: a if a>b else b\n",
        "\n",
        "larger(10,50)"
      ],
      "metadata": {
        "id": "y6wmXdBjT3uP"
      },
      "execution_count": null,
      "outputs": []
    }
  ]
}