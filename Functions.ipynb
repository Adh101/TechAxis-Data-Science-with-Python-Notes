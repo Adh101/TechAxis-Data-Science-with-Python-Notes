{
  "nbformat": 4,
  "nbformat_minor": 0,
  "metadata": {
    "colab": {
      "provenance": [],
      "authorship_tag": "ABX9TyN3AHXJDej5QaJ52wb9v0ia",
      "include_colab_link": true
    },
    "kernelspec": {
      "name": "python3",
      "display_name": "Python 3"
    },
    "language_info": {
      "name": "python"
    }
  },
  "cells": [
    {
      "cell_type": "markdown",
      "metadata": {
        "id": "view-in-github",
        "colab_type": "text"
      },
      "source": [
        "<a href=\"https://colab.research.google.com/github/Adh101/TechAxis-Data-Science-with-Python-Notes/blob/main/Functions.ipynb\" target=\"_parent\"><img src=\"https://colab.research.google.com/assets/colab-badge.svg\" alt=\"Open In Colab\"/></a>"
      ]
    },
    {
      "cell_type": "code",
      "execution_count": 15,
      "metadata": {
        "colab": {
          "base_uri": "https://localhost:8080/"
        },
        "id": "bNLZoNW4JCfI",
        "outputId": "8b25b10e-4b4a-44d3-f520-e10dcb53eb47"
      },
      "outputs": [
        {
          "output_type": "stream",
          "name": "stdout",
          "text": [
            "Function class\n"
          ]
        }
      ],
      "source": [
        "print(\"Function class\")"
      ]
    },
    {
      "cell_type": "markdown",
      "source": [
        "# Functions\n",
        "\n",
        "\n",
        "*   Functions are reusable piece of code.\n",
        "*   Created for solving specific problem.\n",
        "\n",
        "**Two types of functions:**\n",
        "\n",
        "\n",
        "*   Built-in Functions:\n",
        "        - Fucntions already provided by Python\n",
        "        - print(), range(), min(), max(), etc\n",
        "*   User Defined Functions:\n",
        "        - Functions defined by the users themselves to solve the specific problems.\n",
        "        - Eg: Fuctions to calculate area of a circle , Area_of_circle()\n",
        "\n",
        "\n",
        "**Syntax:**\n",
        "          \n",
        "            def function_name(arguments):\n",
        "                    statement 1\n",
        "                    statement 2\n",
        "                    statement 3\n",
        "                    ...........\n",
        "                    ...........\n",
        "                    return statement\n"
      ],
      "metadata": {
        "id": "acXkwhV_Jcqp"
      }
    },
    {
      "cell_type": "code",
      "source": [
        "#function to calculate area of a circle\n",
        "\n",
        "def area_of_circle(radius):\n",
        "  area = 3.14 * radius * radius\n",
        "  return area"
      ],
      "metadata": {
        "id": "lFN1PfwPLibz"
      },
      "execution_count": 16,
      "outputs": []
    },
    {
      "cell_type": "code",
      "source": [
        "area_of_circle(5)"
      ],
      "metadata": {
        "colab": {
          "base_uri": "https://localhost:8080/"
        },
        "id": "TzxHeCaFL_5N",
        "outputId": "dd75234e-b541-4052-938d-d19fa884de46"
      },
      "execution_count": 18,
      "outputs": [
        {
          "output_type": "execute_result",
          "data": {
            "text/plain": [
              "78.5"
            ]
          },
          "metadata": {},
          "execution_count": 18
        }
      ]
    },
    {
      "cell_type": "code",
      "source": [
        "area_of_circle(10)"
      ],
      "metadata": {
        "colab": {
          "base_uri": "https://localhost:8080/"
        },
        "id": "7oePi5kaaNs9",
        "outputId": "1c769df8-cb65-4e61-f66c-87c7ff1c6577"
      },
      "execution_count": 19,
      "outputs": [
        {
          "output_type": "execute_result",
          "data": {
            "text/plain": [
              "314.0"
            ]
          },
          "metadata": {},
          "execution_count": 19
        }
      ]
    },
    {
      "cell_type": "code",
      "source": [
        "r = float(input(\"Enter radius: \"))\n",
        "print(\"Area of the given circle is : \", area_of_circle(r))"
      ],
      "metadata": {
        "colab": {
          "base_uri": "https://localhost:8080/"
        },
        "id": "JXlqIN6oeU1z",
        "outputId": "902ccff4-5d05-42b3-e850-f3dea561a35c"
      },
      "execution_count": 28,
      "outputs": [
        {
          "output_type": "stream",
          "name": "stdout",
          "text": [
            "Enter radius: 5.5\n",
            "Area of the given circle is :  94.985\n"
          ]
        }
      ]
    },
    {
      "cell_type": "markdown",
      "source": [
        "**Practice Problems:**\n",
        "\n",
        "\n",
        "1.   Create a function that take two numbers as argument and returns the greater number between them.\n",
        "2.   Create a functions that square the given number.\n",
        "\n"
      ],
      "metadata": {
        "id": "uyz6PtMOMle1"
      }
    },
    {
      "cell_type": "code",
      "source": [
        "def compare(a,b):\n",
        "  if(a>b):\n",
        "    greater = a\n",
        "  elif(b==a):\n",
        "    greater =\"Two numbers are equal\"\n",
        "  else:\n",
        "    greater = b\n",
        "  return greater"
      ],
      "metadata": {
        "id": "xE-Oem0ONX0K"
      },
      "execution_count": 8,
      "outputs": []
    },
    {
      "cell_type": "code",
      "source": [
        "compare(10,10)"
      ],
      "metadata": {
        "colab": {
          "base_uri": "https://localhost:8080/",
          "height": 35
        },
        "id": "UU7zX_sFN7aq",
        "outputId": "965d2cb6-ae98-406f-dcaf-409cfcd58124"
      },
      "execution_count": 9,
      "outputs": [
        {
          "output_type": "execute_result",
          "data": {
            "text/plain": [
              "'Two numbers are equal'"
            ],
            "application/vnd.google.colaboratory.intrinsic+json": {
              "type": "string"
            }
          },
          "metadata": {},
          "execution_count": 9
        }
      ]
    },
    {
      "cell_type": "code",
      "source": [
        "compare(50,10)"
      ],
      "metadata": {
        "colab": {
          "base_uri": "https://localhost:8080/"
        },
        "id": "3_73B03dN-Gq",
        "outputId": "3a832242-a0ce-42a5-a7f6-0d5a14c8e3a5"
      },
      "execution_count": 10,
      "outputs": [
        {
          "output_type": "execute_result",
          "data": {
            "text/plain": [
              "50"
            ]
          },
          "metadata": {},
          "execution_count": 10
        }
      ]
    },
    {
      "cell_type": "code",
      "source": [
        "def squared_number(num):\n",
        "  square = num **2\n",
        "  return square"
      ],
      "metadata": {
        "id": "WOLIo4JFO_E8"
      },
      "execution_count": 11,
      "outputs": []
    },
    {
      "cell_type": "code",
      "source": [
        "squared_number(5)"
      ],
      "metadata": {
        "colab": {
          "base_uri": "https://localhost:8080/"
        },
        "id": "I1Pwfn77PI4p",
        "outputId": "1fc66bae-1ac0-4056-9af7-dd63870aac7f"
      },
      "execution_count": 12,
      "outputs": [
        {
          "output_type": "execute_result",
          "data": {
            "text/plain": [
              "25"
            ]
          },
          "metadata": {},
          "execution_count": 12
        }
      ]
    },
    {
      "cell_type": "markdown",
      "source": [
        "**Variable/ Arbitrary Arguemnts in Function**\n",
        " *args"
      ],
      "metadata": {
        "id": "3wRhaaL8fzmY"
      }
    },
    {
      "cell_type": "code",
      "source": [
        "#Arbitrary/ Variable Arguments:\n",
        "def sum_all(*args):\n",
        "  total = 0\n",
        "  for num in args:\n",
        "    total = total + num\n",
        "  return total"
      ],
      "metadata": {
        "id": "kLT48WkuPM1A"
      },
      "execution_count": 21,
      "outputs": []
    },
    {
      "cell_type": "code",
      "source": [
        "sum_all(1,2,3,4,5,6)"
      ],
      "metadata": {
        "colab": {
          "base_uri": "https://localhost:8080/"
        },
        "id": "YpH5AYoIP4Cm",
        "outputId": "fc831b7f-0c57-468a-9533-34909f6c2cb4"
      },
      "execution_count": 22,
      "outputs": [
        {
          "output_type": "execute_result",
          "data": {
            "text/plain": [
              "21"
            ]
          },
          "metadata": {},
          "execution_count": 22
        }
      ]
    },
    {
      "cell_type": "code",
      "source": [
        "sum_all(7,8,9)"
      ],
      "metadata": {
        "colab": {
          "base_uri": "https://localhost:8080/"
        },
        "id": "IevOybF2gUZT",
        "outputId": "44f5a114-4904-488e-974d-510fa248350f"
      },
      "execution_count": 23,
      "outputs": [
        {
          "output_type": "execute_result",
          "data": {
            "text/plain": [
              "24"
            ]
          },
          "metadata": {},
          "execution_count": 23
        }
      ]
    },
    {
      "cell_type": "code",
      "source": [
        "#keyword arguments\n",
        "def number_kwarg(**number):\n",
        "    print('My number is: ' + number['integer'] + 'My other number: ' + number['integer2'])"
      ],
      "metadata": {
        "id": "rVVQLYM_RiNE"
      },
      "execution_count": 26,
      "outputs": []
    },
    {
      "cell_type": "code",
      "source": [
        "number_kwarg(integer = '2309', integer2 = '349')"
      ],
      "metadata": {
        "colab": {
          "base_uri": "https://localhost:8080/"
        },
        "id": "ceTIQ4LuRtOH",
        "outputId": "34df8259-1095-4456-dab1-f0a4df8d601c"
      },
      "execution_count": 27,
      "outputs": [
        {
          "output_type": "stream",
          "name": "stdout",
          "text": [
            "My number is: 2309My other number: 349\n"
          ]
        }
      ]
    },
    {
      "cell_type": "code",
      "source": [
        "def display_info(**kwargs):\n",
        "    for key, value in kwargs.items():\n",
        "        print(f\"{key}: {value}\")"
      ],
      "metadata": {
        "id": "1Fh9uqNbRq73"
      },
      "execution_count": 24,
      "outputs": []
    },
    {
      "cell_type": "code",
      "source": [
        "display_info(name=\"Alice\", age=30, city=\"New York\")"
      ],
      "metadata": {
        "colab": {
          "base_uri": "https://localhost:8080/"
        },
        "id": "7sy2k0KhR4Lp",
        "outputId": "b344853c-e3b6-4475-eb20-bd1a370aa848"
      },
      "execution_count": 25,
      "outputs": [
        {
          "output_type": "stream",
          "name": "stdout",
          "text": [
            "name: Alice\n",
            "age: 30\n",
            "city: New York\n"
          ]
        }
      ]
    }
  ]
}