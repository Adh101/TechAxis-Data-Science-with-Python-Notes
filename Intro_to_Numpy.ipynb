{
  "nbformat": 4,
  "nbformat_minor": 0,
  "metadata": {
    "colab": {
      "provenance": [],
      "authorship_tag": "ABX9TyMsIL5fu5DtGTtcK+x4oGSA",
      "include_colab_link": true
    },
    "kernelspec": {
      "name": "python3",
      "display_name": "Python 3"
    },
    "language_info": {
      "name": "python"
    }
  },
  "cells": [
    {
      "cell_type": "markdown",
      "metadata": {
        "id": "view-in-github",
        "colab_type": "text"
      },
      "source": [
        "<a href=\"https://colab.research.google.com/github/Adh101/TechAxis-Data-Science-with-Python-Notes/blob/main/Intro_to_Numpy.ipynb\" target=\"_parent\"><img src=\"https://colab.research.google.com/assets/colab-badge.svg\" alt=\"Open In Colab\"/></a>"
      ]
    },
    {
      "cell_type": "markdown",
      "source": [
        "# **Introduction to Numpy**\n",
        "\n",
        "Numpy, short for Numerical Python, is a powerful Python library that enables efficient and convenient array manipulation and mathematical operations. It forms the foundation for many scientific and data-related tasks."
      ],
      "metadata": {
        "id": "ecSk9PIAW0pa"
      }
    },
    {
      "cell_type": "code",
      "source": [
        "pip install numpy"
      ],
      "metadata": {
        "colab": {
          "base_uri": "https://localhost:8080/"
        },
        "id": "HAnG0RTVHfmz",
        "outputId": "4402a46b-c4c4-4b6f-d68b-2bf362666f95"
      },
      "execution_count": 1,
      "outputs": [
        {
          "output_type": "stream",
          "name": "stdout",
          "text": [
            "Requirement already satisfied: numpy in /usr/local/lib/python3.10/dist-packages (1.23.5)\n"
          ]
        }
      ]
    },
    {
      "cell_type": "markdown",
      "source": [
        "**Importing numpy:**"
      ],
      "metadata": {
        "id": "DYBCynKxXUx_"
      }
    },
    {
      "cell_type": "code",
      "source": [
        "import numpy as np"
      ],
      "metadata": {
        "id": "SRvAPTwXXX6p"
      },
      "execution_count": 2,
      "outputs": []
    },
    {
      "cell_type": "markdown",
      "source": [
        "**Creating arrays:**\n",
        "\n",
        "Arrays are the building blocks of Numpy, and they can be thought of as lists but with enhanced features.\n",
        "\n",
        "You can create arrays filled with zeros, ones, or any constant using np.zeros(), np.ones(), and np.full():"
      ],
      "metadata": {
        "id": "yP8nHOo2Xp8J"
      }
    },
    {
      "cell_type": "code",
      "source": [
        "zero_arrays = np.zeros(10)\n",
        "zero_arrays"
      ],
      "metadata": {
        "colab": {
          "base_uri": "https://localhost:8080/"
        },
        "id": "Eg8Z0ICnYDoa",
        "outputId": "418b27b0-2c08-4f2f-e871-612bd29fe1b1"
      },
      "execution_count": null,
      "outputs": [
        {
          "output_type": "execute_result",
          "data": {
            "text/plain": [
              "array([0., 0., 0., 0., 0., 0., 0., 0., 0., 0.])"
            ]
          },
          "metadata": {},
          "execution_count": 3
        }
      ]
    },
    {
      "cell_type": "code",
      "source": [
        "ones_arrays = np.ones(10)\n",
        "ones_arrays"
      ],
      "metadata": {
        "colab": {
          "base_uri": "https://localhost:8080/"
        },
        "id": "bpO_YntTYeot",
        "outputId": "02df31b5-86ed-47de-c13d-edeab4dde462"
      },
      "execution_count": null,
      "outputs": [
        {
          "output_type": "execute_result",
          "data": {
            "text/plain": [
              "array([1., 1., 1., 1., 1., 1., 1., 1., 1., 1.])"
            ]
          },
          "metadata": {},
          "execution_count": 4
        }
      ]
    },
    {
      "cell_type": "code",
      "source": [
        "full_arrays = np.full(10,3)\n",
        "full_arrays"
      ],
      "metadata": {
        "colab": {
          "base_uri": "https://localhost:8080/"
        },
        "id": "APtJ19T_Ykmx",
        "outputId": "af0f1cd1-4aa7-493b-c24f-4b5006e0f93b"
      },
      "execution_count": null,
      "outputs": [
        {
          "output_type": "execute_result",
          "data": {
            "text/plain": [
              "array([3, 3, 3, 3, 3, 3, 3, 3, 3, 3])"
            ]
          },
          "metadata": {},
          "execution_count": 5
        }
      ]
    },
    {
      "cell_type": "markdown",
      "source": [
        "**Converting List to Arrays:**\n",
        "\n",
        "To convert a Python list into a Numpy array, you can use np.array():"
      ],
      "metadata": {
        "id": "IteupV37YyWM"
      }
    },
    {
      "cell_type": "code",
      "source": [
        "my_list = [1,2,3,4]\n",
        "array_from_list = np.array(my_list)\n",
        "array_from_list"
      ],
      "metadata": {
        "colab": {
          "base_uri": "https://localhost:8080/"
        },
        "id": "oj-SLyvXY51F",
        "outputId": "5dedc754-c7a3-41c7-e5e6-cf58da0de3ba"
      },
      "execution_count": 7,
      "outputs": [
        {
          "output_type": "execute_result",
          "data": {
            "text/plain": [
              "array([1, 2, 3, 4])"
            ]
          },
          "metadata": {},
          "execution_count": 7
        }
      ]
    },
    {
      "cell_type": "code",
      "source": [
        "#accessing the array values\n",
        "array_from_list[0]"
      ],
      "metadata": {
        "colab": {
          "base_uri": "https://localhost:8080/"
        },
        "id": "BEUoTKZ_ZVa-",
        "outputId": "289a8c5c-ad12-4a42-bd9f-4c48255fa20f"
      },
      "execution_count": 8,
      "outputs": [
        {
          "output_type": "execute_result",
          "data": {
            "text/plain": [
              "1"
            ]
          },
          "metadata": {},
          "execution_count": 8
        }
      ]
    },
    {
      "cell_type": "code",
      "source": [
        "array_from_list[2]"
      ],
      "metadata": {
        "colab": {
          "base_uri": "https://localhost:8080/"
        },
        "id": "AprmPT5nZaKX",
        "outputId": "2ae841c6-7363-4eab-bbeb-2e168201f008"
      },
      "execution_count": 9,
      "outputs": [
        {
          "output_type": "execute_result",
          "data": {
            "text/plain": [
              "3"
            ]
          },
          "metadata": {},
          "execution_count": 9
        }
      ]
    },
    {
      "cell_type": "code",
      "source": [
        "#modifying the values\n",
        "array_from_list[2] = 10\n",
        "array_from_list"
      ],
      "metadata": {
        "colab": {
          "base_uri": "https://localhost:8080/"
        },
        "id": "9An8GO25ZmMr",
        "outputId": "14ca3c8e-5907-4837-d29c-0488863a86cb"
      },
      "execution_count": 10,
      "outputs": [
        {
          "output_type": "execute_result",
          "data": {
            "text/plain": [
              "array([ 1,  2, 10,  4])"
            ]
          },
          "metadata": {},
          "execution_count": 10
        }
      ]
    },
    {
      "cell_type": "code",
      "source": [
        "a =[\"ram\",\"hari\",\"shyam\"]\n",
        "array_a = np.array(a)\n",
        "array_a"
      ],
      "metadata": {
        "colab": {
          "base_uri": "https://localhost:8080/"
        },
        "id": "01vchK9nKJIK",
        "outputId": "48a993e2-8193-4a07-d31f-e47f1753ad0f"
      },
      "execution_count": 3,
      "outputs": [
        {
          "output_type": "execute_result",
          "data": {
            "text/plain": [
              "array(['ram', 'hari', 'shyam'], dtype='<U5')"
            ]
          },
          "metadata": {},
          "execution_count": 3
        }
      ]
    },
    {
      "cell_type": "code",
      "source": [
        "a[2]=10\n",
        "array_a"
      ],
      "metadata": {
        "colab": {
          "base_uri": "https://localhost:8080/"
        },
        "id": "xhqhbARkKV_a",
        "outputId": "ef8125c1-fda7-421f-f07f-8b58499b0bcb"
      },
      "execution_count": 5,
      "outputs": [
        {
          "output_type": "execute_result",
          "data": {
            "text/plain": [
              "array(['ram', 'hari', 'shyam'], dtype='<U5')"
            ]
          },
          "metadata": {},
          "execution_count": 5
        }
      ]
    },
    {
      "cell_type": "code",
      "source": [
        "array_from_list[3] = 'Shyam'"
      ],
      "metadata": {
        "colab": {
          "base_uri": "https://localhost:8080/",
          "height": 179
        },
        "id": "4lqBfwPRKmOs",
        "outputId": "ec6f5450-b414-4483-c75f-cb16566844c1"
      },
      "execution_count": 11,
      "outputs": [
        {
          "output_type": "error",
          "ename": "ValueError",
          "evalue": "ignored",
          "traceback": [
            "\u001b[0;31m---------------------------------------------------------------------------\u001b[0m",
            "\u001b[0;31mValueError\u001b[0m                                Traceback (most recent call last)",
            "\u001b[0;32m<ipython-input-11-474f6ae239db>\u001b[0m in \u001b[0;36m<cell line: 1>\u001b[0;34m()\u001b[0m\n\u001b[0;32m----> 1\u001b[0;31m \u001b[0marray_from_list\u001b[0m\u001b[0;34m[\u001b[0m\u001b[0;36m3\u001b[0m\u001b[0;34m]\u001b[0m \u001b[0;34m=\u001b[0m \u001b[0;34m'Shyam'\u001b[0m\u001b[0;34m\u001b[0m\u001b[0;34m\u001b[0m\u001b[0m\n\u001b[0m",
            "\u001b[0;31mValueError\u001b[0m: invalid literal for int() with base 10: 'Shyam'"
          ]
        }
      ]
    },
    {
      "cell_type": "markdown",
      "source": [
        "**Generating ranges of numbers to create array:**\n",
        "\n"
      ],
      "metadata": {
        "id": "nxmZhFEMZ8cY"
      }
    },
    {
      "cell_type": "code",
      "source": [
        "range_array = np.arange(10) #create an array from 0 to 9\n",
        "range_array"
      ],
      "metadata": {
        "colab": {
          "base_uri": "https://localhost:8080/"
        },
        "id": "rMKPaMNJaF5H",
        "outputId": "c2037f5f-09a1-4226-8608-13ba1d48b037"
      },
      "execution_count": null,
      "outputs": [
        {
          "output_type": "execute_result",
          "data": {
            "text/plain": [
              "array([0, 1, 2, 3, 4, 5, 6, 7, 8, 9])"
            ]
          },
          "metadata": {},
          "execution_count": 13
        }
      ]
    },
    {
      "cell_type": "code",
      "source": [
        "np.arange(3,15,2) #start,end, step"
      ],
      "metadata": {
        "id": "Y4Ci4z13akzt",
        "colab": {
          "base_uri": "https://localhost:8080/"
        },
        "outputId": "7cfaaa29-ef5d-467e-f7f9-78deed61eead"
      },
      "execution_count": null,
      "outputs": [
        {
          "output_type": "execute_result",
          "data": {
            "text/plain": [
              "array([ 3,  5,  7,  9, 11, 13])"
            ]
          },
          "metadata": {},
          "execution_count": 15
        }
      ]
    },
    {
      "cell_type": "markdown",
      "source": [
        "**Creating arrays with linear spacing:**\n",
        "\n",
        "np.linspace() creates arrays with evenly spaced numbers within a specified range:"
      ],
      "metadata": {
        "id": "kFOCbr5mbnvm"
      }
    },
    {
      "cell_type": "code",
      "source": [
        "np.linspace(0,1,11) #creates 11 numbers in aa"
      ],
      "metadata": {
        "colab": {
          "base_uri": "https://localhost:8080/"
        },
        "id": "ldz_XP2lb1Lv",
        "outputId": "9c6c421a-bad0-4aa5-bb99-19be63159dbf"
      },
      "execution_count": null,
      "outputs": [
        {
          "output_type": "execute_result",
          "data": {
            "text/plain": [
              "array([0. , 0.1, 0.2, 0.3, 0.4, 0.5, 0.6, 0.7, 0.8, 0.9, 1. ])"
            ]
          },
          "metadata": {},
          "execution_count": 16
        }
      ]
    },
    {
      "cell_type": "code",
      "source": [
        "np.linspace(10,20,20)"
      ],
      "metadata": {
        "colab": {
          "base_uri": "https://localhost:8080/"
        },
        "id": "U1iFqcCYMp41",
        "outputId": "d6e511a6-8d00-4a4f-eda4-f42d3136591d"
      },
      "execution_count": 12,
      "outputs": [
        {
          "output_type": "execute_result",
          "data": {
            "text/plain": [
              "array([10.        , 10.52631579, 11.05263158, 11.57894737, 12.10526316,\n",
              "       12.63157895, 13.15789474, 13.68421053, 14.21052632, 14.73684211,\n",
              "       15.26315789, 15.78947368, 16.31578947, 16.84210526, 17.36842105,\n",
              "       17.89473684, 18.42105263, 18.94736842, 19.47368421, 20.        ])"
            ]
          },
          "metadata": {},
          "execution_count": 12
        }
      ]
    },
    {
      "cell_type": "markdown",
      "source": [
        "# Multidimensional Array:\n",
        "- It is also called matrices.\n",
        "- We define rows and columns to create the matrices."
      ],
      "metadata": {
        "id": "3xV_Zu3g-KMa"
      }
    },
    {
      "cell_type": "code",
      "source": [
        "zeros_matrix = np.zeros((5,2)) #np.zeros((rows,columns))\n",
        "zeros_matrix"
      ],
      "metadata": {
        "colab": {
          "base_uri": "https://localhost:8080/"
        },
        "id": "Dd3fG5Oe--qe",
        "outputId": "e34f2a8a-a604-47ec-c065-b1a04e665f17"
      },
      "execution_count": null,
      "outputs": [
        {
          "output_type": "execute_result",
          "data": {
            "text/plain": [
              "array([[0., 0.],\n",
              "       [0., 0.],\n",
              "       [0., 0.],\n",
              "       [0., 0.],\n",
              "       [0., 0.]])"
            ]
          },
          "metadata": {},
          "execution_count": 3
        }
      ]
    },
    {
      "cell_type": "code",
      "source": [
        "ones_matrix = np.ones((5,2)) #np.ones((rows,cols))\n",
        "ones_matrix"
      ],
      "metadata": {
        "colab": {
          "base_uri": "https://localhost:8080/"
        },
        "id": "Hcdfaq7c_Vns",
        "outputId": "2f9734f2-3f0b-4994-b262-82821ab2bd71"
      },
      "execution_count": null,
      "outputs": [
        {
          "output_type": "execute_result",
          "data": {
            "text/plain": [
              "array([[1., 1.],\n",
              "       [1., 1.],\n",
              "       [1., 1.],\n",
              "       [1., 1.],\n",
              "       [1., 1.]])"
            ]
          },
          "metadata": {},
          "execution_count": 4
        }
      ]
    },
    {
      "cell_type": "code",
      "source": [
        "constant_matrix = np.full((5,2),3) #np.full((rows,cols),value)\n",
        "constant_matrix"
      ],
      "metadata": {
        "colab": {
          "base_uri": "https://localhost:8080/"
        },
        "id": "HW5xt3ht_dnB",
        "outputId": "73352727-39e2-4069-d515-361e1bcb6df5"
      },
      "execution_count": null,
      "outputs": [
        {
          "output_type": "execute_result",
          "data": {
            "text/plain": [
              "array([[3, 3],\n",
              "       [3, 3],\n",
              "       [3, 3],\n",
              "       [3, 3],\n",
              "       [3, 3]])"
            ]
          },
          "metadata": {},
          "execution_count": 5
        }
      ]
    },
    {
      "cell_type": "code",
      "source": [
        "#lists to array\n",
        "n = np.array([\n",
        "              [1,2,3],\n",
        "              [4,5,6],\n",
        "              [7,8,9]\n",
        "])\n",
        "n"
      ],
      "metadata": {
        "colab": {
          "base_uri": "https://localhost:8080/"
        },
        "id": "4aFm4XgJ_sVs",
        "outputId": "2613f52e-49b9-4e06-d590-4c2b71252d99"
      },
      "execution_count": null,
      "outputs": [
        {
          "output_type": "execute_result",
          "data": {
            "text/plain": [
              "array([[1, 2, 3],\n",
              "       [4, 5, 6],\n",
              "       [7, 8, 9]])"
            ]
          },
          "metadata": {},
          "execution_count": 7
        }
      ]
    },
    {
      "cell_type": "code",
      "source": [
        "#accessing the contents\n",
        "n[0,1] #access 2"
      ],
      "metadata": {
        "colab": {
          "base_uri": "https://localhost:8080/"
        },
        "id": "LaGpCSIi_9kt",
        "outputId": "3068f68d-47e0-49c1-a053-0c3a77e85f2f"
      },
      "execution_count": null,
      "outputs": [
        {
          "output_type": "execute_result",
          "data": {
            "text/plain": [
              "2"
            ]
          },
          "metadata": {},
          "execution_count": 9
        }
      ]
    },
    {
      "cell_type": "code",
      "source": [
        "n[2,1]"
      ],
      "metadata": {
        "colab": {
          "base_uri": "https://localhost:8080/"
        },
        "id": "6C0KyLovAG9O",
        "outputId": "e53c6f67-29f4-4371-c63e-c637638865bc"
      },
      "execution_count": null,
      "outputs": [
        {
          "output_type": "execute_result",
          "data": {
            "text/plain": [
              "8"
            ]
          },
          "metadata": {},
          "execution_count": 10
        }
      ]
    },
    {
      "cell_type": "code",
      "source": [
        "n[1,1] = 20 #changes values 5 to 20\n",
        "n"
      ],
      "metadata": {
        "colab": {
          "base_uri": "https://localhost:8080/"
        },
        "id": "59V1edWrALQe",
        "outputId": "f2936a60-77a3-4602-f9ca-e84fd8cab304"
      },
      "execution_count": null,
      "outputs": [
        {
          "output_type": "execute_result",
          "data": {
            "text/plain": [
              "array([[ 1,  2,  3],\n",
              "       [ 4, 20,  6],\n",
              "       [ 7,  8,  9]])"
            ]
          },
          "metadata": {},
          "execution_count": 13
        }
      ]
    },
    {
      "cell_type": "code",
      "source": [
        "n[2] = [1,1,1] #changes the entire last row\n",
        "n"
      ],
      "metadata": {
        "colab": {
          "base_uri": "https://localhost:8080/"
        },
        "id": "PKVrhbzKAeVG",
        "outputId": "165ce76e-e39b-4870-c450-3c4b2fbdfc38"
      },
      "execution_count": null,
      "outputs": [
        {
          "output_type": "execute_result",
          "data": {
            "text/plain": [
              "array([[ 1,  2,  3],\n",
              "       [ 4, 20,  6],\n",
              "       [ 1,  1,  1]])"
            ]
          },
          "metadata": {},
          "execution_count": 15
        }
      ]
    },
    {
      "cell_type": "code",
      "source": [
        "n[:,2] = [1,1,1] #changes the entire last columns\n",
        "n"
      ],
      "metadata": {
        "colab": {
          "base_uri": "https://localhost:8080/"
        },
        "id": "ci-QTt0bAo4T",
        "outputId": "18875e9f-65e0-4883-d319-7b244f10a1b2"
      },
      "execution_count": null,
      "outputs": [
        {
          "output_type": "execute_result",
          "data": {
            "text/plain": [
              "array([[ 1,  2,  1],\n",
              "       [ 4, 20,  1],\n",
              "       [ 1,  1,  1]])"
            ]
          },
          "metadata": {},
          "execution_count": 17
        }
      ]
    },
    {
      "cell_type": "code",
      "source": [
        "arr = np.array([[2, 3, 4], [4, 5, 6]])\n",
        "first_row = arr[0]      # Gets the first row\n",
        "first_col = arr[:, 0]  # Gets the first column"
      ],
      "metadata": {
        "id": "viAWUXuQA2SG"
      },
      "execution_count": 13,
      "outputs": []
    },
    {
      "cell_type": "markdown",
      "source": [
        "**Randomly Generated Arrays:**"
      ],
      "metadata": {
        "id": "e5QomozaBHL5"
      }
    },
    {
      "cell_type": "code",
      "source": [
        "np.random.rand(5,2) #creates random arrays everytime we run it"
      ],
      "metadata": {
        "colab": {
          "base_uri": "https://localhost:8080/"
        },
        "id": "N5CvJKtfCK3o",
        "outputId": "724b8c95-4002-4aa8-bc8e-8a4b572d35e6"
      },
      "execution_count": null,
      "outputs": [
        {
          "output_type": "execute_result",
          "data": {
            "text/plain": [
              "array([[0.9774341 , 0.86138595],\n",
              "       [0.5423782 , 0.37730607],\n",
              "       [0.04033074, 0.74916968],\n",
              "       [0.84812808, 0.63962564],\n",
              "       [0.84970436, 0.13805064]])"
            ]
          },
          "metadata": {},
          "execution_count": 22
        }
      ]
    },
    {
      "cell_type": "code",
      "source": [
        "#to create same array\n",
        "np.random.seed(2)\n",
        "np.random.rand(5,2)"
      ],
      "metadata": {
        "colab": {
          "base_uri": "https://localhost:8080/"
        },
        "id": "V9xrCTAxCS3I",
        "outputId": "0ae1debc-67f6-4fe1-9dc4-70bb53fbbc41"
      },
      "execution_count": null,
      "outputs": [
        {
          "output_type": "execute_result",
          "data": {
            "text/plain": [
              "array([[0.4359949 , 0.02592623],\n",
              "       [0.54966248, 0.43532239],\n",
              "       [0.4203678 , 0.33033482],\n",
              "       [0.20464863, 0.61927097],\n",
              "       [0.29965467, 0.26682728]])"
            ]
          },
          "metadata": {},
          "execution_count": 25
        }
      ]
    },
    {
      "cell_type": "code",
      "source": [
        "# for arrays with normal distribution\n",
        "np.random.seed(10)\n",
        "np.random.randn(5,2)"
      ],
      "metadata": {
        "colab": {
          "base_uri": "https://localhost:8080/"
        },
        "id": "MZixUFjbC5Hz",
        "outputId": "e5438451-c3c0-4f5a-fd96-a66619af9c58"
      },
      "execution_count": null,
      "outputs": [
        {
          "output_type": "execute_result",
          "data": {
            "text/plain": [
              "array([[ 1.3315865 ,  0.71527897],\n",
              "       [-1.54540029, -0.00838385],\n",
              "       [ 0.62133597, -0.72008556],\n",
              "       [ 0.26551159,  0.10854853],\n",
              "       [ 0.00429143, -0.17460021]])"
            ]
          },
          "metadata": {},
          "execution_count": 27
        }
      ]
    },
    {
      "cell_type": "code",
      "source": [
        "#for arrays with integer values\n",
        "np.random.seed(10)\n",
        "np.random.randint(low = 0, high = 100, size=(5,2))"
      ],
      "metadata": {
        "colab": {
          "base_uri": "https://localhost:8080/"
        },
        "id": "l3jb_dAGDCSZ",
        "outputId": "147f30d0-1ce8-4172-bd9e-521e2dc51915"
      },
      "execution_count": null,
      "outputs": [
        {
          "output_type": "execute_result",
          "data": {
            "text/plain": [
              "array([[ 9, 15],\n",
              "       [64, 28],\n",
              "       [89, 93],\n",
              "       [29,  8],\n",
              "       [73,  0]])"
            ]
          },
          "metadata": {},
          "execution_count": 28
        }
      ]
    },
    {
      "cell_type": "markdown",
      "source": [
        "# Array Operations:"
      ],
      "metadata": {
        "id": "DD47k-suDuLw"
      }
    },
    {
      "cell_type": "markdown",
      "source": [
        "**1. Element wise Operations:**"
      ],
      "metadata": {
        "id": "9FYYd9CFD3dJ"
      }
    },
    {
      "cell_type": "code",
      "source": [
        "a = np.arange(5)\n",
        "a"
      ],
      "metadata": {
        "colab": {
          "base_uri": "https://localhost:8080/"
        },
        "id": "E6scljagEYTg",
        "outputId": "7c50b065-6192-46af-8096-efd24049f1ce"
      },
      "execution_count": null,
      "outputs": [
        {
          "output_type": "execute_result",
          "data": {
            "text/plain": [
              "array([0, 1, 2, 3, 4])"
            ]
          },
          "metadata": {},
          "execution_count": 37
        }
      ]
    },
    {
      "cell_type": "code",
      "source": [
        "a = a + 10 #addition\n",
        "a"
      ],
      "metadata": {
        "colab": {
          "base_uri": "https://localhost:8080/"
        },
        "id": "VQtnlnH7E8jk",
        "outputId": "302ba33a-4a82-4fb5-9ea6-6e143d835785"
      },
      "execution_count": null,
      "outputs": [
        {
          "output_type": "execute_result",
          "data": {
            "text/plain": [
              "array([10, 11, 12, 13, 14])"
            ]
          },
          "metadata": {},
          "execution_count": 38
        }
      ]
    },
    {
      "cell_type": "code",
      "source": [
        "a = a - 10 #subtraction\n",
        "a"
      ],
      "metadata": {
        "colab": {
          "base_uri": "https://localhost:8080/"
        },
        "id": "-qFo0vBJFBHP",
        "outputId": "ae3f6bc9-3b8d-44f8-f4d7-35d0c8942399"
      },
      "execution_count": null,
      "outputs": [
        {
          "output_type": "execute_result",
          "data": {
            "text/plain": [
              "array([0, 1, 2, 3, 4])"
            ]
          },
          "metadata": {},
          "execution_count": 39
        }
      ]
    },
    {
      "cell_type": "code",
      "source": [
        "a = a * 5 #multiplication\n",
        "a"
      ],
      "metadata": {
        "colab": {
          "base_uri": "https://localhost:8080/"
        },
        "id": "aqjzxUUiFEwu",
        "outputId": "5f95c0d3-e7de-4d87-c1e3-d14336ad6519"
      },
      "execution_count": null,
      "outputs": [
        {
          "output_type": "execute_result",
          "data": {
            "text/plain": [
              "array([ 0,  5, 10, 15, 20])"
            ]
          },
          "metadata": {},
          "execution_count": 40
        }
      ]
    },
    {
      "cell_type": "code",
      "source": [
        "b = np.arange(5)\n",
        "b"
      ],
      "metadata": {
        "colab": {
          "base_uri": "https://localhost:8080/"
        },
        "id": "kqePTx79FgrU",
        "outputId": "d04c6ea3-1d92-4f39-d7d9-7e765b8c7cc8"
      },
      "execution_count": null,
      "outputs": [
        {
          "output_type": "execute_result",
          "data": {
            "text/plain": [
              "array([0, 1, 2, 3, 4])"
            ]
          },
          "metadata": {},
          "execution_count": 44
        }
      ]
    },
    {
      "cell_type": "code",
      "source": [
        "a+b #two arrays addition"
      ],
      "metadata": {
        "colab": {
          "base_uri": "https://localhost:8080/"
        },
        "id": "fjykeq6UFptM",
        "outputId": "044a59bb-f77b-49dc-eaf7-32b910f00d08"
      },
      "execution_count": null,
      "outputs": [
        {
          "output_type": "execute_result",
          "data": {
            "text/plain": [
              "array([ 0,  6, 12, 18, 24])"
            ]
          },
          "metadata": {},
          "execution_count": 47
        }
      ]
    },
    {
      "cell_type": "code",
      "source": [
        "arr1 = np.ones(4)\n",
        "arr2 = np.full(4, 3)\n",
        "result1 = arr1 + arr2  # Element-wise addition\n",
        "result2 = arr1 / arr2  # Element-wise division"
      ],
      "metadata": {
        "id": "u8fVCM9AGjsL"
      },
      "execution_count": null,
      "outputs": []
    },
    {
      "cell_type": "code",
      "source": [
        "result1"
      ],
      "metadata": {
        "colab": {
          "base_uri": "https://localhost:8080/"
        },
        "id": "eG63y5-qGmos",
        "outputId": "b6776436-22fa-4897-8135-b1945420de42"
      },
      "execution_count": null,
      "outputs": [
        {
          "output_type": "execute_result",
          "data": {
            "text/plain": [
              "array([4., 4., 4., 4.])"
            ]
          },
          "metadata": {},
          "execution_count": 49
        }
      ]
    },
    {
      "cell_type": "code",
      "source": [
        "result2"
      ],
      "metadata": {
        "colab": {
          "base_uri": "https://localhost:8080/"
        },
        "id": "ZujcFOuIGo97",
        "outputId": "3255f142-8fb2-4234-cc3b-370953bc80f3"
      },
      "execution_count": null,
      "outputs": [
        {
          "output_type": "execute_result",
          "data": {
            "text/plain": [
              "array([0.33333333, 0.33333333, 0.33333333, 0.33333333])"
            ]
          },
          "metadata": {},
          "execution_count": 51
        }
      ]
    },
    {
      "cell_type": "markdown",
      "source": [
        "2. **Comparision Operations:**"
      ],
      "metadata": {
        "id": "1FSH8A9vHMBi"
      }
    },
    {
      "cell_type": "code",
      "source": [
        "a"
      ],
      "metadata": {
        "colab": {
          "base_uri": "https://localhost:8080/"
        },
        "id": "KL1XE3CWHTG_",
        "outputId": "49f4b943-da0d-4278-daac-eeaaff46db24"
      },
      "execution_count": null,
      "outputs": [
        {
          "output_type": "execute_result",
          "data": {
            "text/plain": [
              "array([ 0,  5, 10, 15, 20])"
            ]
          },
          "metadata": {},
          "execution_count": 52
        }
      ]
    },
    {
      "cell_type": "code",
      "source": [
        "a > 5"
      ],
      "metadata": {
        "colab": {
          "base_uri": "https://localhost:8080/"
        },
        "id": "p4HDxfFtHUrQ",
        "outputId": "7188086c-29b1-4f2a-a89f-84ca6d527092"
      },
      "execution_count": null,
      "outputs": [
        {
          "output_type": "execute_result",
          "data": {
            "text/plain": [
              "array([False, False,  True,  True,  True])"
            ]
          },
          "metadata": {},
          "execution_count": 53
        }
      ]
    },
    {
      "cell_type": "code",
      "source": [
        "a <= 10"
      ],
      "metadata": {
        "colab": {
          "base_uri": "https://localhost:8080/"
        },
        "id": "mNhGUlzGHW1D",
        "outputId": "a81490bd-52af-4d38-d667-885c00a1ddd6"
      },
      "execution_count": null,
      "outputs": [
        {
          "output_type": "execute_result",
          "data": {
            "text/plain": [
              "array([ True,  True,  True, False, False])"
            ]
          },
          "metadata": {},
          "execution_count": 54
        }
      ]
    },
    {
      "cell_type": "code",
      "source": [
        "selected_elements = a[a<=10] #select the elements satisfying the condition\n",
        "selected_elements"
      ],
      "metadata": {
        "colab": {
          "base_uri": "https://localhost:8080/"
        },
        "id": "M20eDoSMHdIK",
        "outputId": "ae848082-b684-43e7-cfc7-15b5ee0f2334"
      },
      "execution_count": null,
      "outputs": [
        {
          "output_type": "execute_result",
          "data": {
            "text/plain": [
              "array([ 0,  5, 10])"
            ]
          },
          "metadata": {},
          "execution_count": 57
        }
      ]
    },
    {
      "cell_type": "markdown",
      "source": [
        "**3. Summarizing Operations:**"
      ],
      "metadata": {
        "id": "BXSNBaRyH8fe"
      }
    },
    {
      "cell_type": "code",
      "source": [
        "arr"
      ],
      "metadata": {
        "colab": {
          "base_uri": "https://localhost:8080/"
        },
        "id": "5GGkCa0XINZh",
        "outputId": "a03e6cd7-9f32-43f9-d272-4054bc8c38ff"
      },
      "execution_count": null,
      "outputs": [
        {
          "output_type": "execute_result",
          "data": {
            "text/plain": [
              "array([[2, 3, 4],\n",
              "       [4, 5, 6]])"
            ]
          },
          "metadata": {},
          "execution_count": 58
        }
      ]
    },
    {
      "cell_type": "code",
      "source": [
        "arr.min()"
      ],
      "metadata": {
        "colab": {
          "base_uri": "https://localhost:8080/"
        },
        "id": "b86s9Hf9IRi5",
        "outputId": "37de122d-3259-437e-b5f0-a723bae8cb14"
      },
      "execution_count": null,
      "outputs": [
        {
          "output_type": "execute_result",
          "data": {
            "text/plain": [
              "2"
            ]
          },
          "metadata": {},
          "execution_count": 59
        }
      ]
    },
    {
      "cell_type": "code",
      "source": [
        "arr.max()"
      ],
      "metadata": {
        "colab": {
          "base_uri": "https://localhost:8080/"
        },
        "id": "JJ1wMTo6IT20",
        "outputId": "194eb9dd-f455-47db-8aa7-f899f9206661"
      },
      "execution_count": null,
      "outputs": [
        {
          "output_type": "execute_result",
          "data": {
            "text/plain": [
              "6"
            ]
          },
          "metadata": {},
          "execution_count": 60
        }
      ]
    },
    {
      "cell_type": "code",
      "source": [
        "arr.mean()"
      ],
      "metadata": {
        "colab": {
          "base_uri": "https://localhost:8080/"
        },
        "id": "04t7AFLAIVcp",
        "outputId": "386fc476-8550-4d2b-8e60-cf8e7840a62f"
      },
      "execution_count": null,
      "outputs": [
        {
          "output_type": "execute_result",
          "data": {
            "text/plain": [
              "4.0"
            ]
          },
          "metadata": {},
          "execution_count": 61
        }
      ]
    },
    {
      "cell_type": "code",
      "source": [
        "arr.std()"
      ],
      "metadata": {
        "colab": {
          "base_uri": "https://localhost:8080/"
        },
        "id": "cPJpnpi9IXgs",
        "outputId": "230d6b0e-0a22-4371-f8ec-1048993754ab"
      },
      "execution_count": null,
      "outputs": [
        {
          "output_type": "execute_result",
          "data": {
            "text/plain": [
              "1.2909944487358056"
            ]
          },
          "metadata": {},
          "execution_count": 62
        }
      ]
    },
    {
      "cell_type": "code",
      "source": [
        "arr.sum()"
      ],
      "metadata": {
        "colab": {
          "base_uri": "https://localhost:8080/"
        },
        "id": "5QStdl7mIa9y",
        "outputId": "ee862482-9b6b-4c7d-dea7-0c5d02069ea9"
      },
      "execution_count": null,
      "outputs": [
        {
          "output_type": "execute_result",
          "data": {
            "text/plain": [
              "24"
            ]
          },
          "metadata": {},
          "execution_count": 63
        }
      ]
    },
    {
      "cell_type": "code",
      "source": [
        "np.corrcoef(arr)"
      ],
      "metadata": {
        "colab": {
          "base_uri": "https://localhost:8080/"
        },
        "id": "SoHP121OIc3Z",
        "outputId": "fe225160-3f3b-44b3-b81d-8946a6692e7e"
      },
      "execution_count": null,
      "outputs": [
        {
          "output_type": "execute_result",
          "data": {
            "text/plain": [
              "array([[1., 1.],\n",
              "       [1., 1.]])"
            ]
          },
          "metadata": {},
          "execution_count": 65
        }
      ]
    },
    {
      "cell_type": "code",
      "source": [
        "np.median(arr)"
      ],
      "metadata": {
        "colab": {
          "base_uri": "https://localhost:8080/"
        },
        "id": "qzpIOWfTJOHh",
        "outputId": "e1d94b5c-c3fe-49f8-deeb-9112a3e5028f"
      },
      "execution_count": null,
      "outputs": [
        {
          "output_type": "execute_result",
          "data": {
            "text/plain": [
              "4.0"
            ]
          },
          "metadata": {},
          "execution_count": 67
        }
      ]
    },
    {
      "cell_type": "code",
      "source": [
        "np.append(a,b)"
      ],
      "metadata": {
        "colab": {
          "base_uri": "https://localhost:8080/"
        },
        "id": "I7kCwUz6Knt4",
        "outputId": "3cdac052-6507-483b-9dd5-093ba3a6174c"
      },
      "execution_count": null,
      "outputs": [
        {
          "output_type": "execute_result",
          "data": {
            "text/plain": [
              "array([ 0,  5, 10, 15, 20,  0,  1,  2,  3,  4])"
            ]
          },
          "metadata": {},
          "execution_count": 68
        }
      ]
    },
    {
      "cell_type": "markdown",
      "source": [
        "**Additional Resources:**\n",
        "- [Numpy Cheatsheet](https://www.datacamp.com/cheat-sheet/numpy-cheat-sheet-data-analysis-in-python)\n",
        "\n"
      ],
      "metadata": {
        "id": "gJd4uTb0JgZE"
      }
    }
  ]
}