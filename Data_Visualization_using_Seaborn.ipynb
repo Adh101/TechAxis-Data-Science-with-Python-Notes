{
  "nbformat": 4,
  "nbformat_minor": 0,
  "metadata": {
    "colab": {
      "provenance": [],
      "authorship_tag": "ABX9TyNuhI231VUFQxQZkCVq3LXV",
      "include_colab_link": true
    },
    "kernelspec": {
      "name": "python3",
      "display_name": "Python 3"
    },
    "language_info": {
      "name": "python"
    }
  },
  "cells": [
    {
      "cell_type": "markdown",
      "metadata": {
        "id": "view-in-github",
        "colab_type": "text"
      },
      "source": [
        "<a href=\"https://colab.research.google.com/github/Adh101/TechAxis-Data-Science-with-Python-Notes/blob/main/Data_Visualization_using_Seaborn.ipynb\" target=\"_parent\"><img src=\"https://colab.research.google.com/assets/colab-badge.svg\" alt=\"Open In Colab\"/></a>"
      ]
    },
    {
      "cell_type": "markdown",
      "source": [
        "## Visualization With Seaborn\n",
        "\n",
        "- Seaborn is a Python data visualization library based on matplotlib.\n",
        "- It provides a high-level interface for drawing attractive and informative statistical graphics. It provide choices for plot style and color defaults, defines simple high-level functions for common statistical plot types, and integrates with the functionality provided by Pandas DataFrames.\n",
        "- The main idea of Seaborn is that it provides high-level commands to create a variety of plot types useful for statistical data exploration, and even some statistical model fitting.\n",
        "\n",
        "### Table of Contents\n",
        "\n",
        "1. Creating basic plots\n",
        "    - Line Chart\n",
        "    - Bar Chart\n",
        "    - Histogram\n",
        "    - Box plot\n",
        "    - Violin plot\n",
        "    - Scatter plot\n",
        "    - Hue semantic\n",
        "    - Bubble plot\n",
        "    - Pie Chart\n",
        "2. Advance Categorical plots in Seaborn\n",
        "3. Density plots\n",
        "4. Pair plots"
      ],
      "metadata": {
        "id": "OW75jMLa7hOd"
      }
    },
    {
      "cell_type": "code",
      "execution_count": 25,
      "metadata": {
        "id": "AI0s8IVD69DO"
      },
      "outputs": [],
      "source": [
        "#import the libraries\n",
        "import seaborn as sns\n",
        "sns.set()\n",
        "sns.set(style ='darkgrid')\n",
        "\n",
        "import numpy as np\n",
        "import pandas as pd\n",
        "\n",
        "import matplotlib.pyplot as plt\n",
        "%matplotlib inline\n",
        "\n",
        "import warnings\n",
        "warnings.filterwarnings(\"ignore\")\n",
        "\n",
        "plt.rcParams['figure.figsize']=(8,5)"
      ]
    },
    {
      "cell_type": "markdown",
      "source": [
        "# Load the dataset"
      ],
      "metadata": {
        "id": "BUhI9WVh8qbH"
      }
    },
    {
      "cell_type": "code",
      "source": [
        "#read the dataset\n",
        "data_BM = pd.read_csv(\"/content/bigmart_data.csv\")\n",
        "\n",
        "#drop the null values\n",
        "data_BM = data_BM.dropna(how = \"any\")\n",
        "\n",
        "data_BM.head()"
      ],
      "metadata": {
        "id": "gbf7IYYq8kM4"
      },
      "execution_count": null,
      "outputs": []
    },
    {
      "cell_type": "markdown",
      "source": [
        "## 1. Creating basic plots\n",
        "\n",
        "Let's have a look on how can you create some basic plots in seaborn in a single line for which multiple lines were required in matplotlib.\n",
        "\n",
        "#### Line Chart\n",
        "\n",
        " * With some datasets, you may want to understand changes in one variable as a function of time, or a similarly continuous variable.\n",
        " * In seaborn, this can be accomplished by the **lineplot()** function, either directly or with **relplot()** by setting **kind=\"line\":**"
      ],
      "metadata": {
        "id": "2zmOqLBA9qbM"
      }
    },
    {
      "cell_type": "code",
      "source": [
        "#lineplot\n",
        "sns.lineplot(x=\"Item_Weight\", y=\"Item_MRP\", data = data_BM[:50])"
      ],
      "metadata": {
        "id": "fAD7_6S793Ou"
      },
      "execution_count": null,
      "outputs": []
    },
    {
      "cell_type": "markdown",
      "source": [
        "#### Bar Chart\n",
        "\n",
        "- In seaborn, you can create a barchart by simply using the **barplot** function.\n",
        "- Notice that to achieve the same thing in matplotlib, we had to write extra code just to group the data category wise.\n",
        "- And then we had to write much more code to make sure that the plot comes out correct."
      ],
      "metadata": {
        "id": "oXb0A16z-9aY"
      }
    },
    {
      "cell_type": "code",
      "source": [
        "#bar plot\n",
        "sns.barplot(x='Item_Type', y='Item_MRP', data = data_BM[:5])"
      ],
      "metadata": {
        "id": "IaGCH5mo--gz"
      },
      "execution_count": null,
      "outputs": []
    },
    {
      "cell_type": "markdown",
      "source": [
        "#### Histogram\n",
        "\n",
        "- You can create a histogram in seaborn by simply using the **distplot()**. There are multiple options that we can use which we will see further in the notebook."
      ],
      "metadata": {
        "id": "oF2LdOuX_Y6o"
      }
    },
    {
      "cell_type": "code",
      "source": [
        "sns.distplot(data_BM['Item_MRP'], bins = 20)"
      ],
      "metadata": {
        "id": "tEneDlkk_Z7d"
      },
      "execution_count": null,
      "outputs": []
    },
    {
      "cell_type": "markdown",
      "source": [
        "#### Box plots\n",
        "\n",
        "- You can use the **boxplot()** for creating boxplots in seaborn.\n",
        "- Let's try to visualize the distribution of Item_Outlet_Sales of items."
      ],
      "metadata": {
        "id": "CZ0JDPxN_2U7"
      }
    },
    {
      "cell_type": "code",
      "source": [
        "sns.boxplot(data_BM['Item_Outlet_Sales'], orient = 'vertical')"
      ],
      "metadata": {
        "id": "2ze3TI6T_3Y4"
      },
      "execution_count": null,
      "outputs": []
    },
    {
      "cell_type": "markdown",
      "source": [
        "#### Violin plot\n",
        "\n",
        "- A violin plot plays a similar role as a box and whisker plot.\n",
        "- It shows the distribution of quantitative data across several levels of one (or more) categorical variables such that those distributions can be compared.\n",
        "- Unlike a box plot, in which all of the plot components correspond to actual datapoints, the violin plot features a kernel density estimation of the underlying distribution.\n",
        "- You can create a violinplot using the **violinplot()** in seaborn."
      ],
      "metadata": {
        "id": "EJZI6H57AMIM"
      }
    },
    {
      "cell_type": "code",
      "source": [
        "sns.violinplot(data_BM['Item_Outlet_Sales'], orient ='vertical', color = 'magenta')"
      ],
      "metadata": {
        "id": "j2uPXsQ8ANCQ"
      },
      "execution_count": null,
      "outputs": []
    },
    {
      "cell_type": "markdown",
      "source": [
        "#### Scatter plot\n",
        "\n",
        "* It depicts the distribution of two variables using a cloud of points, where each point represents an observation in the dataset.\n",
        "* This depiction allows the eye to infer a substantial amount of information about whether there is any meaningful relationship between them.\n",
        "- You can use **relplot()** with the option of `kind=scatter` to plot a scatter plot in seaborn.\n",
        "\n",
        "***NOTE : Here, we are going to use only a subset of the data for the plots.***"
      ],
      "metadata": {
        "id": "wmAoeOUoA2qv"
      }
    },
    {
      "cell_type": "code",
      "source": [
        "sns.relplot(x='Item_MRP', y='Item_Outlet_Sales', kind='scatter', data= data_BM[:200])"
      ],
      "metadata": {
        "id": "4tId8NGRA3XF"
      },
      "execution_count": null,
      "outputs": []
    },
    {
      "cell_type": "markdown",
      "source": [
        "#### Hue semantic\n",
        "\n",
        "*We can also add another dimension to the plot by coloring the points according to a third variable. In seaborn, this is referred to as using a “hue semantic”.*"
      ],
      "metadata": {
        "id": "Xly6cwV8BNNW"
      }
    },
    {
      "cell_type": "code",
      "source": [
        "sns.relplot(x='Item_MRP',y='Item_Outlet_Sales', hue ='Item_Type', data = data_BM[:200])"
      ],
      "metadata": {
        "id": "MvwNckHpBN4S"
      },
      "execution_count": null,
      "outputs": []
    },
    {
      "cell_type": "markdown",
      "source": [
        "- Remember the **line chart** that we created earlier? When we use **hue** semantic, we can create more complex line plots in seaborn.\n",
        "- In the following example, **different line plots for different categories of the Outlet_Size** are made."
      ],
      "metadata": {
        "id": "1aKQyaCoBpgH"
      }
    },
    {
      "cell_type": "code",
      "source": [
        "sns.lineplot(x='Item_Weight', y='Item_MRP', hue = 'Outlet_Size', data = data_BM[:200])"
      ],
      "metadata": {
        "id": "jkpyREWcBqeh"
      },
      "execution_count": null,
      "outputs": []
    },
    {
      "cell_type": "markdown",
      "source": [
        "#### Bubble plot\n",
        "\n",
        "- We utilize the **hue** semantic to color bubbles by their Item_Visibility and at the same time use it as size of individual bubbles."
      ],
      "metadata": {
        "id": "MvwRXCjSB_cI"
      }
    },
    {
      "cell_type": "code",
      "source": [
        "sns.relplot(x='Item_MRP', y='Item_Outlet_Sales', kind ='scatter', data =data_BM[:200],\n",
        "            hue ='Item_Visibility', size ='Item_Visibility')"
      ],
      "metadata": {
        "id": "HLnVoeRTCLiV"
      },
      "execution_count": null,
      "outputs": []
    },
    {
      "cell_type": "markdown",
      "source": [
        "#### Category wise sub plot\n",
        "\n",
        "- You can also create **plots based on category** in seaborn.\n",
        "- We have created scatter plots for each Outlet_Size"
      ],
      "metadata": {
        "id": "VXzC8IQxC3P7"
      }
    },
    {
      "cell_type": "code",
      "source": [
        "sns.relplot(x='Item_Weight', y='Item_Visibility', hue = 'Outlet_Size',\n",
        "            style = 'Outlet_Size',col ='Outlet_Size' ,data = data_BM[:200])"
      ],
      "metadata": {
        "id": "nTS-ctvTC4Eq"
      },
      "execution_count": null,
      "outputs": []
    }
  ]
}