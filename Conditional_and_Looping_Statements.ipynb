{
  "nbformat": 4,
  "nbformat_minor": 0,
  "metadata": {
    "colab": {
      "provenance": [],
      "authorship_tag": "ABX9TyNwbYH7SUU86mgK497Nd5AW",
      "include_colab_link": true
    },
    "kernelspec": {
      "name": "python3",
      "display_name": "Python 3"
    },
    "language_info": {
      "name": "python"
    }
  },
  "cells": [
    {
      "cell_type": "markdown",
      "metadata": {
        "id": "view-in-github",
        "colab_type": "text"
      },
      "source": [
        "<a href=\"https://colab.research.google.com/github/Adh101/TechAxis-Data-Science-with-Python-Notes/blob/main/Conditional_and_Looping_Statements.ipynb\" target=\"_parent\"><img src=\"https://colab.research.google.com/assets/colab-badge.svg\" alt=\"Open In Colab\"/></a>"
      ]
    },
    {
      "cell_type": "markdown",
      "source": [
        "# **Conditional Statements in Python**"
      ],
      "metadata": {
        "id": "XZ8bjJ73YLe1"
      }
    },
    {
      "cell_type": "markdown",
      "source": [
        "1. **If Else statements (Single Condition)**\n",
        "\n",
        "  Syntax:\n",
        "\n",
        "          If(condition):\n",
        "               statement 1\n",
        "          else:\n",
        "              statement 2\n",
        "\n",
        "2. **If-elif-else Statements (Multiple Conditions)**\n",
        "\n",
        "  Syntax:\n",
        "\n",
        "        If(condition 1):\n",
        "              statement 1\n",
        "        elif(condition 2):\n",
        "              statement 2\n",
        "        else:\n",
        "              statement 3\n",
        "  - You can put multiple elifs if you have multiple conditions to execute.\n"
      ],
      "metadata": {
        "id": "k-WkBtMdYshO"
      }
    },
    {
      "cell_type": "code",
      "source": [
        "#if-else\n",
        "\n",
        "#variable\n",
        "x = 0\n",
        "\n",
        "if(x>0):\n",
        "  print(\"x is positive\")\n",
        "else:\n",
        "  print(\"x is zero or negative\")"
      ],
      "metadata": {
        "id": "atX1hiNAbVMP",
        "colab": {
          "base_uri": "https://localhost:8080/"
        },
        "outputId": "ea038e16-7c41-4bf1-8d3d-2a664591be8e"
      },
      "execution_count": 5,
      "outputs": [
        {
          "output_type": "stream",
          "name": "stdout",
          "text": [
            "x is zero or negative\n"
          ]
        }
      ]
    },
    {
      "cell_type": "code",
      "source": [
        "#if-elif-else\n",
        "\n",
        "if(x>0):\n",
        "  print(\"x is positive\")\n",
        "elif(x==0):\n",
        "  print(\"x is zero\")\n",
        "else:\n",
        "  print(\"x is negative\")"
      ],
      "metadata": {
        "id": "W8vjqGoUbuVo",
        "colab": {
          "base_uri": "https://localhost:8080/"
        },
        "outputId": "686ebdf9-e694-4546-e09c-e08cbe366d7d"
      },
      "execution_count": 6,
      "outputs": [
        {
          "output_type": "stream",
          "name": "stdout",
          "text": [
            "x is zero\n"
          ]
        }
      ]
    },
    {
      "cell_type": "markdown",
      "source": [
        "**Problems:**\n",
        "\n",
        "1. ***Declare a variable x and print \"Even\" if it is divisible by 2 , otherwise print \"Odd\".***\n",
        "\n",
        "2. ***Declare a variable called \"marks\" and print \"Grade A\" if it is greather than 90, \"Grade B\" if it is greater than 70 but less than or equal to 90, print \"Grade C\" if it is greater than 50 but less than or equal to 70, otherwise print \"Grade D\".***\n"
      ],
      "metadata": {
        "id": "4tdCXh6dcdNj"
      }
    },
    {
      "cell_type": "code",
      "source": [
        "#problem 1\n",
        "\n",
        "x = 10\n",
        "if(x%2==0):\n",
        "  print(\"Even\")\n",
        "else:\n",
        "  print(\"Odd\")"
      ],
      "metadata": {
        "id": "B5GW7yBCdyyR",
        "colab": {
          "base_uri": "https://localhost:8080/"
        },
        "outputId": "b2717f12-bc64-449d-ba0a-3f90c83983e5"
      },
      "execution_count": 8,
      "outputs": [
        {
          "output_type": "stream",
          "name": "stdout",
          "text": [
            "Even\n"
          ]
        }
      ]
    },
    {
      "cell_type": "code",
      "source": [
        "#problem 2\n",
        "\n",
        "marks= 80\n",
        "if(marks > 90):\n",
        "  print(\"Grade A\")\n",
        "elif(marks > 70 and marks <=90):\n",
        "  print(\"Grade B\")\n",
        "elif(marks > 50 and marks <=70):\n",
        "  print(\"Grade C\")\n",
        "else:\n",
        "  print(\"Grade D\")"
      ],
      "metadata": {
        "id": "CmRbXhL4eCyn",
        "colab": {
          "base_uri": "https://localhost:8080/"
        },
        "outputId": "d14bda3f-5611-44e6-d587-de6c01c95c08"
      },
      "execution_count": 9,
      "outputs": [
        {
          "output_type": "stream",
          "name": "stdout",
          "text": [
            "Grade B\n"
          ]
        }
      ]
    },
    {
      "cell_type": "code",
      "source": [
        "#Guess the output of the following code\n",
        "\n",
        "marks= 50\n",
        "if(marks > 60):\n",
        "  print(\"Good\")\n",
        "else:\n",
        "  print(\"Improve\")"
      ],
      "metadata": {
        "id": "Un7IgFHEfDdu",
        "colab": {
          "base_uri": "https://localhost:8080/"
        },
        "outputId": "d5b53785-81c6-4090-de05-124fa5714718"
      },
      "execution_count": 10,
      "outputs": [
        {
          "output_type": "stream",
          "name": "stdout",
          "text": [
            "Improve\n"
          ]
        }
      ]
    },
    {
      "cell_type": "code",
      "source": [
        "if(5>9):\n",
        "\n",
        "  print(\"Fan\")\n",
        "\n",
        "elif(5!=9):\n",
        "\n",
        "  print(\"Glass\")\n",
        "\n",
        "else:\n",
        "  print(\"Cream\")"
      ],
      "metadata": {
        "id": "tYwZIya7fmUx",
        "colab": {
          "base_uri": "https://localhost:8080/"
        },
        "outputId": "4ca6dc9a-05b9-4652-ff18-b1c0b44b4815"
      },
      "execution_count": 11,
      "outputs": [
        {
          "output_type": "stream",
          "name": "stdout",
          "text": [
            "Glass\n"
          ]
        }
      ]
    },
    {
      "cell_type": "markdown",
      "source": [
        "# **Looping Constructs**\n",
        "- Looping is used in Python to exectute the block of code repeatedly.\n",
        "\n",
        "**Types of Loops:**\n",
        "  1. While loop\n",
        "  \n",
        "    Syntax:\n",
        "          while expressions:\n",
        "               statement\n",
        "\n",
        "Sample Example:\n",
        " *Print \"Hello World\", 1000 times.*\n",
        "\n",
        "        count = 0\n",
        "        while(count < 1000):\n",
        "          count = count + 1\n",
        "          print(\"Hello World\")\n",
        "          "
      ],
      "metadata": {
        "id": "pznONMKek2i4"
      }
    },
    {
      "cell_type": "code",
      "source": [
        "#print 5 times\n",
        "count= 0\n",
        "while(count < 5):\n",
        "  count= count +1\n",
        "  print(\"Hello World\")"
      ],
      "metadata": {
        "id": "wR_ZJ7hdnfvZ",
        "colab": {
          "base_uri": "https://localhost:8080/"
        },
        "outputId": "bbb24c84-b1b4-43cb-f246-0da8d592926a"
      },
      "execution_count": 12,
      "outputs": [
        {
          "output_type": "stream",
          "name": "stdout",
          "text": [
            "Hello World\n",
            "Hello World\n",
            "Hello World\n",
            "Hello World\n",
            "Hello World\n"
          ]
        }
      ]
    },
    {
      "cell_type": "code",
      "source": [
        "#using else with while loop\n",
        "count= 3\n",
        "while(count < 5):\n",
        "  count= count +1\n",
        "  print(\"Hello World\")\n",
        "else:\n",
        "  print(\"Not applicable\")"
      ],
      "metadata": {
        "id": "l3i33Ue7n1qv",
        "colab": {
          "base_uri": "https://localhost:8080/"
        },
        "outputId": "649530e3-13de-4709-9c35-63137a2e036e"
      },
      "execution_count": 15,
      "outputs": [
        {
          "output_type": "stream",
          "name": "stdout",
          "text": [
            "Hello World\n",
            "Hello World\n",
            "Not applicable\n"
          ]
        }
      ]
    },
    {
      "cell_type": "markdown",
      "source": [
        "2. For Loop:\n",
        "\n",
        "  Syntax:\n",
        "\n",
        "        for iterator in sequence:\n",
        "                statements\n",
        "  \n",
        "  Sample Example: Print \"Hello World\", 1000 times.\n",
        "          for i in range(1000):\n",
        "              print(\"Hello World\")"
      ],
      "metadata": {
        "id": "CFRE0c2boLaD"
      }
    },
    {
      "cell_type": "code",
      "source": [
        "#print 10 times\n",
        "\n",
        "for i in range(10):\n",
        "  print(\"Hello World\")"
      ],
      "metadata": {
        "id": "RXQTJKH4o0JK",
        "colab": {
          "base_uri": "https://localhost:8080/"
        },
        "outputId": "dc8e412e-0084-4429-8dab-2c99e6ec5dc4"
      },
      "execution_count": 16,
      "outputs": [
        {
          "output_type": "stream",
          "name": "stdout",
          "text": [
            "Hello World\n",
            "Hello World\n",
            "Hello World\n",
            "Hello World\n",
            "Hello World\n",
            "Hello World\n",
            "Hello World\n",
            "Hello World\n",
            "Hello World\n",
            "Hello World\n"
          ]
        }
      ]
    },
    {
      "cell_type": "code",
      "source": [
        "# Iterating over a list\n",
        "print(\"List Iteration\")\n",
        "l = [\"apple\", \"mango\", \"grapes\"]\n",
        "for i in l:\n",
        "\tprint(i)"
      ],
      "metadata": {
        "id": "3v2shpKEscCj",
        "colab": {
          "base_uri": "https://localhost:8080/"
        },
        "outputId": "10dfa508-7e58-4194-c954-ea2b7e6990be"
      },
      "execution_count": 19,
      "outputs": [
        {
          "output_type": "stream",
          "name": "stdout",
          "text": [
            "List Iteration\n",
            "apple\n",
            "mango\n",
            "grapes\n"
          ]
        }
      ]
    },
    {
      "cell_type": "code",
      "source": [
        "# Iterating over a tuple (immutable)\n",
        "print(\"\\nTuple Iteration\")\n",
        "t = (\"apple\", \"mango\", \"grapes\")\n",
        "for i in t:\n",
        "\tprint(i)"
      ],
      "metadata": {
        "id": "UrgdwwSNsecU",
        "colab": {
          "base_uri": "https://localhost:8080/"
        },
        "outputId": "0c050118-fc75-429c-b0e0-fb5879608fa6"
      },
      "execution_count": 20,
      "outputs": [
        {
          "output_type": "stream",
          "name": "stdout",
          "text": [
            "\n",
            "Tuple Iteration\n",
            "apple\n",
            "mango\n",
            "grapes\n"
          ]
        }
      ]
    },
    {
      "cell_type": "code",
      "source": [
        "# Iterating over a String\n",
        "print(\"\\nString Iteration\")\n",
        "s = \"Apple\"\n",
        "for i in s:\n",
        "\tprint(i)"
      ],
      "metadata": {
        "id": "1Nx1paNjskHM",
        "colab": {
          "base_uri": "https://localhost:8080/"
        },
        "outputId": "c4715467-1515-49fe-bc0c-87201f8acc7d"
      },
      "execution_count": 21,
      "outputs": [
        {
          "output_type": "stream",
          "name": "stdout",
          "text": [
            "\n",
            "String Iteration\n",
            "A\n",
            "p\n",
            "p\n",
            "l\n",
            "e\n"
          ]
        }
      ]
    },
    {
      "cell_type": "code",
      "source": [
        "# Iterating over dictionary(key:value pairs)\n",
        "print(\"\\nDictionary Iteration\")\n",
        "d = dict()\n",
        "d['xyz'] = 123\n",
        "d['abc'] = 345\n",
        "for i in d:\n",
        "\tprint(\"%s %d\" % (i, d[i]))"
      ],
      "metadata": {
        "id": "Vdh-mJ5Ssmsl",
        "colab": {
          "base_uri": "https://localhost:8080/"
        },
        "outputId": "1b0b26ee-3677-415c-ac27-c26da077df41"
      },
      "execution_count": 22,
      "outputs": [
        {
          "output_type": "stream",
          "name": "stdout",
          "text": [
            "\n",
            "Dictionary Iteration\n",
            "xyz 123\n",
            "abc 345\n"
          ]
        }
      ]
    },
    {
      "cell_type": "code",
      "source": [
        "dict = {'xyz':123,'abc':345}\n",
        "for i in dict:\n",
        "\tprint(\"%s %d\" % (i, d[i]))"
      ],
      "metadata": {
        "colab": {
          "base_uri": "https://localhost:8080/"
        },
        "id": "qtmsp2NtSkC8",
        "outputId": "eebd1395-5f1c-42de-d751-8c6622fa3cd9"
      },
      "execution_count": 23,
      "outputs": [
        {
          "output_type": "stream",
          "name": "stdout",
          "text": [
            "xyz 123\n",
            "abc 345\n"
          ]
        }
      ]
    },
    {
      "cell_type": "code",
      "source": [
        "# Iterating over a set\n",
        "print(\"\\nSet Iteration\")\n",
        "set1 = {1, 2, 3, 4, 5, 6}\n",
        "for i in set1:\n",
        "\tprint(i),"
      ],
      "metadata": {
        "id": "hjEix3NuspTG",
        "colab": {
          "base_uri": "https://localhost:8080/"
        },
        "outputId": "203dcdf8-ccf8-4f8c-f1cc-a347ffa74023"
      },
      "execution_count": 24,
      "outputs": [
        {
          "output_type": "stream",
          "name": "stdout",
          "text": [
            "\n",
            "Set Iteration\n",
            "1\n",
            "2\n",
            "3\n",
            "4\n",
            "5\n",
            "6\n"
          ]
        }
      ]
    },
    {
      "cell_type": "code",
      "source": [
        "#using else with for loop\n",
        "l = [\"apple\", \"mango\", \"grapes\"]\n",
        "for i in l:\n",
        "\tprint(i)\n",
        "else:\n",
        "  print(\"End of the list\")"
      ],
      "metadata": {
        "id": "mvGtFj7huBVa",
        "colab": {
          "base_uri": "https://localhost:8080/"
        },
        "outputId": "1c21b4cf-8d8a-47c7-e19d-2b6d5491d155"
      },
      "execution_count": 25,
      "outputs": [
        {
          "output_type": "stream",
          "name": "stdout",
          "text": [
            "apple\n",
            "mango\n",
            "grapes\n",
            "End of the list\n"
          ]
        }
      ]
    },
    {
      "cell_type": "markdown",
      "source": [
        "3. Nested Loop:\n",
        "\n",
        "    Syntax:\n",
        "    - Nested For Loops\n",
        "          for iterator in sequence:\n",
        "            for iterator in sequence:\n",
        "                statements(s)\n",
        "            statements(s)\n",
        "\n",
        "    - Nested While Loops\n",
        "          while expression:\n",
        "            while expression:\n",
        "                  statement(s)\n",
        "            statement(s)"
      ],
      "metadata": {
        "id": "KzX96wFcuOPM"
      }
    },
    {
      "cell_type": "code",
      "source": [
        "for i in range(1, 5):\n",
        "    for j in range(i):\n",
        "        print(i, end=' ')\n",
        "    print()"
      ],
      "metadata": {
        "colab": {
          "base_uri": "https://localhost:8080/"
        },
        "id": "nAxpXi_zvW9y",
        "outputId": "57527863-efee-4d51-bf65-ba63ad716a9a"
      },
      "execution_count": null,
      "outputs": [
        {
          "output_type": "stream",
          "name": "stdout",
          "text": [
            "1 \n",
            "2 2 \n",
            "3 3 3 \n",
            "4 4 4 4 \n"
          ]
        }
      ]
    },
    {
      "cell_type": "markdown",
      "source": [
        "**Problems:**\n",
        "\n",
        "***1. Write a loop to print all the numbers between 10 and 50.***\n",
        "\n",
        "***2. Write a loop to print all the odd numbers between 10 and 50.***"
      ],
      "metadata": {
        "id": "G9Uj0x362Hiq"
      }
    },
    {
      "cell_type": "code",
      "source": [
        "#all the numbers between 10 and 50\n",
        "num = 11\n",
        "while(num <= 49):\n",
        "  print(num)\n",
        "  num=num+1"
      ],
      "metadata": {
        "id": "H_i_BAka2dqG"
      },
      "execution_count": null,
      "outputs": []
    },
    {
      "cell_type": "code",
      "source": [
        "for i in range(11,50):\n",
        "  print(i)"
      ],
      "metadata": {
        "id": "aWGYSylb3Dtc"
      },
      "execution_count": null,
      "outputs": []
    },
    {
      "cell_type": "code",
      "source": [
        "#all odd numbers between 10 and 50\n",
        "odd_num = 11\n",
        "while(odd_num <= 49):\n",
        "  print(odd_num)\n",
        "  odd_num =odd_num +2"
      ],
      "metadata": {
        "id": "HhKomuiR4B8H"
      },
      "execution_count": null,
      "outputs": []
    },
    {
      "cell_type": "code",
      "source": [
        "for i in range(11,50,2):\n",
        "  print(i)"
      ],
      "metadata": {
        "id": "9paxmpkm4zGT"
      },
      "execution_count": null,
      "outputs": []
    }
  ]
}