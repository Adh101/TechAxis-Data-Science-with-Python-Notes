{
  "nbformat": 4,
  "nbformat_minor": 0,
  "metadata": {
    "colab": {
      "provenance": []
    },
    "kernelspec": {
      "name": "python3",
      "display_name": "Python 3"
    },
    "language_info": {
      "name": "python"
    }
  },
  "cells": [
    {
      "cell_type": "markdown",
      "source": [
        "# Centering and Scaling\n",
        "\n",
        "\n",
        "---\n",
        "- Centering and Scaling, also called Normalizing or Standardizing is another method to preprocess the data, to prepare for ML model.\n",
        "- As many models use some form of distance to inform them about the data, so we need to features to be in the same scale.\n",
        "- To tackle this, we perform scaling and centering of our data.\n",
        "\n",
        "**Ways to scale our data**\n",
        "  1. Subtract the mean and divide by variance:\n",
        "        - All features will be centered around 0 and have variance of 1.\n",
        "        - It is called 'Standardization'.\n",
        "  \n",
        "  2. Subtract the minimun and divide by range of data:\n",
        "        - All features will have minimum 0 and minimum 1.\n",
        "  \n",
        "  3. Normalize data so it ranges from -1 to 1.\n",
        "\n",
        "Here, we will use StandardScaler() for scaling the data.\n"
      ],
      "metadata": {
        "id": "0M3DAq0x2M3H"
      }
    },
    {
      "cell_type": "markdown",
      "source": [
        "**Scaling with scikit learn**"
      ],
      "metadata": {
        "id": "_ffMhFpA3we3"
      }
    },
    {
      "cell_type": "code",
      "source": [
        "import pandas as pd\n",
        "import numpy as np\n",
        "import matplotlib.pyplot as plt\n"
      ],
      "metadata": {
        "id": "5wZnNBmh4B-a"
      },
      "execution_count": null,
      "outputs": []
    },
    {
      "cell_type": "code",
      "source": [
        "from google.colab import drive\n",
        "drive.mount('/content/drive')\n",
        "\n",
        "music_df= pd.read_csv(\"/content/drive/MyDrive/music_clean.csv\")\n",
        "music_df.head(20)"
      ],
      "metadata": {
        "colab": {
          "base_uri": "https://localhost:8080/",
          "height": 732
        },
        "id": "B0LrVbJf4HZn",
        "outputId": "fe67b0c8-2eb9-48f6-9336-d6b78529c623"
      },
      "execution_count": null,
      "outputs": [
        {
          "output_type": "stream",
          "name": "stdout",
          "text": [
            "Drive already mounted at /content/drive; to attempt to forcibly remount, call drive.mount(\"/content/drive\", force_remount=True).\n"
          ]
        },
        {
          "output_type": "execute_result",
          "data": {
            "text/plain": [
              "    Unnamed: 0  popularity  acousticness  danceability  duration_ms  energy  \\\n",
              "0        36506        60.0      0.896000         0.726     214547.0   0.177   \n",
              "1        37591        63.0      0.003840         0.635     190448.0   0.908   \n",
              "2        37658        59.0      0.000075         0.352     456320.0   0.956   \n",
              "3        36060        54.0      0.945000         0.488     352280.0   0.326   \n",
              "4        35710        55.0      0.245000         0.667     273693.0   0.647   \n",
              "5        35111        62.0      0.010800         0.743     243333.0   0.670   \n",
              "6        35594        58.0      0.001070         0.500     207173.0   0.836   \n",
              "7        37473        74.0      0.076400         0.686     200467.0   0.783   \n",
              "8        37418        64.0      0.002720         0.235     227296.0   0.860   \n",
              "9        36605        55.0      0.122000         0.500     173773.0   0.854   \n",
              "10       37469        53.0      0.263000         0.200     310933.0   0.434   \n",
              "11       35233        61.0      0.608000         0.673     117013.0   0.349   \n",
              "12       35920        59.0      0.190000         0.444     206173.0   0.560   \n",
              "13       35799        67.0      0.010200         0.680     233947.0   0.536   \n",
              "14       38026        65.0      0.890000         0.600     217400.0   0.243   \n",
              "15       38548        58.0      0.880000         0.309     241013.0   0.179   \n",
              "16       36078        59.0      0.833000         0.471     267067.0   0.164   \n",
              "17       38356        58.0      0.084400         0.593         -1.0   0.837   \n",
              "18       36749        71.0      0.002900         0.736         -1.0   0.711   \n",
              "19       36089        59.0      0.008880         0.490     224960.0   0.951   \n",
              "\n",
              "    instrumentalness  liveness  loudness  speechiness       tempo  valence  \\\n",
              "0           0.000002    0.1160   -14.824       0.0353   92.934000    0.618   \n",
              "1           0.083400    0.2390    -4.795       0.0563  110.012000    0.637   \n",
              "2           0.020300    0.1250    -3.634       0.1490  122.897000    0.228   \n",
              "3           0.015700    0.1190   -12.020       0.0328  106.063000    0.323   \n",
              "4           0.000297    0.0633    -7.787       0.0487  143.995000    0.300   \n",
              "5           0.070200    0.2200    -4.547       0.0293  110.832000    0.934   \n",
              "6           0.000040    0.1970    -6.165       0.0454   90.011000    0.410   \n",
              "7           0.000000    0.1630    -4.977       0.1190  119.952961    0.814   \n",
              "8           0.096900    0.3880    -2.842       0.0561  127.788000    0.342   \n",
              "9           0.000000    0.0794    -5.151       0.0945   94.960000    0.404   \n",
              "10          0.000000    0.1170   -14.274       0.0294   83.876000    0.370   \n",
              "11          0.000000    0.3800   -12.414       0.0368  124.451000    0.609   \n",
              "12          0.000000    0.1170    -5.179       0.0267  172.224000    0.340   \n",
              "13          0.001050    0.1130    -6.669       0.0582  119.958000    0.417   \n",
              "14          0.002200    0.2490   -17.085       0.0366  110.535000    0.468   \n",
              "15          0.000346    0.1170   -17.077       0.0337  121.498000    0.167   \n",
              "16          0.000000    0.1010   -10.879       0.0324  125.242000    0.170   \n",
              "17          0.000000    0.1480    -4.834       0.0302   99.947000    0.569   \n",
              "18          0.000275    0.0948    -5.503       0.0352  112.309000    0.719   \n",
              "19          0.001260    0.3760    -3.888       0.0966  158.075000    0.628   \n",
              "\n",
              "    genre  \n",
              "0       1  \n",
              "1       1  \n",
              "2       1  \n",
              "3       1  \n",
              "4       1  \n",
              "5       1  \n",
              "6       1  \n",
              "7       1  \n",
              "8       1  \n",
              "9       1  \n",
              "10      1  \n",
              "11      1  \n",
              "12      1  \n",
              "13      1  \n",
              "14      1  \n",
              "15      1  \n",
              "16      1  \n",
              "17      1  \n",
              "18      1  \n",
              "19      1  "
            ],
            "text/html": [
              "\n",
              "  <div id=\"df-f05b2272-e12b-4ee0-8337-ceaaf86b2a64\" class=\"colab-df-container\">\n",
              "    <div>\n",
              "<style scoped>\n",
              "    .dataframe tbody tr th:only-of-type {\n",
              "        vertical-align: middle;\n",
              "    }\n",
              "\n",
              "    .dataframe tbody tr th {\n",
              "        vertical-align: top;\n",
              "    }\n",
              "\n",
              "    .dataframe thead th {\n",
              "        text-align: right;\n",
              "    }\n",
              "</style>\n",
              "<table border=\"1\" class=\"dataframe\">\n",
              "  <thead>\n",
              "    <tr style=\"text-align: right;\">\n",
              "      <th></th>\n",
              "      <th>Unnamed: 0</th>\n",
              "      <th>popularity</th>\n",
              "      <th>acousticness</th>\n",
              "      <th>danceability</th>\n",
              "      <th>duration_ms</th>\n",
              "      <th>energy</th>\n",
              "      <th>instrumentalness</th>\n",
              "      <th>liveness</th>\n",
              "      <th>loudness</th>\n",
              "      <th>speechiness</th>\n",
              "      <th>tempo</th>\n",
              "      <th>valence</th>\n",
              "      <th>genre</th>\n",
              "    </tr>\n",
              "  </thead>\n",
              "  <tbody>\n",
              "    <tr>\n",
              "      <th>0</th>\n",
              "      <td>36506</td>\n",
              "      <td>60.0</td>\n",
              "      <td>0.896000</td>\n",
              "      <td>0.726</td>\n",
              "      <td>214547.0</td>\n",
              "      <td>0.177</td>\n",
              "      <td>0.000002</td>\n",
              "      <td>0.1160</td>\n",
              "      <td>-14.824</td>\n",
              "      <td>0.0353</td>\n",
              "      <td>92.934000</td>\n",
              "      <td>0.618</td>\n",
              "      <td>1</td>\n",
              "    </tr>\n",
              "    <tr>\n",
              "      <th>1</th>\n",
              "      <td>37591</td>\n",
              "      <td>63.0</td>\n",
              "      <td>0.003840</td>\n",
              "      <td>0.635</td>\n",
              "      <td>190448.0</td>\n",
              "      <td>0.908</td>\n",
              "      <td>0.083400</td>\n",
              "      <td>0.2390</td>\n",
              "      <td>-4.795</td>\n",
              "      <td>0.0563</td>\n",
              "      <td>110.012000</td>\n",
              "      <td>0.637</td>\n",
              "      <td>1</td>\n",
              "    </tr>\n",
              "    <tr>\n",
              "      <th>2</th>\n",
              "      <td>37658</td>\n",
              "      <td>59.0</td>\n",
              "      <td>0.000075</td>\n",
              "      <td>0.352</td>\n",
              "      <td>456320.0</td>\n",
              "      <td>0.956</td>\n",
              "      <td>0.020300</td>\n",
              "      <td>0.1250</td>\n",
              "      <td>-3.634</td>\n",
              "      <td>0.1490</td>\n",
              "      <td>122.897000</td>\n",
              "      <td>0.228</td>\n",
              "      <td>1</td>\n",
              "    </tr>\n",
              "    <tr>\n",
              "      <th>3</th>\n",
              "      <td>36060</td>\n",
              "      <td>54.0</td>\n",
              "      <td>0.945000</td>\n",
              "      <td>0.488</td>\n",
              "      <td>352280.0</td>\n",
              "      <td>0.326</td>\n",
              "      <td>0.015700</td>\n",
              "      <td>0.1190</td>\n",
              "      <td>-12.020</td>\n",
              "      <td>0.0328</td>\n",
              "      <td>106.063000</td>\n",
              "      <td>0.323</td>\n",
              "      <td>1</td>\n",
              "    </tr>\n",
              "    <tr>\n",
              "      <th>4</th>\n",
              "      <td>35710</td>\n",
              "      <td>55.0</td>\n",
              "      <td>0.245000</td>\n",
              "      <td>0.667</td>\n",
              "      <td>273693.0</td>\n",
              "      <td>0.647</td>\n",
              "      <td>0.000297</td>\n",
              "      <td>0.0633</td>\n",
              "      <td>-7.787</td>\n",
              "      <td>0.0487</td>\n",
              "      <td>143.995000</td>\n",
              "      <td>0.300</td>\n",
              "      <td>1</td>\n",
              "    </tr>\n",
              "    <tr>\n",
              "      <th>5</th>\n",
              "      <td>35111</td>\n",
              "      <td>62.0</td>\n",
              "      <td>0.010800</td>\n",
              "      <td>0.743</td>\n",
              "      <td>243333.0</td>\n",
              "      <td>0.670</td>\n",
              "      <td>0.070200</td>\n",
              "      <td>0.2200</td>\n",
              "      <td>-4.547</td>\n",
              "      <td>0.0293</td>\n",
              "      <td>110.832000</td>\n",
              "      <td>0.934</td>\n",
              "      <td>1</td>\n",
              "    </tr>\n",
              "    <tr>\n",
              "      <th>6</th>\n",
              "      <td>35594</td>\n",
              "      <td>58.0</td>\n",
              "      <td>0.001070</td>\n",
              "      <td>0.500</td>\n",
              "      <td>207173.0</td>\n",
              "      <td>0.836</td>\n",
              "      <td>0.000040</td>\n",
              "      <td>0.1970</td>\n",
              "      <td>-6.165</td>\n",
              "      <td>0.0454</td>\n",
              "      <td>90.011000</td>\n",
              "      <td>0.410</td>\n",
              "      <td>1</td>\n",
              "    </tr>\n",
              "    <tr>\n",
              "      <th>7</th>\n",
              "      <td>37473</td>\n",
              "      <td>74.0</td>\n",
              "      <td>0.076400</td>\n",
              "      <td>0.686</td>\n",
              "      <td>200467.0</td>\n",
              "      <td>0.783</td>\n",
              "      <td>0.000000</td>\n",
              "      <td>0.1630</td>\n",
              "      <td>-4.977</td>\n",
              "      <td>0.1190</td>\n",
              "      <td>119.952961</td>\n",
              "      <td>0.814</td>\n",
              "      <td>1</td>\n",
              "    </tr>\n",
              "    <tr>\n",
              "      <th>8</th>\n",
              "      <td>37418</td>\n",
              "      <td>64.0</td>\n",
              "      <td>0.002720</td>\n",
              "      <td>0.235</td>\n",
              "      <td>227296.0</td>\n",
              "      <td>0.860</td>\n",
              "      <td>0.096900</td>\n",
              "      <td>0.3880</td>\n",
              "      <td>-2.842</td>\n",
              "      <td>0.0561</td>\n",
              "      <td>127.788000</td>\n",
              "      <td>0.342</td>\n",
              "      <td>1</td>\n",
              "    </tr>\n",
              "    <tr>\n",
              "      <th>9</th>\n",
              "      <td>36605</td>\n",
              "      <td>55.0</td>\n",
              "      <td>0.122000</td>\n",
              "      <td>0.500</td>\n",
              "      <td>173773.0</td>\n",
              "      <td>0.854</td>\n",
              "      <td>0.000000</td>\n",
              "      <td>0.0794</td>\n",
              "      <td>-5.151</td>\n",
              "      <td>0.0945</td>\n",
              "      <td>94.960000</td>\n",
              "      <td>0.404</td>\n",
              "      <td>1</td>\n",
              "    </tr>\n",
              "    <tr>\n",
              "      <th>10</th>\n",
              "      <td>37469</td>\n",
              "      <td>53.0</td>\n",
              "      <td>0.263000</td>\n",
              "      <td>0.200</td>\n",
              "      <td>310933.0</td>\n",
              "      <td>0.434</td>\n",
              "      <td>0.000000</td>\n",
              "      <td>0.1170</td>\n",
              "      <td>-14.274</td>\n",
              "      <td>0.0294</td>\n",
              "      <td>83.876000</td>\n",
              "      <td>0.370</td>\n",
              "      <td>1</td>\n",
              "    </tr>\n",
              "    <tr>\n",
              "      <th>11</th>\n",
              "      <td>35233</td>\n",
              "      <td>61.0</td>\n",
              "      <td>0.608000</td>\n",
              "      <td>0.673</td>\n",
              "      <td>117013.0</td>\n",
              "      <td>0.349</td>\n",
              "      <td>0.000000</td>\n",
              "      <td>0.3800</td>\n",
              "      <td>-12.414</td>\n",
              "      <td>0.0368</td>\n",
              "      <td>124.451000</td>\n",
              "      <td>0.609</td>\n",
              "      <td>1</td>\n",
              "    </tr>\n",
              "    <tr>\n",
              "      <th>12</th>\n",
              "      <td>35920</td>\n",
              "      <td>59.0</td>\n",
              "      <td>0.190000</td>\n",
              "      <td>0.444</td>\n",
              "      <td>206173.0</td>\n",
              "      <td>0.560</td>\n",
              "      <td>0.000000</td>\n",
              "      <td>0.1170</td>\n",
              "      <td>-5.179</td>\n",
              "      <td>0.0267</td>\n",
              "      <td>172.224000</td>\n",
              "      <td>0.340</td>\n",
              "      <td>1</td>\n",
              "    </tr>\n",
              "    <tr>\n",
              "      <th>13</th>\n",
              "      <td>35799</td>\n",
              "      <td>67.0</td>\n",
              "      <td>0.010200</td>\n",
              "      <td>0.680</td>\n",
              "      <td>233947.0</td>\n",
              "      <td>0.536</td>\n",
              "      <td>0.001050</td>\n",
              "      <td>0.1130</td>\n",
              "      <td>-6.669</td>\n",
              "      <td>0.0582</td>\n",
              "      <td>119.958000</td>\n",
              "      <td>0.417</td>\n",
              "      <td>1</td>\n",
              "    </tr>\n",
              "    <tr>\n",
              "      <th>14</th>\n",
              "      <td>38026</td>\n",
              "      <td>65.0</td>\n",
              "      <td>0.890000</td>\n",
              "      <td>0.600</td>\n",
              "      <td>217400.0</td>\n",
              "      <td>0.243</td>\n",
              "      <td>0.002200</td>\n",
              "      <td>0.2490</td>\n",
              "      <td>-17.085</td>\n",
              "      <td>0.0366</td>\n",
              "      <td>110.535000</td>\n",
              "      <td>0.468</td>\n",
              "      <td>1</td>\n",
              "    </tr>\n",
              "    <tr>\n",
              "      <th>15</th>\n",
              "      <td>38548</td>\n",
              "      <td>58.0</td>\n",
              "      <td>0.880000</td>\n",
              "      <td>0.309</td>\n",
              "      <td>241013.0</td>\n",
              "      <td>0.179</td>\n",
              "      <td>0.000346</td>\n",
              "      <td>0.1170</td>\n",
              "      <td>-17.077</td>\n",
              "      <td>0.0337</td>\n",
              "      <td>121.498000</td>\n",
              "      <td>0.167</td>\n",
              "      <td>1</td>\n",
              "    </tr>\n",
              "    <tr>\n",
              "      <th>16</th>\n",
              "      <td>36078</td>\n",
              "      <td>59.0</td>\n",
              "      <td>0.833000</td>\n",
              "      <td>0.471</td>\n",
              "      <td>267067.0</td>\n",
              "      <td>0.164</td>\n",
              "      <td>0.000000</td>\n",
              "      <td>0.1010</td>\n",
              "      <td>-10.879</td>\n",
              "      <td>0.0324</td>\n",
              "      <td>125.242000</td>\n",
              "      <td>0.170</td>\n",
              "      <td>1</td>\n",
              "    </tr>\n",
              "    <tr>\n",
              "      <th>17</th>\n",
              "      <td>38356</td>\n",
              "      <td>58.0</td>\n",
              "      <td>0.084400</td>\n",
              "      <td>0.593</td>\n",
              "      <td>-1.0</td>\n",
              "      <td>0.837</td>\n",
              "      <td>0.000000</td>\n",
              "      <td>0.1480</td>\n",
              "      <td>-4.834</td>\n",
              "      <td>0.0302</td>\n",
              "      <td>99.947000</td>\n",
              "      <td>0.569</td>\n",
              "      <td>1</td>\n",
              "    </tr>\n",
              "    <tr>\n",
              "      <th>18</th>\n",
              "      <td>36749</td>\n",
              "      <td>71.0</td>\n",
              "      <td>0.002900</td>\n",
              "      <td>0.736</td>\n",
              "      <td>-1.0</td>\n",
              "      <td>0.711</td>\n",
              "      <td>0.000275</td>\n",
              "      <td>0.0948</td>\n",
              "      <td>-5.503</td>\n",
              "      <td>0.0352</td>\n",
              "      <td>112.309000</td>\n",
              "      <td>0.719</td>\n",
              "      <td>1</td>\n",
              "    </tr>\n",
              "    <tr>\n",
              "      <th>19</th>\n",
              "      <td>36089</td>\n",
              "      <td>59.0</td>\n",
              "      <td>0.008880</td>\n",
              "      <td>0.490</td>\n",
              "      <td>224960.0</td>\n",
              "      <td>0.951</td>\n",
              "      <td>0.001260</td>\n",
              "      <td>0.3760</td>\n",
              "      <td>-3.888</td>\n",
              "      <td>0.0966</td>\n",
              "      <td>158.075000</td>\n",
              "      <td>0.628</td>\n",
              "      <td>1</td>\n",
              "    </tr>\n",
              "  </tbody>\n",
              "</table>\n",
              "</div>\n",
              "    <div class=\"colab-df-buttons\">\n",
              "\n",
              "  <div class=\"colab-df-container\">\n",
              "    <button class=\"colab-df-convert\" onclick=\"convertToInteractive('df-f05b2272-e12b-4ee0-8337-ceaaf86b2a64')\"\n",
              "            title=\"Convert this dataframe to an interactive table.\"\n",
              "            style=\"display:none;\">\n",
              "\n",
              "  <svg xmlns=\"http://www.w3.org/2000/svg\" height=\"24px\" viewBox=\"0 -960 960 960\">\n",
              "    <path d=\"M120-120v-720h720v720H120Zm60-500h600v-160H180v160Zm220 220h160v-160H400v160Zm0 220h160v-160H400v160ZM180-400h160v-160H180v160Zm440 0h160v-160H620v160ZM180-180h160v-160H180v160Zm440 0h160v-160H620v160Z\"/>\n",
              "  </svg>\n",
              "    </button>\n",
              "\n",
              "  <style>\n",
              "    .colab-df-container {\n",
              "      display:flex;\n",
              "      gap: 12px;\n",
              "    }\n",
              "\n",
              "    .colab-df-convert {\n",
              "      background-color: #E8F0FE;\n",
              "      border: none;\n",
              "      border-radius: 50%;\n",
              "      cursor: pointer;\n",
              "      display: none;\n",
              "      fill: #1967D2;\n",
              "      height: 32px;\n",
              "      padding: 0 0 0 0;\n",
              "      width: 32px;\n",
              "    }\n",
              "\n",
              "    .colab-df-convert:hover {\n",
              "      background-color: #E2EBFA;\n",
              "      box-shadow: 0px 1px 2px rgba(60, 64, 67, 0.3), 0px 1px 3px 1px rgba(60, 64, 67, 0.15);\n",
              "      fill: #174EA6;\n",
              "    }\n",
              "\n",
              "    .colab-df-buttons div {\n",
              "      margin-bottom: 4px;\n",
              "    }\n",
              "\n",
              "    [theme=dark] .colab-df-convert {\n",
              "      background-color: #3B4455;\n",
              "      fill: #D2E3FC;\n",
              "    }\n",
              "\n",
              "    [theme=dark] .colab-df-convert:hover {\n",
              "      background-color: #434B5C;\n",
              "      box-shadow: 0px 1px 3px 1px rgba(0, 0, 0, 0.15);\n",
              "      filter: drop-shadow(0px 1px 2px rgba(0, 0, 0, 0.3));\n",
              "      fill: #FFFFFF;\n",
              "    }\n",
              "  </style>\n",
              "\n",
              "    <script>\n",
              "      const buttonEl =\n",
              "        document.querySelector('#df-f05b2272-e12b-4ee0-8337-ceaaf86b2a64 button.colab-df-convert');\n",
              "      buttonEl.style.display =\n",
              "        google.colab.kernel.accessAllowed ? 'block' : 'none';\n",
              "\n",
              "      async function convertToInteractive(key) {\n",
              "        const element = document.querySelector('#df-f05b2272-e12b-4ee0-8337-ceaaf86b2a64');\n",
              "        const dataTable =\n",
              "          await google.colab.kernel.invokeFunction('convertToInteractive',\n",
              "                                                    [key], {});\n",
              "        if (!dataTable) return;\n",
              "\n",
              "        const docLinkHtml = 'Like what you see? Visit the ' +\n",
              "          '<a target=\"_blank\" href=https://colab.research.google.com/notebooks/data_table.ipynb>data table notebook</a>'\n",
              "          + ' to learn more about interactive tables.';\n",
              "        element.innerHTML = '';\n",
              "        dataTable['output_type'] = 'display_data';\n",
              "        await google.colab.output.renderOutput(dataTable, element);\n",
              "        const docLink = document.createElement('div');\n",
              "        docLink.innerHTML = docLinkHtml;\n",
              "        element.appendChild(docLink);\n",
              "      }\n",
              "    </script>\n",
              "  </div>\n",
              "\n",
              "\n",
              "<div id=\"df-30a4da05-eb49-4c13-bef0-d4132cc2b7c9\">\n",
              "  <button class=\"colab-df-quickchart\" onclick=\"quickchart('df-30a4da05-eb49-4c13-bef0-d4132cc2b7c9')\"\n",
              "            title=\"Suggest charts.\"\n",
              "            style=\"display:none;\">\n",
              "\n",
              "<svg xmlns=\"http://www.w3.org/2000/svg\" height=\"24px\"viewBox=\"0 0 24 24\"\n",
              "     width=\"24px\">\n",
              "    <g>\n",
              "        <path d=\"M19 3H5c-1.1 0-2 .9-2 2v14c0 1.1.9 2 2 2h14c1.1 0 2-.9 2-2V5c0-1.1-.9-2-2-2zM9 17H7v-7h2v7zm4 0h-2V7h2v10zm4 0h-2v-4h2v4z\"/>\n",
              "    </g>\n",
              "</svg>\n",
              "  </button>\n",
              "\n",
              "<style>\n",
              "  .colab-df-quickchart {\n",
              "    background-color: #E8F0FE;\n",
              "    border: none;\n",
              "    border-radius: 50%;\n",
              "    cursor: pointer;\n",
              "    display: none;\n",
              "    fill: #1967D2;\n",
              "    height: 32px;\n",
              "    padding: 0 0 0 0;\n",
              "    width: 32px;\n",
              "  }\n",
              "\n",
              "  .colab-df-quickchart:hover {\n",
              "    background-color: #E2EBFA;\n",
              "    box-shadow: 0px 1px 2px rgba(60, 64, 67, 0.3), 0px 1px 3px 1px rgba(60, 64, 67, 0.15);\n",
              "    fill: #174EA6;\n",
              "  }\n",
              "\n",
              "  [theme=dark] .colab-df-quickchart {\n",
              "    background-color: #3B4455;\n",
              "    fill: #D2E3FC;\n",
              "  }\n",
              "\n",
              "  [theme=dark] .colab-df-quickchart:hover {\n",
              "    background-color: #434B5C;\n",
              "    box-shadow: 0px 1px 3px 1px rgba(0, 0, 0, 0.15);\n",
              "    filter: drop-shadow(0px 1px 2px rgba(0, 0, 0, 0.3));\n",
              "    fill: #FFFFFF;\n",
              "  }\n",
              "</style>\n",
              "\n",
              "  <script>\n",
              "    async function quickchart(key) {\n",
              "      const charts = await google.colab.kernel.invokeFunction(\n",
              "          'suggestCharts', [key], {});\n",
              "    }\n",
              "    (() => {\n",
              "      let quickchartButtonEl =\n",
              "        document.querySelector('#df-30a4da05-eb49-4c13-bef0-d4132cc2b7c9 button');\n",
              "      quickchartButtonEl.style.display =\n",
              "        google.colab.kernel.accessAllowed ? 'block' : 'none';\n",
              "    })();\n",
              "  </script>\n",
              "</div>\n",
              "    </div>\n",
              "  </div>\n"
            ]
          },
          "metadata": {},
          "execution_count": 13
        }
      ]
    },
    {
      "cell_type": "code",
      "source": [
        "from sklearn.preprocessing import StandardScaler\n",
        "from sklearn.model_selection import train_test_split\n",
        "from sklearn.neighbors import KNeighborsClassifier\n",
        "from sklearn.pipeline import Pipeline"
      ],
      "metadata": {
        "id": "NSncaj0q30e1"
      },
      "execution_count": null,
      "outputs": []
    },
    {
      "cell_type": "code",
      "source": [
        "X = music_df.drop('genre',axis=1).values\n",
        "y = music_df['genre'].values"
      ],
      "metadata": {
        "id": "xd1VexFY5JC3"
      },
      "execution_count": null,
      "outputs": []
    },
    {
      "cell_type": "code",
      "source": [
        "#split the data\n",
        "X_train, X_test, y_train, y_test = train_test_split(X,y, test_size=0.3,\n",
        "                                                    random_state=42)"
      ],
      "metadata": {
        "id": "yRufTL7n5VPk"
      },
      "execution_count": null,
      "outputs": []
    },
    {
      "cell_type": "code",
      "source": [
        "#instantiate the scaler\n",
        "scaler = StandardScaler()"
      ],
      "metadata": {
        "id": "btiINz3O5vUr"
      },
      "execution_count": null,
      "outputs": []
    },
    {
      "cell_type": "code",
      "source": [
        "#scaling the features data\n",
        "X_train_scaled = scaler.fit_transform(X_train)\n",
        "X_test_scaled = scaler.transform(X_test)"
      ],
      "metadata": {
        "id": "Xc6sv3mh6IPg"
      },
      "execution_count": null,
      "outputs": []
    },
    {
      "cell_type": "code",
      "source": [
        "#comparing scaled and non scaled data\n",
        "print(np.mean(X),np.std(X))\n",
        "print(np.mean(X_train_scaled),np.std(X_train_scaled))"
      ],
      "metadata": {
        "colab": {
          "base_uri": "https://localhost:8080/"
        },
        "id": "Vd5vI-Yx6bMm",
        "outputId": "a8c294f8-e9bf-4256-9bd2-12d5fd64e965"
      },
      "execution_count": null,
      "outputs": [
        {
          "output_type": "stream",
          "name": "stdout",
          "text": [
            "20666.582585618085 68890.98734103922\n",
            "6.361049253471373e-16 1.0000000000000002\n"
          ]
        }
      ]
    },
    {
      "cell_type": "markdown",
      "source": [
        "We can see now our data is in smaller scale."
      ],
      "metadata": {
        "id": "SBDQsGB96x__"
      }
    },
    {
      "cell_type": "markdown",
      "source": [
        "**Scaling in a pipeline**"
      ],
      "metadata": {
        "id": "BFyP8ske7Ift"
      }
    },
    {
      "cell_type": "code",
      "source": [
        "#declare the steps\n",
        "steps =[('scaler',StandardScaler()),\n",
        "         ('knn', KNeighborsClassifier(n_neighbors=6))]\n",
        "\n",
        "#create pipeline\n",
        "pipeline = Pipeline(steps)\n",
        "\n",
        "#fit train data on pipeline to create scaled data\n",
        "knn_scaled = pipeline.fit(X_train,y_train)\n",
        "\n",
        "#make predictions\n",
        "y_pred = knn_scaled.predict(X_test)\n",
        "\n",
        "print(knn_scaled.score(X_test,y_test))"
      ],
      "metadata": {
        "colab": {
          "base_uri": "https://localhost:8080/"
        },
        "id": "aPuxuifx-yVY",
        "outputId": "c75a2f3e-0a0a-44a0-f82e-82a0494d0643"
      },
      "execution_count": null,
      "outputs": [
        {
          "output_type": "stream",
          "name": "stdout",
          "text": [
            "0.9066666666666666\n"
          ]
        }
      ]
    },
    {
      "cell_type": "markdown",
      "source": [
        "**Cross Validation and Scaling in a pipeline**"
      ],
      "metadata": {
        "id": "S-C6tCQCCCs7"
      }
    },
    {
      "cell_type": "code",
      "source": [
        "from sklearn.model_selection import GridSearchCV"
      ],
      "metadata": {
        "id": "gLCP5IsMCLlR"
      },
      "execution_count": null,
      "outputs": []
    },
    {
      "cell_type": "code",
      "source": [
        "#declare steps\n",
        "steps = [('scaler',StandardScaler()),\n",
        "         ('knn',KNeighborsClassifier(n_neighbors=6))]\n",
        "\n",
        "#instantiate pipeline\n",
        "pipeline = Pipeline(steps)\n",
        "\n",
        "#create param grid\n",
        "parameters = {'knn__n_neighbors':np.arange(1,50)}\n",
        "\n",
        "#cross validation\n",
        "cv = GridSearchCV(pipeline, param_grid = parameters)\n",
        "\n",
        "cv.fit(X_train,y_train)\n",
        "y_pred = cv.predict(X_test)\n",
        "\n",
        "print(cv.best_score_)\n",
        "print(cv.best_params_)"
      ],
      "metadata": {
        "colab": {
          "base_uri": "https://localhost:8080/"
        },
        "id": "mHYxufmbCSIC",
        "outputId": "f242d3cb-ac27-4170-8446-2e10793166f5"
      },
      "execution_count": null,
      "outputs": [
        {
          "output_type": "stream",
          "name": "stdout",
          "text": [
            "0.9242857142857144\n",
            "{'knn__n_neighbors': 4}\n"
          ]
        }
      ]
    },
    {
      "cell_type": "markdown",
      "source": [
        "# Evaluating the performances of multiple models\n",
        "\n",
        "\n",
        "---\n",
        "For Regression Model:\n",
        "  1. RMSE,\n",
        "  2. R-squared\n",
        "\n",
        "For Classification Model:\n",
        "  1. Accuracy,\n",
        "  2. Confusion Matrix,\n",
        "  3. Precision, Recall, F1-score,\n",
        "  4. ROC, AUC\n",
        "\n",
        "- Models affected by Scaling:\n",
        "    - KNN,\n",
        "    - Linear Regression (plus Ridge, Lasso),\n",
        "    - Logistic Regression,\n",
        "    - ANN\n",
        "  \n",
        "  Note: It is best to scale our data before evaluating the model.\n"
      ],
      "metadata": {
        "id": "8R-Hc-XAFcmf"
      }
    },
    {
      "cell_type": "code",
      "source": [
        "#evaluating performances of Logistic Regression, KNN and Decision Tree\n",
        "from sklearn.linear_model import LogisticRegression\n",
        "from sklearn.tree import DecisionTreeClassifier\n",
        "from sklearn.model_selection import KFold, cross_val_score"
      ],
      "metadata": {
        "id": "GRXPdeSFGxQz"
      },
      "execution_count": null,
      "outputs": []
    },
    {
      "cell_type": "code",
      "source": [
        "X = music_df.drop('genre',axis=1).values\n",
        "y = music_df['genre'].values\n",
        "\n",
        "X_train, X_test, y_train, y_test = train_test_split(X,y, test_size = 0.3,\n",
        "                                                    random_state =42)\n"
      ],
      "metadata": {
        "id": "DUWDD6MkHH79"
      },
      "execution_count": null,
      "outputs": []
    },
    {
      "cell_type": "code",
      "source": [
        "scaler= StandardScaler()\n",
        "\n",
        "X_train_scaled = scaler.fit_transform(X_train)\n",
        "X_test_scaled = scaler.transform(X_test)"
      ],
      "metadata": {
        "id": "3ppiXAYKHdXq"
      },
      "execution_count": null,
      "outputs": []
    },
    {
      "cell_type": "code",
      "source": [
        "#create dictionary of multiple models\n",
        "models = {'logreg':LogisticRegression(),\n",
        "          'knn':KNeighborsClassifier(n_neighbors=6),\n",
        "          'Decision Tree': DecisionTreeClassifier()}\n",
        "\n",
        "results= []"
      ],
      "metadata": {
        "id": "0bVhTLvRHwQd"
      },
      "execution_count": null,
      "outputs": []
    },
    {
      "cell_type": "code",
      "source": [
        "#apply kfold and cv in multiple models to measure accuracy\n",
        "\n",
        "for model in models.values():\n",
        "  kf = KFold(n_splits=6, shuffle = True, random_state =42)\n",
        "  cv_results = cross_val_score(model, X_train_scaled, y_train,\n",
        "                               cv = kf)\n",
        "  results.append(cv_results)\n",
        "\n",
        "plt.boxplot(results,labels=models.keys())\n",
        "plt.show()"
      ],
      "metadata": {
        "colab": {
          "base_uri": "https://localhost:8080/",
          "height": 430
        },
        "id": "zejiiZ1lIQO3",
        "outputId": "a68ab45f-b888-4506-83c0-22e91ea720db"
      },
      "execution_count": null,
      "outputs": [
        {
          "output_type": "display_data",
          "data": {
            "text/plain": [
              "<Figure size 640x480 with 1 Axes>"
            ],
            "image/png": "[encoded data removed]"
          },
          "metadata": {}
        }
      ]
    },
    {
      "cell_type": "code",
      "source": [
        "#testing models on test set\n",
        "\n",
        "for name,model in models.items():\n",
        "  model.fit(X_train_scaled, y_train)\n",
        "  test_score = model.score(X_test_scaled,y_test)\n",
        "\n",
        "  print('Test set accuracy:{},{}'.format(name,test_score))"
      ],
      "metadata": {
        "colab": {
          "base_uri": "https://localhost:8080/"
        },
        "id": "KEalmvtxJ2k7",
        "outputId": "becf7651-ebe1-4371-db9d-df5e6bc1dcf4"
      },
      "execution_count": null,
      "outputs": [
        {
          "output_type": "stream",
          "name": "stdout",
          "text": [
            "Test set accuracy:logreg,0.89\n",
            "Test set accuracy:knn,0.9066666666666666\n",
            "Test set accuracy:Decision Tree,1.0\n"
          ]
        }
      ]
    }
  ]
}